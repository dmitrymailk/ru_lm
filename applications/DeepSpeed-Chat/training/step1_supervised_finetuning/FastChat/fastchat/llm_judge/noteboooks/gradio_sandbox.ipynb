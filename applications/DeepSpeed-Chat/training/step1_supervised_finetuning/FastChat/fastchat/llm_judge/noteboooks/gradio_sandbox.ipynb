{
 "cells": [
  {
   "cell_type": "code",
   "execution_count": 2,
   "metadata": {},
   "outputs": [
    {
     "name": "stderr",
     "output_type": "stream",
     "text": [
      "/home/kosenko/miniconda3/lib/python3.10/site-packages/tqdm/auto.py:21: TqdmWarning: IProgress not found. Please update jupyter and ipywidgets. See https://ipywidgets.readthedocs.io/en/stable/user_install.html\n",
      "  from .autonotebook import tqdm as notebook_tqdm\n"
     ]
    }
   ],
   "source": [
    "%load_ext gradio"
   ]
  },
  {
   "cell_type": "code",
   "execution_count": 40,
   "metadata": {},
   "outputs": [
    {
     "name": "stdout",
     "output_type": "stream",
     "text": [
      "Running on local URL:  http://127.0.0.1:7861\n"
     ]
    },
    {
     "name": "stderr",
     "output_type": "stream",
     "text": [
      "/home/kosenko/miniconda3/lib/python3.10/site-packages/gradio/deprecation.py:43: UserWarning: You have unused kwarg parameters in Dropdown, please remove them: {'container': False}\n",
      "  warnings.warn(\n"
     ]
    },
    {
     "data": {
      "text/html": [
       "<div><iframe src=\"http://127.0.0.1:7861/\" width=\"100%\" height=\"500\" allow=\"autoplay; camera; microphone; clipboard-read; clipboard-write;\" frameborder=\"0\" allowfullscreen></iframe></div>"
      ],
      "text/plain": [
       "<IPython.core.display.HTML object>"
      ]
     },
     "metadata": {},
     "output_type": "display_data"
    },
    {
     "name": "stdout",
     "output_type": "stream",
     "text": [
      "question text 1 model 1 model 2\n",
      "category_1 model 1 model 2\n"
     ]
    }
   ],
   "source": [
    "%%blocks \n",
    "\n",
    "import gradio as gr\n",
    "\n",
    "class SideBySide:\n",
    "    def __init__(self, gr=None):\n",
    "        # self.gr = gr\n",
    "        \n",
    "        gr.Markdown(\"# Side by side comparison\")\n",
    "\n",
    "        category_selector_choices = ['category_1', 'category_2']\n",
    "        question_selector_choices = ['question text 1', 'question text 2']\n",
    "        \n",
    "        self.question_and_generations = {\n",
    "            question: {\n",
    "                \"question_1\": {\n",
    "                    \"text\": 'Question text 1',\n",
    "                    \"model_1\": 'model 1 response',\n",
    "                    \"model_2\": 'model 1 response',\n",
    "                },\n",
    "                \"question_2\": {\n",
    "                    \"text\": 'Question text 2',\n",
    "                    \"model_1\": 'model 1 response',\n",
    "                    \"model_2\": 'model 1 response',\n",
    "                },\n",
    "            } for question in question_selector_choices}\n",
    "        # Selectors\n",
    "        with gr.Row():\n",
    "            with gr.Column(scale=1, min_width=200):\n",
    "                category_selector = gr.Dropdown(\n",
    "                    choices=category_selector_choices, label=\"Category\", container=False\n",
    "                )\n",
    "            with gr.Column(scale=100):\n",
    "                question_selector = gr.Dropdown(\n",
    "                    choices=question_selector_choices, label=\"Question\", container=False\n",
    "                )\n",
    "        \n",
    "        num_sides = 2\n",
    "        num_turns = 2\n",
    "        model_selectors = [None] * num_sides\n",
    "        models = ['model 1', 'model 2']\n",
    "        with gr.Row():\n",
    "            for i in range(num_sides):\n",
    "                with gr.Column():\n",
    "                    model_selectors[i] = gr.Dropdown(\n",
    "                        choices=models,\n",
    "                        label=f\"Model {i}\",\n",
    "                        value=models[i]\n",
    "                    )\n",
    "        \n",
    "        chat_mds = []\n",
    "        for i in range(num_turns):\n",
    "            chat_mds.append(gr.Markdown(elem_id=f\"user_question_{i+1}\"))\n",
    "            with gr.Row():\n",
    "                for j in range(num_sides):\n",
    "                    with gr.Column(scale=100):\n",
    "                        chat_mds.append(gr.Markdown())\n",
    "            with gr.Row():\n",
    "                model_explanation = gr.Markdown(elem_id=\"model_explanation\")\n",
    "                model_explanation2 = gr.Markdown(elem_id=\"model_explanation\")\n",
    "                chat_mds.append(model_explanation)\n",
    "                chat_mds.append(model_explanation2)\n",
    "        \n",
    "        category_selector.change(self.display_question, [category_selector], [question_selector])\n",
    "        question_selector.change(\n",
    "            self.display_pairwise_answer,\n",
    "            [question_selector] + model_selectors,\n",
    "            chat_mds,\n",
    "        )\n",
    "\n",
    "        # for i in range(num_sides):\n",
    "        #     model_selectors[i].change(\n",
    "        #         display_pairwise_answer,\n",
    "        #         [question_selector] + model_selectors,\n",
    "        #         chat_mds + [model_explanation] + [model_explanation2],\n",
    "        #     )\n",
    "    \n",
    "    def display_question(self, choice):\n",
    "        return choice\n",
    "    \n",
    "    def display_pairwise_answer(self, question_selector, model_selector1, model_selector2):\n",
    "        print(question_selector, model_selector1, model_selector2)\n",
    "        result =  [\n",
    "            \"question 1\", \n",
    "            \"model 1 answer\", \n",
    "            \"model 2 answer\", \n",
    "            \"model 1 explanation\", \n",
    "            \"model 2 explanation\", \n",
    "            \"question 2\", \n",
    "            \"model 1 answer\", \n",
    "            \"model 2 answer\", \n",
    "            \"model 1 explanation\", \n",
    "            \"model 2 explanation\",\n",
    "        ]\n",
    "        \n",
    "        return result\n",
    "        \n",
    "        \n",
    "    \n",
    "SideBySide(gr=gr)"
   ]
  }
 ],
 "metadata": {
  "kernelspec": {
   "display_name": "base",
   "language": "python",
   "name": "python3"
  },
  "language_info": {
   "codemirror_mode": {
    "name": "ipython",
    "version": 3
   },
   "file_extension": ".py",
   "mimetype": "text/x-python",
   "name": "python",
   "nbconvert_exporter": "python",
   "pygments_lexer": "ipython3",
   "version": "3.10.9"
  },
  "orig_nbformat": 4
 },
 "nbformat": 4,
 "nbformat_minor": 2
}
