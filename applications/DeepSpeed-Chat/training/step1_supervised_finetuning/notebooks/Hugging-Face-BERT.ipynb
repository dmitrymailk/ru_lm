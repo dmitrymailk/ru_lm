{
 "cells": [
  {
   "cell_type": "code",
   "execution_count": 1,
   "id": "9369b63c",
   "metadata": {},
   "outputs": [],
   "source": [
    "# Copyright 2022 NVIDIA Corporation. All Rights Reserved.\n",
    "#\n",
    "# Licensed under the Apache License, Version 2.0 (the \"License\");\n",
    "# you may not use this file except in compliance with the License.\n",
    "# You may obtain a copy of the License at\n",
    "#\n",
    "#     http://www.apache.org/licenses/LICENSE-2.0\n",
    "#\n",
    "# Unless required by applicable law or agreed to in writing, software\n",
    "# distributed under the License is distributed on an \"AS IS\" BASIS,\n",
    "# WITHOUT WARRANTIES OR CONDITIONS OF ANY KIND, either express or implied.\n",
    "# See the License for the specific language governing permissions and\n",
    "# limitations under the License.\n",
    "# =============================================================================="
   ]
  },
  {
   "attachments": {},
   "cell_type": "markdown",
   "id": "d0a97ac5",
   "metadata": {},
   "source": [
    "<img src=\"http://developer.download.nvidia.com/notebooks/dlsw-notebooks/tensorrt_torchtrt_hf_bert/nvidia_logo.png\" width=\"90px\">\n",
    "\n",
    "\n",
    "# Masked Language Modeling (MLM) with Hugging Face BERT Transformer"
   ]
  },
  {
   "attachments": {},
   "cell_type": "markdown",
   "id": "83f47edb",
   "metadata": {},
   "source": [
    "## Learning objectives\n",
    "\n",
    "This notebook demonstrates the steps for compiling a TorchScript module with Torch-TensorRT on a pretrained BERT transformer from Hugging Face, and running it to test the speedup obtained.\n",
    "\n",
    "## Contents\n",
    "1. [Requirements](#1)\n",
    "2. [BERT Overview](#2)\n",
    "3. [Creating TorchScript modules](#3)\n",
    "4. [Compiling with Torch-TensorRT](#4)\n",
    "5. [Benchmarking](#5)\n",
    "6. [Conclusion](#6)"
   ]
  },
  {
   "attachments": {},
   "cell_type": "markdown",
   "id": "596fa151",
   "metadata": {},
   "source": [
    "<a id=\"1\"></a>\n",
    "## 1. Requirements\n",
    "\n",
    "NVIDIA's NGC provides a PyTorch Docker Container which contains PyTorch and Torch-TensorRT. Starting with version `22.05-py3`, we can make use of [latest pytorch](https://catalog.ngc.nvidia.com/orgs/nvidia/containers/pytorch) container to run this notebook.\n",
    "\n",
    "Otherwise, you can follow the steps in `notebooks/README` to prepare a Docker container yourself, within which you can run this demo notebook."
   ]
  },
  {
   "cell_type": "code",
   "execution_count": null,
   "id": "58e687d1",
   "metadata": {},
   "outputs": [],
   "source": [
    "!pip install transformers"
   ]
  },
  {
   "cell_type": "code",
   "execution_count": 1,
   "id": "1104c4f1",
   "metadata": {},
   "outputs": [
    {
     "name": "stderr",
     "output_type": "stream",
     "text": [
      "/home/kosenko/miniconda3/lib/python3.10/site-packages/tqdm/auto.py:22: TqdmWarning: IProgress not found. Please update jupyter and ipywidgets. See https://ipywidgets.readthedocs.io/en/stable/user_install.html\n",
      "  from .autonotebook import tqdm as notebook_tqdm\n"
     ]
    },
    {
     "data": {
      "text/html": [
       "<pre style=\"white-space:pre;overflow-x:auto;line-height:normal;font-family:Menlo,'DejaVu Sans Mono',consolas,'Courier New',monospace\"><span style=\"color: #800000; text-decoration-color: #800000\">╭─────────────────────────────── </span><span style=\"color: #800000; text-decoration-color: #800000; font-weight: bold\">Traceback </span><span style=\"color: #bf7f7f; text-decoration-color: #bf7f7f; font-weight: bold\">(most recent call last)</span><span style=\"color: #800000; text-decoration-color: #800000\"> ────────────────────────────────╮</span>\n",
       "<span style=\"color: #800000; text-decoration-color: #800000\">│</span> in <span style=\"color: #00ff00; text-decoration-color: #00ff00\">&lt;module&gt;</span>:<span style=\"color: #0000ff; text-decoration-color: #0000ff\">5</span>                                                                                    <span style=\"color: #800000; text-decoration-color: #800000\">│</span>\n",
       "<span style=\"color: #800000; text-decoration-color: #800000\">│</span>                                                                                                  <span style=\"color: #800000; text-decoration-color: #800000\">│</span>\n",
       "<span style=\"color: #800000; text-decoration-color: #800000\">│</span>   <span style=\"color: #7f7f7f; text-decoration-color: #7f7f7f\">2 </span><span style=\"color: #0000ff; text-decoration-color: #0000ff\">import</span> <span style=\"color: #00ffff; text-decoration-color: #00ffff; text-decoration: underline\">torch</span>                                                                                 <span style=\"color: #800000; text-decoration-color: #800000\">│</span>\n",
       "<span style=\"color: #800000; text-decoration-color: #800000\">│</span>   <span style=\"color: #7f7f7f; text-decoration-color: #7f7f7f\">3 </span><span style=\"color: #0000ff; text-decoration-color: #0000ff\">import</span> <span style=\"color: #00ffff; text-decoration-color: #00ffff; text-decoration: underline\">timeit</span>                                                                                <span style=\"color: #800000; text-decoration-color: #800000\">│</span>\n",
       "<span style=\"color: #800000; text-decoration-color: #800000\">│</span>   <span style=\"color: #7f7f7f; text-decoration-color: #7f7f7f\">4 </span><span style=\"color: #0000ff; text-decoration-color: #0000ff\">import</span> <span style=\"color: #00ffff; text-decoration-color: #00ffff; text-decoration: underline\">numpy</span> <span style=\"color: #0000ff; text-decoration-color: #0000ff\">as</span> <span style=\"color: #00ffff; text-decoration-color: #00ffff; text-decoration: underline\">np</span>                                                                           <span style=\"color: #800000; text-decoration-color: #800000\">│</span>\n",
       "<span style=\"color: #800000; text-decoration-color: #800000\">│</span> <span style=\"color: #800000; text-decoration-color: #800000\">❱ </span>5 <span style=\"color: #0000ff; text-decoration-color: #0000ff\">import</span> <span style=\"color: #00ffff; text-decoration-color: #00ffff; text-decoration: underline\">torch_tensorrt</span>                                                                        <span style=\"color: #800000; text-decoration-color: #800000\">│</span>\n",
       "<span style=\"color: #800000; text-decoration-color: #800000\">│</span>   <span style=\"color: #7f7f7f; text-decoration-color: #7f7f7f\">6 </span><span style=\"color: #0000ff; text-decoration-color: #0000ff\">import</span> <span style=\"color: #00ffff; text-decoration-color: #00ffff; text-decoration: underline\">torch.backends.cudnn</span> <span style=\"color: #0000ff; text-decoration-color: #0000ff\">as</span> <span style=\"color: #00ffff; text-decoration-color: #00ffff; text-decoration: underline\">cudnn</span>                                                         <span style=\"color: #800000; text-decoration-color: #800000\">│</span>\n",
       "<span style=\"color: #800000; text-decoration-color: #800000\">│</span>   <span style=\"color: #7f7f7f; text-decoration-color: #7f7f7f\">7 </span>                                                                                             <span style=\"color: #800000; text-decoration-color: #800000\">│</span>\n",
       "<span style=\"color: #800000; text-decoration-color: #800000\">│</span>                                                                                                  <span style=\"color: #800000; text-decoration-color: #800000\">│</span>\n",
       "<span style=\"color: #800000; text-decoration-color: #800000\">│</span> <span style=\"color: #bfbf7f; text-decoration-color: #bfbf7f\">/home/kosenko/miniconda3/lib/python3.10/site-packages/torch_tensorrt/</span><span style=\"color: #808000; text-decoration-color: #808000; font-weight: bold\">__init__.py</span>:<span style=\"color: #0000ff; text-decoration-color: #0000ff\">85</span> in <span style=\"color: #00ff00; text-decoration-color: #00ff00\">&lt;module&gt;</span>  <span style=\"color: #800000; text-decoration-color: #800000\">│</span>\n",
       "<span style=\"color: #800000; text-decoration-color: #800000\">│</span>                                                                                                  <span style=\"color: #800000; text-decoration-color: #800000\">│</span>\n",
       "<span style=\"color: #800000; text-decoration-color: #800000\">│</span>   <span style=\"color: #7f7f7f; text-decoration-color: #7f7f7f\"> 82 </span>                                                                                           <span style=\"color: #800000; text-decoration-color: #800000\">│</span>\n",
       "<span style=\"color: #800000; text-decoration-color: #800000\">│</span>   <span style=\"color: #7f7f7f; text-decoration-color: #7f7f7f\"> 83 </span><span style=\"color: #0000ff; text-decoration-color: #0000ff\">import</span> <span style=\"color: #00ffff; text-decoration-color: #00ffff; text-decoration: underline\">torch</span>                                                                               <span style=\"color: #800000; text-decoration-color: #800000\">│</span>\n",
       "<span style=\"color: #800000; text-decoration-color: #800000\">│</span>   <span style=\"color: #7f7f7f; text-decoration-color: #7f7f7f\"> 84 </span>                                                                                           <span style=\"color: #800000; text-decoration-color: #800000\">│</span>\n",
       "<span style=\"color: #800000; text-decoration-color: #800000\">│</span> <span style=\"color: #800000; text-decoration-color: #800000\">❱ </span> 85 <span style=\"color: #0000ff; text-decoration-color: #0000ff\">from</span> <span style=\"color: #00ffff; text-decoration-color: #00ffff; text-decoration: underline\">torch_tensorrt._compile</span> <span style=\"color: #0000ff; text-decoration-color: #0000ff\">import</span> *                                                      <span style=\"color: #800000; text-decoration-color: #800000\">│</span>\n",
       "<span style=\"color: #800000; text-decoration-color: #800000\">│</span>   <span style=\"color: #7f7f7f; text-decoration-color: #7f7f7f\"> 86 </span><span style=\"color: #0000ff; text-decoration-color: #0000ff\">from</span> <span style=\"color: #00ffff; text-decoration-color: #00ffff; text-decoration: underline\">torch_tensorrt._util</span> <span style=\"color: #0000ff; text-decoration-color: #0000ff\">import</span> *                                                         <span style=\"color: #800000; text-decoration-color: #800000\">│</span>\n",
       "<span style=\"color: #800000; text-decoration-color: #800000\">│</span>   <span style=\"color: #7f7f7f; text-decoration-color: #7f7f7f\"> 87 </span><span style=\"color: #0000ff; text-decoration-color: #0000ff\">from</span> <span style=\"color: #00ffff; text-decoration-color: #00ffff; text-decoration: underline\">torch_tensorrt</span> <span style=\"color: #0000ff; text-decoration-color: #0000ff\">import</span> ts                                                              <span style=\"color: #800000; text-decoration-color: #800000\">│</span>\n",
       "<span style=\"color: #800000; text-decoration-color: #800000\">│</span>   <span style=\"color: #7f7f7f; text-decoration-color: #7f7f7f\"> 88 </span><span style=\"color: #0000ff; text-decoration-color: #0000ff\">from</span> <span style=\"color: #00ffff; text-decoration-color: #00ffff; text-decoration: underline\">torch_tensorrt</span> <span style=\"color: #0000ff; text-decoration-color: #0000ff\">import</span> ptq                                                             <span style=\"color: #800000; text-decoration-color: #800000\">│</span>\n",
       "<span style=\"color: #800000; text-decoration-color: #800000\">│</span>                                                                                                  <span style=\"color: #800000; text-decoration-color: #800000\">│</span>\n",
       "<span style=\"color: #800000; text-decoration-color: #800000\">│</span> <span style=\"color: #bfbf7f; text-decoration-color: #bfbf7f\">/home/kosenko/miniconda3/lib/python3.10/site-packages/torch_tensorrt/</span><span style=\"color: #808000; text-decoration-color: #808000; font-weight: bold\">_compile.py</span>:<span style=\"color: #0000ff; text-decoration-color: #0000ff\">2</span> in <span style=\"color: #00ff00; text-decoration-color: #00ff00\">&lt;module&gt;</span>   <span style=\"color: #800000; text-decoration-color: #800000\">│</span>\n",
       "<span style=\"color: #800000; text-decoration-color: #800000\">│</span>                                                                                                  <span style=\"color: #800000; text-decoration-color: #800000\">│</span>\n",
       "<span style=\"color: #800000; text-decoration-color: #800000\">│</span>   <span style=\"color: #7f7f7f; text-decoration-color: #7f7f7f\">  1 </span><span style=\"color: #0000ff; text-decoration-color: #0000ff\">from</span> <span style=\"color: #00ffff; text-decoration-color: #00ffff; text-decoration: underline\">typing</span> <span style=\"color: #0000ff; text-decoration-color: #0000ff\">import</span> List, Dict, Any                                                         <span style=\"color: #800000; text-decoration-color: #800000\">│</span>\n",
       "<span style=\"color: #800000; text-decoration-color: #800000\">│</span> <span style=\"color: #800000; text-decoration-color: #800000\">❱ </span>  2 <span style=\"color: #0000ff; text-decoration-color: #0000ff\">from</span> <span style=\"color: #00ffff; text-decoration-color: #00ffff; text-decoration: underline\">torch_tensorrt</span> <span style=\"color: #0000ff; text-decoration-color: #0000ff\">import</span> _enums                                                          <span style=\"color: #800000; text-decoration-color: #800000\">│</span>\n",
       "<span style=\"color: #800000; text-decoration-color: #800000\">│</span>   <span style=\"color: #7f7f7f; text-decoration-color: #7f7f7f\">  3 </span><span style=\"color: #0000ff; text-decoration-color: #0000ff\">import</span> <span style=\"color: #00ffff; text-decoration-color: #00ffff; text-decoration: underline\">torch_tensorrt.ts</span>                                                                   <span style=\"color: #800000; text-decoration-color: #800000\">│</span>\n",
       "<span style=\"color: #800000; text-decoration-color: #800000\">│</span>   <span style=\"color: #7f7f7f; text-decoration-color: #7f7f7f\">  4 </span><span style=\"color: #0000ff; text-decoration-color: #0000ff\">from</span> <span style=\"color: #00ffff; text-decoration-color: #00ffff; text-decoration: underline\">torch_tensorrt</span> <span style=\"color: #0000ff; text-decoration-color: #0000ff\">import</span> logging                                                         <span style=\"color: #800000; text-decoration-color: #800000\">│</span>\n",
       "<span style=\"color: #800000; text-decoration-color: #800000\">│</span>   <span style=\"color: #7f7f7f; text-decoration-color: #7f7f7f\">  5 </span><span style=\"color: #0000ff; text-decoration-color: #0000ff\">import</span> <span style=\"color: #00ffff; text-decoration-color: #00ffff; text-decoration: underline\">torch</span>                                                                               <span style=\"color: #800000; text-decoration-color: #800000\">│</span>\n",
       "<span style=\"color: #800000; text-decoration-color: #800000\">│</span>                                                                                                  <span style=\"color: #800000; text-decoration-color: #800000\">│</span>\n",
       "<span style=\"color: #800000; text-decoration-color: #800000\">│</span> <span style=\"color: #bfbf7f; text-decoration-color: #bfbf7f\">/home/kosenko/miniconda3/lib/python3.10/site-packages/torch_tensorrt/</span><span style=\"color: #808000; text-decoration-color: #808000; font-weight: bold\">_enums.py</span>:<span style=\"color: #0000ff; text-decoration-color: #0000ff\">1</span> in <span style=\"color: #00ff00; text-decoration-color: #00ff00\">&lt;module&gt;</span>     <span style=\"color: #800000; text-decoration-color: #800000\">│</span>\n",
       "<span style=\"color: #800000; text-decoration-color: #800000\">│</span>                                                                                                  <span style=\"color: #800000; text-decoration-color: #800000\">│</span>\n",
       "<span style=\"color: #800000; text-decoration-color: #800000\">│</span> <span style=\"color: #800000; text-decoration-color: #800000\">❱ </span>1 <span style=\"color: #0000ff; text-decoration-color: #0000ff\">from</span> <span style=\"color: #00ffff; text-decoration-color: #00ffff; text-decoration: underline\">torch_tensorrt._C</span> <span style=\"color: #0000ff; text-decoration-color: #0000ff\">import</span> dtype, DeviceType, EngineCapability, TensorFormat              <span style=\"color: #800000; text-decoration-color: #800000\">│</span>\n",
       "<span style=\"color: #800000; text-decoration-color: #800000\">│</span>   <span style=\"color: #7f7f7f; text-decoration-color: #7f7f7f\">2 </span>                                                                                             <span style=\"color: #800000; text-decoration-color: #800000\">│</span>\n",
       "<span style=\"color: #800000; text-decoration-color: #800000\">╰──────────────────────────────────────────────────────────────────────────────────────────────────╯</span>\n",
       "<span style=\"color: #ff0000; text-decoration-color: #ff0000; font-weight: bold\">ImportError: </span>libtorch_cuda_cu.so: cannot open shared object file: No such file or directory\n",
       "</pre>\n"
      ],
      "text/plain": [
       "\u001b[31m╭─\u001b[0m\u001b[31m──────────────────────────────\u001b[0m\u001b[31m \u001b[0m\u001b[1;31mTraceback \u001b[0m\u001b[1;2;31m(most recent call last)\u001b[0m\u001b[31m \u001b[0m\u001b[31m───────────────────────────────\u001b[0m\u001b[31m─╮\u001b[0m\n",
       "\u001b[31m│\u001b[0m in \u001b[92m<module>\u001b[0m:\u001b[94m5\u001b[0m                                                                                    \u001b[31m│\u001b[0m\n",
       "\u001b[31m│\u001b[0m                                                                                                  \u001b[31m│\u001b[0m\n",
       "\u001b[31m│\u001b[0m   \u001b[2m2 \u001b[0m\u001b[94mimport\u001b[0m \u001b[4;96mtorch\u001b[0m                                                                                 \u001b[31m│\u001b[0m\n",
       "\u001b[31m│\u001b[0m   \u001b[2m3 \u001b[0m\u001b[94mimport\u001b[0m \u001b[4;96mtimeit\u001b[0m                                                                                \u001b[31m│\u001b[0m\n",
       "\u001b[31m│\u001b[0m   \u001b[2m4 \u001b[0m\u001b[94mimport\u001b[0m \u001b[4;96mnumpy\u001b[0m \u001b[94mas\u001b[0m \u001b[4;96mnp\u001b[0m                                                                           \u001b[31m│\u001b[0m\n",
       "\u001b[31m│\u001b[0m \u001b[31m❱ \u001b[0m5 \u001b[94mimport\u001b[0m \u001b[4;96mtorch_tensorrt\u001b[0m                                                                        \u001b[31m│\u001b[0m\n",
       "\u001b[31m│\u001b[0m   \u001b[2m6 \u001b[0m\u001b[94mimport\u001b[0m \u001b[4;96mtorch\u001b[0m\u001b[4;96m.\u001b[0m\u001b[4;96mbackends\u001b[0m\u001b[4;96m.\u001b[0m\u001b[4;96mcudnn\u001b[0m \u001b[94mas\u001b[0m \u001b[4;96mcudnn\u001b[0m                                                         \u001b[31m│\u001b[0m\n",
       "\u001b[31m│\u001b[0m   \u001b[2m7 \u001b[0m                                                                                             \u001b[31m│\u001b[0m\n",
       "\u001b[31m│\u001b[0m                                                                                                  \u001b[31m│\u001b[0m\n",
       "\u001b[31m│\u001b[0m \u001b[2;33m/home/kosenko/miniconda3/lib/python3.10/site-packages/torch_tensorrt/\u001b[0m\u001b[1;33m__init__.py\u001b[0m:\u001b[94m85\u001b[0m in \u001b[92m<module>\u001b[0m  \u001b[31m│\u001b[0m\n",
       "\u001b[31m│\u001b[0m                                                                                                  \u001b[31m│\u001b[0m\n",
       "\u001b[31m│\u001b[0m   \u001b[2m 82 \u001b[0m                                                                                           \u001b[31m│\u001b[0m\n",
       "\u001b[31m│\u001b[0m   \u001b[2m 83 \u001b[0m\u001b[94mimport\u001b[0m \u001b[4;96mtorch\u001b[0m                                                                               \u001b[31m│\u001b[0m\n",
       "\u001b[31m│\u001b[0m   \u001b[2m 84 \u001b[0m                                                                                           \u001b[31m│\u001b[0m\n",
       "\u001b[31m│\u001b[0m \u001b[31m❱ \u001b[0m 85 \u001b[94mfrom\u001b[0m \u001b[4;96mtorch_tensorrt\u001b[0m\u001b[4;96m.\u001b[0m\u001b[4;96m_compile\u001b[0m \u001b[94mimport\u001b[0m *                                                      \u001b[31m│\u001b[0m\n",
       "\u001b[31m│\u001b[0m   \u001b[2m 86 \u001b[0m\u001b[94mfrom\u001b[0m \u001b[4;96mtorch_tensorrt\u001b[0m\u001b[4;96m.\u001b[0m\u001b[4;96m_util\u001b[0m \u001b[94mimport\u001b[0m *                                                         \u001b[31m│\u001b[0m\n",
       "\u001b[31m│\u001b[0m   \u001b[2m 87 \u001b[0m\u001b[94mfrom\u001b[0m \u001b[4;96mtorch_tensorrt\u001b[0m \u001b[94mimport\u001b[0m ts                                                              \u001b[31m│\u001b[0m\n",
       "\u001b[31m│\u001b[0m   \u001b[2m 88 \u001b[0m\u001b[94mfrom\u001b[0m \u001b[4;96mtorch_tensorrt\u001b[0m \u001b[94mimport\u001b[0m ptq                                                             \u001b[31m│\u001b[0m\n",
       "\u001b[31m│\u001b[0m                                                                                                  \u001b[31m│\u001b[0m\n",
       "\u001b[31m│\u001b[0m \u001b[2;33m/home/kosenko/miniconda3/lib/python3.10/site-packages/torch_tensorrt/\u001b[0m\u001b[1;33m_compile.py\u001b[0m:\u001b[94m2\u001b[0m in \u001b[92m<module>\u001b[0m   \u001b[31m│\u001b[0m\n",
       "\u001b[31m│\u001b[0m                                                                                                  \u001b[31m│\u001b[0m\n",
       "\u001b[31m│\u001b[0m   \u001b[2m  1 \u001b[0m\u001b[94mfrom\u001b[0m \u001b[4;96mtyping\u001b[0m \u001b[94mimport\u001b[0m List, Dict, Any                                                         \u001b[31m│\u001b[0m\n",
       "\u001b[31m│\u001b[0m \u001b[31m❱ \u001b[0m  2 \u001b[94mfrom\u001b[0m \u001b[4;96mtorch_tensorrt\u001b[0m \u001b[94mimport\u001b[0m _enums                                                          \u001b[31m│\u001b[0m\n",
       "\u001b[31m│\u001b[0m   \u001b[2m  3 \u001b[0m\u001b[94mimport\u001b[0m \u001b[4;96mtorch_tensorrt\u001b[0m\u001b[4;96m.\u001b[0m\u001b[4;96mts\u001b[0m                                                                   \u001b[31m│\u001b[0m\n",
       "\u001b[31m│\u001b[0m   \u001b[2m  4 \u001b[0m\u001b[94mfrom\u001b[0m \u001b[4;96mtorch_tensorrt\u001b[0m \u001b[94mimport\u001b[0m logging                                                         \u001b[31m│\u001b[0m\n",
       "\u001b[31m│\u001b[0m   \u001b[2m  5 \u001b[0m\u001b[94mimport\u001b[0m \u001b[4;96mtorch\u001b[0m                                                                               \u001b[31m│\u001b[0m\n",
       "\u001b[31m│\u001b[0m                                                                                                  \u001b[31m│\u001b[0m\n",
       "\u001b[31m│\u001b[0m \u001b[2;33m/home/kosenko/miniconda3/lib/python3.10/site-packages/torch_tensorrt/\u001b[0m\u001b[1;33m_enums.py\u001b[0m:\u001b[94m1\u001b[0m in \u001b[92m<module>\u001b[0m     \u001b[31m│\u001b[0m\n",
       "\u001b[31m│\u001b[0m                                                                                                  \u001b[31m│\u001b[0m\n",
       "\u001b[31m│\u001b[0m \u001b[31m❱ \u001b[0m1 \u001b[94mfrom\u001b[0m \u001b[4;96mtorch_tensorrt\u001b[0m\u001b[4;96m.\u001b[0m\u001b[4;96m_C\u001b[0m \u001b[94mimport\u001b[0m dtype, DeviceType, EngineCapability, TensorFormat              \u001b[31m│\u001b[0m\n",
       "\u001b[31m│\u001b[0m   \u001b[2m2 \u001b[0m                                                                                             \u001b[31m│\u001b[0m\n",
       "\u001b[31m╰──────────────────────────────────────────────────────────────────────────────────────────────────╯\u001b[0m\n",
       "\u001b[1;91mImportError: \u001b[0mlibtorch_cuda_cu.so: cannot open shared object file: No such file or directory\n"
      ]
     },
     "metadata": {},
     "output_type": "display_data"
    }
   ],
   "source": [
    "from transformers import BertTokenizer, BertForMaskedLM\n",
    "import torch\n",
    "import timeit\n",
    "import numpy as np\n",
    "import torch_tensorrt\n",
    "import torch.backends.cudnn as cudnn"
   ]
  },
  {
   "attachments": {},
   "cell_type": "markdown",
   "id": "acf67a5e",
   "metadata": {},
   "source": [
    "<a id=\"2\"></a>\n",
    "## 2. BERT Overview\n",
    "\n",
    "Transformers comprise a class of deep learning algorithms employing self-attention; broadly speaking, the models learn large matrices of numbers, each element of which denotes how important one component of input data is to another. Since their introduction in 2017, transformers have enjoyed widespread adoption, particularly in natural language processing, but also in computer vision problems. This is largely because they are easier to parallelize than the sequence models which attention mechanisms were originally designed to augment. \n",
    "\n",
    "Hugging Face is a company that maintains a huge respository of pre-trained transformer models. The company also provides tools for integrating those models into PyTorch code and running inference with them. \n",
    "\n",
    "One of the most popular transformer models is BERT (Bidirectional Encoder Representations from Transformers). First developed at Google and released in 2018, it has become the backbone of Google's search engine and a standard benchmark for NLP experiments. BERT was originally trained for next sentence prediction and masked language modeling (MLM), which aims to predict hidden words in sentences. In this notebook, we will use Hugging Face's `bert-base-uncased` model (BERT's smallest and simplest form, which does not employ text capitalization) for MLM."
   ]
  },
  {
   "attachments": {},
   "cell_type": "markdown",
   "id": "19e711c0",
   "metadata": {},
   "source": [
    "<a id=\"3\"></a>\n",
    "## 3. Creating TorchScript modules  "
   ]
  },
  {
   "attachments": {},
   "cell_type": "markdown",
   "id": "81d4c6f6",
   "metadata": {},
   "source": [
    "First, create a pretrained BERT tokenizer from the `bert-base-uncased` model"
   ]
  },
  {
   "cell_type": "code",
   "execution_count": 4,
   "id": "c7c8721e",
   "metadata": {},
   "outputs": [],
   "source": [
    "enc = BertTokenizer.from_pretrained(\"bert-base-uncased\")\n"
   ]
  },
  {
   "attachments": {},
   "cell_type": "markdown",
   "id": "b7c1c679",
   "metadata": {},
   "source": [
    "Create dummy inputs to generate a traced TorchScript model later"
   ]
  },
  {
   "cell_type": "code",
   "execution_count": 5,
   "id": "c3827087",
   "metadata": {},
   "outputs": [],
   "source": [
    "batch_size = 4\n",
    "\n",
    "batched_indexed_tokens = [[101, 64] * 64] * batch_size\n",
    "batched_segment_ids = [[0, 1] * 64] * batch_size\n",
    "batched_attention_masks = [[1, 1] * 64] * batch_size\n",
    "\n",
    "tokens_tensor = torch.tensor(batched_indexed_tokens)\n",
    "segments_tensor = torch.tensor(batched_segment_ids)\n",
    "attention_masks_tensor = torch.tensor(batched_attention_masks)\n"
   ]
  },
  {
   "attachments": {},
   "cell_type": "markdown",
   "id": "7e31b27f",
   "metadata": {},
   "source": [
    "Obtain a BERT masked language model from Hugging Face in the (scripted) TorchScript, then use the dummy inputs to trace it"
   ]
  },
  {
   "cell_type": "code",
   "execution_count": 6,
   "id": "a3cd5a35",
   "metadata": {},
   "outputs": [
    {
     "name": "stderr",
     "output_type": "stream",
     "text": [
      "Some weights of the model checkpoint at bert-base-uncased were not used when initializing BertForMaskedLM: ['cls.seq_relationship.bias', 'cls.seq_relationship.weight']\n",
      "- This IS expected if you are initializing BertForMaskedLM from the checkpoint of a model trained on another task or with another architecture (e.g. initializing a BertForSequenceClassification model from a BertForPreTraining model).\n",
      "- This IS NOT expected if you are initializing BertForMaskedLM from the checkpoint of a model that you expect to be exactly identical (initializing a BertForSequenceClassification model from a BertForSequenceClassification model).\n"
     ]
    }
   ],
   "source": [
    "mlm_model_ts = BertForMaskedLM.from_pretrained(\"bert-base-uncased\", torchscript=True)\n",
    "traced_mlm_model = torch.jit.trace(\n",
    "    mlm_model_ts, [tokens_tensor, segments_tensor, attention_masks_tensor]\n",
    ")"
   ]
  },
  {
   "attachments": {},
   "cell_type": "markdown",
   "id": "d8d2217a",
   "metadata": {},
   "source": [
    "Define 4 masked sentences, with 1 word in each sentence hidden from the model. Fluent English speakers will probably be able to guess the masked words, but just in case, they are `'capital'`, `'language'`, `'innings'`, and `'mathematics'`.\n",
    "\n",
    "Also create a list containing the position of the masked word within each sentence. Given Python's 0-based indexing convention, the numbers are each higher by 1 than might be expected. This is because the token at index 0 in each sentence is a beginning-of-sentence token, denoted `[CLS]` when entered explicitly. "
   ]
  },
  {
   "cell_type": "code",
   "execution_count": 7,
   "id": "4d1af982",
   "metadata": {},
   "outputs": [],
   "source": [
    "masked_sentences = [\n",
    "    \"Paris is the [MASK] of France.\",\n",
    "    \"The primary [MASK] of the United States is English.\",\n",
    "    \"A baseball game consists of at least nine [MASK].\",\n",
    "    \"Topology is a branch of [MASK] concerned with the properties of geometric objects that remain unchanged under continuous transformations.\",\n",
    "]\n",
    "pos_masks = [4, 3, 9, 6]"
   ]
  },
  {
   "attachments": {},
   "cell_type": "markdown",
   "id": "4d89b4c8",
   "metadata": {},
   "source": [
    "Pass the masked sentences into the (scripted) TorchScript MLM model and verify that the unmasked sentences yield the expected results.  \n",
    "\n",
    "Because the sentences are of different lengths, we must specify the `padding` argument in calling our encoder/tokenizer. There are several possible padding strategies, but we'll use `'max_length'` padding with `max_length=128`. Later, when we compile an optimized version of the model with Torch-TensorRT, the optimized model will expect inputs of length 128, hence our choice of padding strategy and length here. "
   ]
  },
  {
   "cell_type": "code",
   "execution_count": 8,
   "id": "d2d7546b",
   "metadata": {},
   "outputs": [
    {
     "name": "stdout",
     "output_type": "stream",
     "text": [
      "Paris is the capital of France.\n",
      "The primary language of the United States is English.\n",
      "A baseball game consists of at least nine innings.\n",
      "Topology is a branch of mathematics concerned with the properties of geometric objects that remain unchanged under continuous transformations.\n"
     ]
    }
   ],
   "source": [
    "encoded_inputs = enc(\n",
    "    masked_sentences, return_tensors=\"pt\", padding=\"max_length\", max_length=128\n",
    ")\n",
    "outputs = mlm_model_ts(**encoded_inputs)\n",
    "most_likely_token_ids = [\n",
    "    torch.argmax(outputs[0][i, pos, :]) for i, pos in enumerate(pos_masks)\n",
    "]\n",
    "unmasked_tokens = enc.decode(most_likely_token_ids).split(\" \")\n",
    "unmasked_sentences = [\n",
    "    masked_sentences[i].replace(\"[MASK]\", token)\n",
    "    for i, token in enumerate(unmasked_tokens)\n",
    "]\n",
    "for sentence in unmasked_sentences:\n",
    "    print(sentence)"
   ]
  },
  {
   "attachments": {},
   "cell_type": "markdown",
   "id": "b0b423ff",
   "metadata": {},
   "source": [
    "Pass the masked sentences into the traced MLM model and verify that the unmasked sentences yield the expected results. \n",
    "\n",
    "Note the difference in how the `encoded_inputs` are passed into the model in the following cell compared to the previous one. If you examine `encoded_inputs`, you'll find that it's a dictionary with 3 keys, `'input_ids'`, `'token_type_ids'`, and `'attention_mask'`, each with a PyTorch tensor as an associated value. The traced model will accept `**encoded_inputs` as an input, but the Torch-TensorRT-optimized model (to be defined later) will not. "
   ]
  },
  {
   "cell_type": "code",
   "execution_count": 9,
   "id": "683a4a73",
   "metadata": {},
   "outputs": [
    {
     "name": "stdout",
     "output_type": "stream",
     "text": [
      "Paris is the capital of France.\n",
      "The primary language of the United States is English.\n",
      "A baseball game consists of at least nine innings.\n",
      "Topology is a branch of mathematics concerned with the properties of geometric objects that remain unchanged under continuous transformations.\n"
     ]
    }
   ],
   "source": [
    "encoded_inputs = enc(\n",
    "    masked_sentences, return_tensors=\"pt\", padding=\"max_length\", max_length=128\n",
    ")\n",
    "outputs = traced_mlm_model(\n",
    "    encoded_inputs[\"input_ids\"],\n",
    "    encoded_inputs[\"token_type_ids\"],\n",
    "    encoded_inputs[\"attention_mask\"],\n",
    ")\n",
    "most_likely_token_ids = [\n",
    "    torch.argmax(outputs[0][i, pos, :]) for i, pos in enumerate(pos_masks)\n",
    "]\n",
    "unmasked_tokens = enc.decode(most_likely_token_ids).split(\" \")\n",
    "unmasked_sentences = [\n",
    "    masked_sentences[i].replace(\"[MASK]\", token)\n",
    "    for i, token in enumerate(unmasked_tokens)\n",
    "]\n",
    "for sentence in unmasked_sentences:\n",
    "    print(sentence)"
   ]
  },
  {
   "attachments": {},
   "cell_type": "markdown",
   "id": "7a31b545",
   "metadata": {},
   "source": [
    "<a id=\"4\"></a>\n",
    "## 4. Compiling with Torch-TensorRT"
   ]
  },
  {
   "attachments": {},
   "cell_type": "markdown",
   "id": "413d8b4f",
   "metadata": {},
   "source": [
    "Change the logging level to avoid long printouts"
   ]
  },
  {
   "cell_type": "code",
   "execution_count": 10,
   "id": "42862893",
   "metadata": {},
   "outputs": [],
   "source": [
    "new_level = torch_tensorrt.logging.Level.Error\n",
    "torch_tensorrt.logging.set_reportable_log_level(new_level)"
   ]
  },
  {
   "attachments": {},
   "cell_type": "markdown",
   "id": "121d6d59",
   "metadata": {},
   "source": [
    "Compile the model"
   ]
  },
  {
   "cell_type": "code",
   "execution_count": 11,
   "id": "eab90150",
   "metadata": {},
   "outputs": [],
   "source": [
    "trt_model = torch_tensorrt.compile(\n",
    "    traced_mlm_model,\n",
    "    inputs=[\n",
    "        torch_tensorrt.Input(shape=[batch_size, 128], dtype=torch.int32),  # input_ids\n",
    "        torch_tensorrt.Input(\n",
    "            shape=[batch_size, 128], dtype=torch.int32\n",
    "        ),  # token_type_ids\n",
    "        torch_tensorrt.Input(shape=[batch_size, 128], dtype=torch.int32),\n",
    "    ],  # attention_mask\n",
    "    enabled_precisions={torch.float32},  # Run with 32-bit precision\n",
    "    workspace_size=2000000000,\n",
    "    truncate_long_and_double=True,\n",
    ")"
   ]
  },
  {
   "attachments": {},
   "cell_type": "markdown",
   "id": "a96751ce",
   "metadata": {},
   "source": [
    "Pass the masked sentences into the compiled model and verify that the unmasked sentences yield the expected results."
   ]
  },
  {
   "cell_type": "code",
   "execution_count": 12,
   "id": "097ea381",
   "metadata": {},
   "outputs": [
    {
     "name": "stdout",
     "output_type": "stream",
     "text": [
      "Paris is the capital of France.\n",
      "The primary language of the United States is English.\n",
      "A baseball game consists of at least nine innings.\n",
      "Topology is a branch of mathematics concerned with the properties of geometric objects that remain unchanged under continuous transformations.\n"
     ]
    }
   ],
   "source": [
    "enc_inputs = enc(\n",
    "    masked_sentences, return_tensors=\"pt\", padding=\"max_length\", max_length=128\n",
    ")\n",
    "enc_inputs = {k: v.type(torch.int32).cuda() for k, v in enc_inputs.items()}\n",
    "output_trt = trt_model(\n",
    "    enc_inputs[\"input_ids\"], enc_inputs[\"token_type_ids\"], enc_inputs[\"attention_mask\"]\n",
    ")\n",
    "most_likely_token_ids_trt = [\n",
    "    torch.argmax(output_trt[i, pos, :]) for i, pos in enumerate(pos_masks)\n",
    "]\n",
    "unmasked_tokens_trt = enc.decode(most_likely_token_ids_trt).split(\" \")\n",
    "unmasked_sentences_trt = [\n",
    "    masked_sentences[i].replace(\"[MASK]\", token)\n",
    "    for i, token in enumerate(unmasked_tokens_trt)\n",
    "]\n",
    "for sentence in unmasked_sentences_trt:\n",
    "    print(sentence)"
   ]
  },
  {
   "attachments": {},
   "cell_type": "markdown",
   "id": "a398271d",
   "metadata": {},
   "source": [
    "Compile the model again, this time with 16-bit precision"
   ]
  },
  {
   "cell_type": "code",
   "execution_count": 13,
   "id": "a063dee2",
   "metadata": {},
   "outputs": [],
   "source": [
    "trt_model_fp16 = torch_tensorrt.compile(\n",
    "    traced_mlm_model,\n",
    "    inputs=[\n",
    "        torch_tensorrt.Input(shape=[batch_size, 128], dtype=torch.int32),  # input_ids\n",
    "        torch_tensorrt.Input(\n",
    "            shape=[batch_size, 128], dtype=torch.int32\n",
    "        ),  # token_type_ids\n",
    "        torch_tensorrt.Input(shape=[batch_size, 128], dtype=torch.int32),\n",
    "    ],  # attention_mask\n",
    "    enabled_precisions={torch.half},  # Run with 16-bit precision\n",
    "    workspace_size=2000000000,\n",
    "    truncate_long_and_double=True,\n",
    ")"
   ]
  },
  {
   "attachments": {},
   "cell_type": "markdown",
   "id": "a926334a",
   "metadata": {},
   "source": [
    "<a id=\"5\"></a>\n",
    "## 5. Benchmarking\n",
    "\n",
    "In developing this notebook, we conducted our benchmarking on a single NVIDIA A100 GPU. Your results may differ from those shown, particularly on a different GPU."
   ]
  },
  {
   "attachments": {},
   "cell_type": "markdown",
   "id": "976c6fb9",
   "metadata": {},
   "source": [
    "This function passes the inputs into the model and runs inference `num_loops` times, then returns a list of length containing the amount of time in seconds that each instance of inference took."
   ]
  },
  {
   "cell_type": "code",
   "execution_count": 14,
   "id": "b72a091e",
   "metadata": {},
   "outputs": [],
   "source": [
    "def timeGraph(model, input_tensor1, input_tensor2, input_tensor3, num_loops=50):\n",
    "    print(\"Warm up ...\")\n",
    "    with torch.no_grad():\n",
    "        for _ in range(20):\n",
    "            features = model(input_tensor1, input_tensor2, input_tensor3)\n",
    "\n",
    "    torch.cuda.synchronize()\n",
    "\n",
    "    print(\"Start timing ...\")\n",
    "    timings = []\n",
    "    with torch.no_grad():\n",
    "        for i in range(num_loops):\n",
    "            start_time = timeit.default_timer()\n",
    "            features = model(input_tensor1, input_tensor2, input_tensor3)\n",
    "            torch.cuda.synchronize()\n",
    "            end_time = timeit.default_timer()\n",
    "            timings.append(end_time - start_time)\n",
    "            # print(\"Iteration {}: {:.6f} s\".format(i, end_time - start_time))\n",
    "\n",
    "    return timings"
   ]
  },
  {
   "attachments": {},
   "cell_type": "markdown",
   "id": "0b44dcf8",
   "metadata": {},
   "source": [
    "This function prints the number of input batches the model is able to process each second and summary statistics of the model's latency."
   ]
  },
  {
   "cell_type": "code",
   "execution_count": 15,
   "id": "2ef71ab7",
   "metadata": {},
   "outputs": [],
   "source": [
    "def printStats(graphName, timings, batch_size):\n",
    "    times = np.array(timings)\n",
    "    steps = len(times)\n",
    "    speeds = batch_size / times\n",
    "    time_mean = np.mean(times)\n",
    "    time_med = np.median(times)\n",
    "    time_99th = np.percentile(times, 99)\n",
    "    time_std = np.std(times, ddof=0)\n",
    "    speed_mean = np.mean(speeds)\n",
    "    speed_med = np.median(speeds)\n",
    "\n",
    "    msg = (\n",
    "        \"\\n%s =================================\\n\"\n",
    "        \"batch size=%d, num iterations=%d\\n\"\n",
    "        \"  Median text batches/second: %.1f, mean: %.1f\\n\"\n",
    "        \"  Median latency: %.6f, mean: %.6f, 99th_p: %.6f, std_dev: %.6f\\n\"\n",
    "    ) % (\n",
    "        graphName,\n",
    "        batch_size,\n",
    "        steps,\n",
    "        speed_med,\n",
    "        speed_mean,\n",
    "        time_med,\n",
    "        time_mean,\n",
    "        time_99th,\n",
    "        time_std,\n",
    "    )\n",
    "    print(msg)"
   ]
  },
  {
   "cell_type": "code",
   "execution_count": 16,
   "id": "afe97b9b",
   "metadata": {},
   "outputs": [],
   "source": [
    "cudnn.benchmark = True"
   ]
  },
  {
   "attachments": {},
   "cell_type": "markdown",
   "id": "eba98b24",
   "metadata": {},
   "source": [
    "Benchmark the (scripted) TorchScript model on GPU"
   ]
  },
  {
   "cell_type": "code",
   "execution_count": 17,
   "id": "bab5fa8f",
   "metadata": {},
   "outputs": [
    {
     "name": "stdout",
     "output_type": "stream",
     "text": [
      "Warm up ...\n",
      "Start timing ...\n",
      "\n",
      "BERT =================================\n",
      "batch size=4, num iterations=50\n",
      "  Median text batches/second: 599.1, mean: 597.6\n",
      "  Median latency: 0.006677, mean: 0.006693, 99th_p: 0.006943, std_dev: 0.000059\n",
      "\n"
     ]
    }
   ],
   "source": [
    "timings = timeGraph(\n",
    "    mlm_model_ts.cuda(),\n",
    "    enc_inputs[\"input_ids\"],\n",
    "    enc_inputs[\"token_type_ids\"],\n",
    "    enc_inputs[\"attention_mask\"],\n",
    ")\n",
    "\n",
    "printStats(\"BERT\", timings, batch_size)"
   ]
  },
  {
   "attachments": {},
   "cell_type": "markdown",
   "id": "bc79c452",
   "metadata": {},
   "source": [
    "Benchmark the traced model on GPU"
   ]
  },
  {
   "cell_type": "code",
   "execution_count": 18,
   "id": "5c0bd8e9",
   "metadata": {},
   "outputs": [
    {
     "name": "stdout",
     "output_type": "stream",
     "text": [
      "Warm up ...\n",
      "Start timing ...\n",
      "\n",
      "BERT =================================\n",
      "batch size=4, num iterations=50\n",
      "  Median text batches/second: 951.2, mean: 951.0\n",
      "  Median latency: 0.004205, mean: 0.004206, 99th_p: 0.004256, std_dev: 0.000015\n",
      "\n"
     ]
    }
   ],
   "source": [
    "timings = timeGraph(\n",
    "    traced_mlm_model.cuda(),\n",
    "    enc_inputs[\"input_ids\"],\n",
    "    enc_inputs[\"token_type_ids\"],\n",
    "    enc_inputs[\"attention_mask\"],\n",
    ")\n",
    "\n",
    "printStats(\"BERT\", timings, batch_size)"
   ]
  },
  {
   "attachments": {},
   "cell_type": "markdown",
   "id": "41db22a1",
   "metadata": {},
   "source": [
    "Benchmark the compiled FP32 model on GPU"
   ]
  },
  {
   "cell_type": "code",
   "execution_count": 19,
   "id": "ade7b508",
   "metadata": {},
   "outputs": [
    {
     "name": "stdout",
     "output_type": "stream",
     "text": [
      "Warm up ...\n",
      "Start timing ...\n",
      "\n",
      "BERT =================================\n",
      "batch size=4, num iterations=50\n",
      "  Median text batches/second: 1216.9, mean: 1216.4\n",
      "  Median latency: 0.003287, mean: 0.003289, 99th_p: 0.003317, std_dev: 0.000007\n",
      "\n"
     ]
    }
   ],
   "source": [
    "timings = timeGraph(\n",
    "    trt_model,\n",
    "    enc_inputs[\"input_ids\"],\n",
    "    enc_inputs[\"token_type_ids\"],\n",
    "    enc_inputs[\"attention_mask\"],\n",
    ")\n",
    "\n",
    "printStats(\"BERT\", timings, batch_size)"
   ]
  },
  {
   "attachments": {},
   "cell_type": "markdown",
   "id": "57b696de",
   "metadata": {},
   "source": [
    "Benchmark the compiled FP16 model on GPU"
   ]
  },
  {
   "cell_type": "code",
   "execution_count": 20,
   "id": "f61b83fd",
   "metadata": {},
   "outputs": [
    {
     "name": "stdout",
     "output_type": "stream",
     "text": [
      "Warm up ...\n",
      "Start timing ...\n",
      "\n",
      "BERT =================================\n",
      "batch size=4, num iterations=50\n",
      "  Median text batches/second: 1776.7, mean: 1771.1\n",
      "  Median latency: 0.002251, mean: 0.002259, 99th_p: 0.002305, std_dev: 0.000015\n",
      "\n"
     ]
    }
   ],
   "source": [
    "timings = timeGraph(\n",
    "    trt_model_fp16,\n",
    "    enc_inputs[\"input_ids\"],\n",
    "    enc_inputs[\"token_type_ids\"],\n",
    "    enc_inputs[\"attention_mask\"],\n",
    ")\n",
    "\n",
    "printStats(\"BERT\", timings, batch_size)"
   ]
  },
  {
   "attachments": {},
   "cell_type": "markdown",
   "id": "43f67ba3",
   "metadata": {},
   "source": [
    "<a id=\"6\"></a>\n",
    "## 6. Conclusion\n",
    "\n",
    "In this notebook, we have walked through the complete process of compiling TorchScript models with Torch-TensorRT for Masked Language Modeling with Hugging Face's `bert-base-uncased` transformer and testing the performance impact of the optimization. With Torch-TensorRT on an NVIDIA A100 GPU, we observe the speedups indicated below. These acceleration numbers will vary from GPU to GPU (as well as implementation to implementation based on the ops used) and we encorage you to try out latest generation of Data center compute cards for maximum acceleration.\n",
    "\n",
    "Scripted (GPU): 1.0x\n",
    "Traced (GPU): 1.62x\n",
    "Torch-TensorRT (FP32): 2.14x\n",
    "Torch-TensorRT (FP16): 3.15x\n",
    "\n",
    "### What's next\n",
    "Now it's time to try Torch-TensorRT on your own model. If you run into any issues, you can fill them at https://github.com/pytorch/TensorRT. Your involvement will help future development of Torch-TensorRT."
   ]
  },
  {
   "cell_type": "code",
   "execution_count": 1,
   "id": "4ebd152d",
   "metadata": {},
   "outputs": [
    {
     "name": "stderr",
     "output_type": "stream",
     "text": [
      "/home/kosenko/miniconda3/lib/python3.10/site-packages/tqdm/auto.py:22: TqdmWarning: IProgress not found. Please update jupyter and ipywidgets. See https://ipywidgets.readthedocs.io/en/stable/user_install.html\n",
      "  from .autonotebook import tqdm as notebook_tqdm\n"
     ]
    }
   ],
   "source": [
    "from transformers import AutoTokenizer, M2M100ForConditionalGeneration\n",
    "import torch\n",
    "tokenizer = AutoTokenizer.from_pretrained(\"facebook/m2m100_418M\")\n",
    "model = M2M100ForConditionalGeneration.from_pretrained(\"facebook/m2m100_418M\")\n",
    "device = \"cuda\"\n",
    "model.to(device)\n",
    "None"
   ]
  },
  {
   "cell_type": "code",
   "execution_count": null,
   "id": "53806f3c",
   "metadata": {},
   "outputs": [],
   "source": [
    "# input_ids: Optional[torch.LongTensor] = None,\n",
    "# attention_mask: Optional[torch.Tensor] = None,\n",
    "# decoder_input_ids: Optional[torch.LongTensor] = None,\n",
    "# decoder_attention_mask: Optional[torch.LongTensor] = None,\n",
    "# head_mask: Optional[torch.Tensor] = None,\n",
    "# decoder_head_mask: Optional[torch.Tensor] = None,\n",
    "# cross_attn_head_mask: Optional[torch.Tensor] = None,\n",
    "# encoder_outputs: Optional[Tuple[Tuple[torch.FloatTensor]]] = None,\n",
    "# past_key_values: Optional[Tuple[Tuple[torch.FloatTensor]]] = None,\n",
    "# inputs_embeds: Optional[torch.FloatTensor] = None,\n",
    "# decoder_inputs_embeds: Optional[torch.FloatTensor] = None,\n",
    "# labels: Optional[torch.LongTensor] = None,\n",
    "\n",
    "model(\n",
    "    **{\n",
    "        # \"input_ids\": torch.randint(low=0, high=10, size=(1, 16)).to(device),\n",
    "        \"attention_mask\": torch.randint(low=0, high=1, size=(5, 16)).to(device),\n",
    "        \"decoder_input_ids\": torch.randint(low=0, high=10, size=(5, 1)).to(device),\n",
    "        # \"decoder_attention_mask\": torch.randint(low=0, high=1, size=(1, 10)).to(device),\n",
    "        # \"head_mask\": torch.randint(low=0, high=1, size=(1, 10)).to(device),\n",
    "        # \"decoder_head_mask\": torch.randint(low=0, high=1, size=(1, 10)).to(device),\n",
    "        # \"cross_attn_head_mask\": torch.randint(low=0, high=1, size=(1, 10)).to(device),\n",
    "        \"encoder_outputs\": ((torch.randn((5, 16, 1024)).to(device))),\n",
    "        \"past_key_values\": tuple(tuple(torch.randn((5, 16, 2, 64)).to(device)) for _ in range(12)),\n",
    "        # \"past_key_values\": tuple((torch.randn((5, 2, 64)).to(device)) for _ in range(12)),\n",
    "        # \"inputs_embeds\": None,\n",
    "        # \"decoder_inputs_embeds\": torch.randn((1, 10)),\n",
    "        # \"labels\": torch.randint(low=0, high=10, size=(1, 10)).to(device),\n",
    "    },\n",
    "    use_cache=True,\n",
    "    output_attentions=False, \n",
    "    output_hidden_states=False, \n",
    "    return_dict=True\n",
    ")\n"
   ]
  },
  {
   "cell_type": "code",
   "execution_count": null,
   "id": "92038637",
   "metadata": {},
   "outputs": [],
   "source": [
    "tuple((torch.randn((5, 16, 2, 64)).to(device)) for _ in range(12))"
   ]
  },
  {
   "cell_type": "code",
   "execution_count": 2,
   "id": "e67b3b52",
   "metadata": {},
   "outputs": [
    {
     "data": {
      "text/plain": [
       "{'input_ids': tensor([[128022,   4183,      2]]), 'attention_mask': tensor([[1, 1, 1]])}"
      ]
     },
     "execution_count": 2,
     "metadata": {},
     "output_type": "execute_result"
    }
   ],
   "source": [
    "tokenizer(\"test\", return_tensors=\"pt\")"
   ]
  },
  {
   "cell_type": "code",
   "execution_count": 19,
   "id": "f3c4cb70",
   "metadata": {},
   "outputs": [
    {
     "data": {
      "text/plain": [
       "tensor([[8, 7, 5, 6, 8, 6, 9, 9, 3, 5]])"
      ]
     },
     "execution_count": 19,
     "metadata": {},
     "output_type": "execute_result"
    }
   ],
   "source": [
    "torch.randint(low=0, high=10, size=(1, 10))"
   ]
  },
  {
   "cell_type": "code",
   "execution_count": 20,
   "id": "8df56ce6",
   "metadata": {},
   "outputs": [
    {
     "data": {
      "text/plain": [
       "tensor([[0, 0, 0, 0, 0, 0, 0, 0, 0, 0]])"
      ]
     },
     "execution_count": 20,
     "metadata": {},
     "output_type": "execute_result"
    }
   ],
   "source": [
    "torch.randint(low=0, high=1, size=(1, 10))"
   ]
  },
  {
   "cell_type": "code",
   "execution_count": 21,
   "id": "48ea8dd2",
   "metadata": {},
   "outputs": [
    {
     "data": {
      "text/plain": [
       "tensor([[-1.2965,  1.1080, -0.3751,  1.3926, -0.6308,  0.4742,  1.0284, -0.1714,\n",
       "          0.4332,  0.0356]])"
      ]
     },
     "execution_count": 21,
     "metadata": {},
     "output_type": "execute_result"
    }
   ],
   "source": [
    "torch.randn((1, 10))"
   ]
  }
 ],
 "metadata": {
  "kernelspec": {
   "display_name": "Python 3 (ipykernel)",
   "language": "python",
   "name": "python3"
  },
  "language_info": {
   "codemirror_mode": {
    "name": "ipython",
    "version": 3
   },
   "file_extension": ".py",
   "mimetype": "text/x-python",
   "name": "python",
   "nbconvert_exporter": "python",
   "pygments_lexer": "ipython3",
   "version": "3.10.9"
  }
 },
 "nbformat": 4,
 "nbformat_minor": 5
}
