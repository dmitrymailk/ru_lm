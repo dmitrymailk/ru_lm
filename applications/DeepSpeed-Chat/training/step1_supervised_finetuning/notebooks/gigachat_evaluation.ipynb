{
 "cells": [
  {
   "cell_type": "code",
   "execution_count": 20,
   "metadata": {},
   "outputs": [
    {
     "name": "stdout",
     "output_type": "stream",
     "text": [
      "PAYLOAD:  {'generate_alternatives': False, 'preset': 'default', 'request_json': 'Test message4', 'session_id': '5705d868-2afc-11ee-b456-3ceceff95a4d', 'model_type': 'GigaChat:v1.13.0'}\n",
      "RESPONSE:  {'result': 'accepted', 'request_id': 'ea016528-47a1-46c6-9c32-1a2f99c5fca9', 'generation_start_estimation_seconds': 0.1063909}\n"
     ]
    },
    {
     "data": {
      "text/plain": [
       "'5705d868-2afc-11ee-b456-3ceceff95a4d'"
      ]
     },
     "execution_count": 20,
     "metadata": {},
     "output_type": "execute_result"
    }
   ],
   "source": [
    "import requests\n",
    "import json\n",
    "import uuid\n",
    "\n",
    "import time\n",
    "\n",
    "\n",
    "\n",
    "\n",
    "class GigaChatConversationAPI:\n",
    "    def __init__(\n",
    "        self,\n",
    "        creds_path: str = \"./gigachad.json\",\n",
    "        session_id=None,\n",
    "    ) -> None:\n",
    "        self.creds_path = creds_path\n",
    "        self.headers = json.loads(open(self.creds_path).read())\n",
    "        self.current_conversation = None\n",
    "\n",
    "        # для того чтобы начать новую беседу нужно пересоздать\n",
    "        # объект класса\n",
    "        if session_id is None:\n",
    "            session_id = str(uuid.uuid1())\n",
    "        self.current_conversation = session_id\n",
    "\n",
    "    def send_message(self, user_message: str):\n",
    "        self.headers['Referer'] = f'https://developers.sber.ru/studio/workspaces/69a30c72-a3ac-43c6-8c5e-821383a4f064/ml/projects/70bc01c6-9062-4aa6-9c77-26c550fb4440/sessions/{self.current_conversation}'\n",
    "        payload = {\n",
    "            \"generate_alternatives\": False,\n",
    "            \"preset\": \"default\",\n",
    "            \"request_json\": user_message,\n",
    "            \"session_id\": self.current_conversation,\n",
    "            \"model_type\": \"GigaChat:v1.13.0\",\n",
    "        }\n",
    "        print(\"PAYLOAD: \", payload)\n",
    "        response = requests.post(\n",
    "            \"https://developers.sber.ru/api/chatwm/api/client/request\",\n",
    "            headers=self.headers,\n",
    "            data=json.dumps(payload),\n",
    "        )\n",
    "        print(\"RESPONSE: \", response.json())\n",
    "\n",
    "    def get_conversation_messages(self, desire_number: int = 2):\n",
    "        current_messages = 0\n",
    "        messages = None\n",
    "\n",
    "        while current_messages < desire_number:\n",
    "            time.sleep(10)\n",
    "            payload = {\n",
    "                \"offset\": 0,\n",
    "                \"limit\": 26,\n",
    "                \"session_id\": \"\",\n",
    "                \"newer_first\": True,\n",
    "            }\n",
    "            payload[\"session_id\"] = self.current_conversation\n",
    "\n",
    "            print(\"PAYLOAD: \", payload)\n",
    "\n",
    "            response = requests.post(\n",
    "                \"https://developers.sber.ru/api/chatwm/api/client/session_messages\",\n",
    "                headers=self.headers,\n",
    "                data=json.dumps(payload),\n",
    "            )\n",
    "            response = response.json()\n",
    "            print(\"RESPONSE: \", response)\n",
    "            current_messages = response[\"total_messages\"]\n",
    "            messages = response[\"messages\"]\n",
    "\n",
    "        return messages\n",
    "\n",
    "\n",
    "\n",
    "\n",
    "\n",
    "new_conv = GigaChatConversationAPI(\n",
    "    # session_id='1b1526fc-2af6-11ee-b456-3ceceff95a4d'\n",
    ")\n",
    "new_conv.send_message(\"Test message4\")\n",
    "# new_conv.get_conversation_messages(desire_number=2)\n",
    "new_conv.current_conversation"
   ]
  },
  {
   "cell_type": "code",
   "execution_count": 19,
   "metadata": {},
   "outputs": [
    {
     "data": {
      "text/plain": [
       "'60a57988-2afb-11ee-b456-3ceceff95a4d'"
      ]
     },
     "execution_count": 19,
     "metadata": {},
     "output_type": "execute_result"
    }
   ],
   "source": [
    "new_conv.current_conversation"
   ]
  },
  {
   "cell_type": "code",
   "execution_count": 8,
   "metadata": {},
   "outputs": [],
   "source": [
    "headers = json.loads(open(\"./gigachad.json\").read())\n",
    "\n",
    "# payload = {\n",
    "#     \"generate_alternatives\": False,\n",
    "#     \"preset\": \"default\",\n",
    "#     \"request_json\": \"Зачем человеку часы\",\n",
    "#     # \"session_id\": \"a63627a1-7261-40a5-ae0b-00ba6aadc541\",\n",
    "#     \"session_id\": str(uuid.uuid1()),\n",
    "#     \"model_type\": \"GigaChat:v1.0.0\",\n",
    "# }\n",
    "\n",
    "# print(payload)\n",
    "\n",
    "# response = requests.post(\n",
    "#     \"https://developers.sber.ru/api/chatwm/api/client/request\",\n",
    "#     headers=headers,\n",
    "#     data=json.dumps(payload),\n",
    "# )\n",
    "# response.json()"
   ]
  },
  {
   "cell_type": "code",
   "execution_count": 12,
   "metadata": {},
   "outputs": [
    {
     "name": "stdout",
     "output_type": "stream",
     "text": [
      "{'offset': 0, 'limit': 26, 'session_id': '4a96b7a0-2af7-11ee-b456-3ceceff95a4d', 'newer_first': True}\n"
     ]
    },
    {
     "data": {
      "text/plain": [
       "{'total_messages': 2,\n",
       " 'messages': [{'side': 'model',\n",
       "   'request_id': '4ba4024a-13be-417e-b847-d5e5e8ea5dcf',\n",
       "   'date': '2023-07-25T14:29:32.607177Z',\n",
       "   'model_type': 'GigaChat:v1.13.0',\n",
       "   'model_type_display_name': 'GigaChat:v1.13.0',\n",
       "   'preset': 'default',\n",
       "   'preset_display_name': 'По умолчанию',\n",
       "   'response_id': 4373971,\n",
       "   'set_by_user': False,\n",
       "   'data': 'Hello World!'},\n",
       "  {'side': 'user',\n",
       "   'request_id': '4ba4024a-13be-417e-b847-d5e5e8ea5dcf',\n",
       "   'date': '2023-07-25T14:26:49.262845Z',\n",
       "   'model_type': 'GigaChat:v1.13.0',\n",
       "   'model_type_display_name': 'GigaChat:v1.13.0',\n",
       "   'preset': 'default',\n",
       "   'preset_display_name': 'По умолчанию',\n",
       "   'model_status': 'cancelled',\n",
       "   'request_json': 'Hello world2'}]}"
      ]
     },
     "execution_count": 12,
     "metadata": {},
     "output_type": "execute_result"
    }
   ],
   "source": [
    "payload2 = {\n",
    "    \"offset\": 0,\n",
    "    \"limit\": 26,\n",
    "    \"session_id\": \"a63627a1-7261-40a5-ae0b-00bafaadc542\",\n",
    "    \"newer_first\": True,\n",
    "}\n",
    "# payload2[\"session_id\"] = payload[\"session_id\"]\n",
    "payload2[\"session_id\"] = \"4a96b7a0-2af7-11ee-b456-3ceceff95a4d\"\n",
    "headers['Referer'] = 'https://developers.sber.ru/studio/workspaces/69a30c72-a3ac-43c6-8c5e-821383a4f064/ml/projects/70bc01c6-9062-4aa6-9c77-26c550fb4440/sessions/4a96b7a0-2af7-11ee-b456-3ceceff95a4d'\n",
    "print(payload2)\n",
    "\n",
    "response = requests.post(\n",
    "    \"https://developers.sber.ru/api/chatwm/api/client/session_messages\",\n",
    "    headers=headers,\n",
    "    data=json.dumps(payload2),\n",
    ")\n",
    "response.json()"
   ]
  }
 ],
 "metadata": {
  "kernelspec": {
   "display_name": "base",
   "language": "python",
   "name": "python3"
  },
  "language_info": {
   "codemirror_mode": {
    "name": "ipython",
    "version": 3
   },
   "file_extension": ".py",
   "mimetype": "text/x-python",
   "name": "python",
   "nbconvert_exporter": "python",
   "pygments_lexer": "ipython3",
   "version": "3.10.9"
  },
  "orig_nbformat": 4
 },
 "nbformat": 4,
 "nbformat_minor": 2
}
