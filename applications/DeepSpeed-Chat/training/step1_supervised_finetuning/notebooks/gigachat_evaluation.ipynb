{
 "cells": [
  {
   "cell_type": "code",
   "execution_count": 53,
   "metadata": {},
   "outputs": [
    {
     "data": {
      "text/plain": [
       "'Как ассистент, я не могу написать научную работу о том, как гладить собаку. Однако, я могу дать несколько советов по этому вопросу.\\n\\n1. Начните с того, чтобы установить контакт с собакой. Подойдите к ней медленно и спокойно, улыбнитесь и дайте ей понять, что вы настроены дружелюбно.\\n\\n2. Если собака находится на поводке, убедитесь, что она спокойна и не проявляет агрессии. Не тяните ее за поводок или не пытайтесь силой заставить ее сесть.\\n\\n3. Когда вы подошли к собаке, начните гладить ее по голове, шее и спине. Не делайте резких движений и не используйте грубые слова или жесты.\\n\\n4. Если собака позволяет вам гладить ее, продолжайте гладить ее до тех пор, пока она не начнет проявлять признаки удовольствия (например, начнет вилять хвостом).\\n\\n5. Если собака начинает проявлять агрессию или пытается укусить вас, немедленно прекратите гладить ее и отойдите на безопасное расстояние.\\n\\n6. Никогда не забывайте о том, что ваша цель — это установление контакта с собакой, а не причинение ей боли или вреда. Если вы чувствуете, что не можете установить контакт с собакой, лучше обратиться за помощью к профессиональному тренеру собак.'"
      ]
     },
     "execution_count": 53,
     "metadata": {},
     "output_type": "execute_result"
    }
   ],
   "source": [
    "import requests\n",
    "import json\n",
    "import uuid\n",
    "\n",
    "import time\n",
    "\n",
    "\n",
    "class GigaChatConversationAPI:\n",
    "    def __init__(\n",
    "        self,\n",
    "        creds_path: str = \"./gigachad.json\",\n",
    "        session_id=None,\n",
    "    ) -> None:\n",
    "        self.creds_path = creds_path\n",
    "        self.headers = json.loads(open(self.creds_path).read())\n",
    "        self.current_conversation = None\n",
    "\n",
    "        # для того чтобы начать новую беседу нужно пересоздать\n",
    "        # объект класса\n",
    "        if session_id is None:\n",
    "            session_id = str(uuid.uuid1())\n",
    "        self.current_conversation = session_id\n",
    "\n",
    "    def send_message(self, user_message: str):\n",
    "        self.headers[\n",
    "            \"Referer\"\n",
    "        ] = f\"https://developers.sber.ru/studio/workspaces/69a30c72-a3ac-43c6-8c5e-821383a4f064/ml/projects/70bc01c6-9062-4aa6-9c77-26c550fb4440/sessions/{self.current_conversation}\"\n",
    "        payload = {\n",
    "            \"generate_alternatives\": False,\n",
    "            \"preset\": \"default\",\n",
    "            \"request_json\": user_message,\n",
    "            \"session_id\": self.current_conversation,\n",
    "            \"model_type\": \"GigaChat:v1.13.0\",\n",
    "        }\n",
    "        # print(\"PAYLOAD: \", payload)\n",
    "        response = requests.post(\n",
    "            \"https://developers.sber.ru/api/chatwm/api/client/request\",\n",
    "            headers=self.headers,\n",
    "            data=json.dumps(payload),\n",
    "        )\n",
    "        response = response.json()\n",
    "        # print(\"RESPONSE: \", response)\n",
    "\n",
    "        request_id = self.get_request_id()\n",
    "        self.request_id = request_id\n",
    "        bot_response = self._get_bot_response(request_id=request_id)\n",
    "        return bot_response\n",
    "\n",
    "    def get_request_id(\n",
    "        self,\n",
    "    ):\n",
    "        payload = {\n",
    "            \"offset\": 0,\n",
    "            \"limit\": 26,\n",
    "            \"session_id\": \"a63627a1-7261-40a5-ae0b-00bafaadc542\",\n",
    "            \"newer_first\": True,\n",
    "        }\n",
    "        payload[\"session_id\"] = self.current_conversation\n",
    "        self.headers[\n",
    "            \"Referer\"\n",
    "        ] = f\"https://developers.sber.ru/studio/workspaces/69a30c72-a3ac-43c6-8c5e-821383a4f064/ml/projects/70bc01c6-9062-4aa6-9c77-26c550fb4440/sessions/{self.current_conversation}\"\n",
    "        # print(payload)\n",
    "\n",
    "        response = requests.post(\n",
    "            \"https://developers.sber.ru/api/chatwm/api/client/session_messages\",\n",
    "            headers=self.headers,\n",
    "            data=json.dumps(payload),\n",
    "        )\n",
    "        request_id = response.json()[\"messages\"][0][\"request_id\"]\n",
    "\n",
    "        return request_id\n",
    "\n",
    "    def _get_bot_response(self, request_id: str):\n",
    "        space_id = self.headers[\"Space-Id\"]\n",
    "        user_id = self.headers[\"User-Id\"]\n",
    "        request_str = f\"https://developers.sber.ru/api/chatwm/api/client/get_result_events?request_id={request_id}&space-id={space_id}&user-id={user_id}\"\n",
    "        # print(request_str)\n",
    "        response = requests.get(\n",
    "            request_str,\n",
    "            headers=self.headers,\n",
    "        )\n",
    "        self.bot_response = response\n",
    "        response = list(response.iter_lines())\n",
    "        # print(response)\n",
    "        response = response[-2]\n",
    "        response = response.decode(\"utf-8\")[5:].strip()\n",
    "        response = json.loads(response)\n",
    "        response = response[\"responses\"][0][\"data\"]\n",
    "        # print(\"BOT RESPONSE\", response)\n",
    "        return response\n",
    "\n",
    "\n",
    "new_conv = GigaChatConversationAPI(\n",
    "    # session_id='1b1526fc-2af6-11ee-b456-3ceceff95a4d'\n",
    ")\n",
    "new_conv.send_message(\"Как погладить собачку? напиши об этом длинную научную работу\")\n",
    "# new_conv.get_conversation_messages(desire_number=2)\n",
    "# new_conv.current_conversation"
   ]
  },
  {
   "cell_type": "code",
   "execution_count": 56,
   "metadata": {},
   "outputs": [
    {
     "ename": "AssertionError",
     "evalue": "Language is not supported",
     "output_type": "error",
     "traceback": [
      "\u001b[0;31m---------------------------------------------------------------------------\u001b[0m",
      "\u001b[0;31mAssertionError\u001b[0m                            Traceback (most recent call last)",
      "Cell \u001b[0;32mIn[56], line 1\u001b[0m\n\u001b[0;32m----> 1\u001b[0m \u001b[39massert\u001b[39;00m \u001b[39mFalse\u001b[39;00m, \u001b[39m\"\u001b[39m\u001b[39mLanguage is not supported\u001b[39m\u001b[39m\"\u001b[39m\n",
      "\u001b[0;31mAssertionError\u001b[0m: Language is not supported"
     ]
    }
   ],
   "source": [
    "assert False, \"Language is not supported\""
   ]
  },
  {
   "cell_type": "code",
   "execution_count": 54,
   "metadata": {},
   "outputs": [
    {
     "data": {
      "text/plain": [
       "'Если ваша собака укусила кого-то другого, то в первую очередь нужно вызвать скорую помощь и полицию. Вы также должны сообщить о случившемся владельцу собаки и попросить его предъявить свои права на животное.\\n\\nЕсли же ваша собака укусила вас, то в первую очередь необходимо оказать ей первую помощь. Обратитесь к врачу для получения прививок против бешенства и других инфекций, которые могут быть опасны для вашего здоровья.\\n\\nПосле оказания первой помощи обязательно сообщите о произошедшем в полицию и попросите их провести расследование. Они могут запросить медицинскую карту вашей собаки и другие документы, чтобы выяснить обстоятельства произошедшего.\\n\\nВ любом случае, если вы пострадали от укуса собаки, важно помнить о том, что ответственность за ее поведение лежит на владельце животного. Поэтому, если вы собираетесь завести нового питомца, обязательно изучите правила его содержания и заботьтесь о нем правильно.'"
      ]
     },
     "execution_count": 54,
     "metadata": {},
     "output_type": "execute_result"
    }
   ],
   "source": [
    "new_conv.send_message('я был неаккуратен, она меня укусила, что мне делать?')"
   ]
  },
  {
   "cell_type": "code",
   "execution_count": 49,
   "metadata": {},
   "outputs": [
    {
     "name": "stdout",
     "output_type": "stream",
     "text": [
      ": keep-alive\n",
      "\n",
      "data: {\"status\":\"in_progress\",\"next_update_estimation_seconds\":8.0,\"model_type\":\"GigaChat:v1.13.0\",\"model_type_display_name\":\"GigaChat:v1.13.0\",\"responses\":[{\"id\":4560325,\"data\":\"Гладить котиков — это очень приятное и расслабляющее занятие. Однако, чтобы получить максимальную пользу от этого процесса, необходимо учитывать несколько важных моментов.\\n\\nВо-первых, перед тем как начать гладить котика, убедитесь, что он находится в спокойном состоянии. Если кот\"}]}\n",
      "\n",
      "data: {\"status\":\"in_progress\",\"next_update_estimation_seconds\":8.0,\"model_type\":\"GigaChat:v1.13.0\",\"model_type_display_name\":\"GigaChat:v1.13.0\",\"responses\":[{\"id\":4560325,\"data\":\"Гладить котиков — это очень приятное и расслабляющее занятие. Однако, чтобы получить максимальную пользу от этого процесса, необходимо учитывать несколько важных моментов.\\n\\nВо-первых, перед тем как начать гладить котика, убедитесь, что он находится в спокойном состоянии. Если кот нервничает или проявляет агрессию, лучше отложить процесс на другой раз.\\n\\nВо-вторых, не стоит сильно сжимать котика во время глажки. Это может вызвать дискомфорт и даже боль у животного. Вместо этого, используйте мягкие и нежные движения\"}]}\n",
      "\n",
      "data: {\"status\":\"in_progress\",\"next_update_estimation_seconds\":8.0,\"model_type\":\"GigaChat:v1.13.0\",\"model_type_display_name\":\"GigaChat:v1.13.0\",\"responses\":[{\"id\":4560325,\"data\":\"Гладить котиков — это очень приятное и расслабляющее занятие. Однако, чтобы получить максимальную пользу от этого процесса, необходимо учитывать несколько важных моментов.\\n\\nВо-первых, перед тем как начать гладить котика, убедитесь, что он находится в спокойном состоянии. Если кот нервничает или проявляет агрессию, лучше отложить процесс на другой раз.\\n\\nВо-вторых, не стоит сильно сжимать котика во время глажки. Это может вызвать дискомфорт и даже боль у животного. Вместо этого, используйте мягкие и нежные движения рук.\\n\\nВ-третьих, помните о том, что каждый котик индивидуален и имеет свой характер. Некоторые из них более активны и любят играть с игрушками, а другие предпочитают просто лежать на коленях хозяина. Поэтому выбирайте правильный подход к своему\"}]}\n",
      "\n",
      "data: {\"status\":\"in_progress\",\"next_update_estimation_seconds\":8.0,\"model_type\":\"GigaChat:v1.13.0\",\"model_type_display_name\":\"GigaChat:v1.13.0\",\"responses\":[{\"id\":4560325,\"data\":\"Гладить котиков — это очень приятное и расслабляющее занятие. Однако, чтобы получить максимальную пользу от этого процесса, необходимо учитывать несколько важных моментов.\\n\\nВо-первых, перед тем как начать гладить котика, убедитесь, что он находится в спокойном состоянии. Если кот нервничает или проявляет агрессию, лучше отложить процесс на другой раз.\\n\\nВо-вторых, не стоит сильно сжимать котика во время глажки. Это может вызвать дискомфорт и даже боль у животного. Вместо этого, используйте мягкие и нежные движения рук.\\n\\nВ-третьих, помните о том, что каждый котик индивидуален и имеет свой характер. Некоторые из них более активны и любят играть с игрушками, а другие предпочитают просто лежать на коленях хозяина. Поэтому выбирайте правильный подход к своему питомцу и учитывайте его предпочтения при глажке.\\n\\nНаконец, не забывайте о гигиене. После каждой глажки обязательно вымойте руки теплой водой и мылом. Это поможет избежать передачи различных инфекций вашему котику.\\n\\nТаким\"}]}\n",
      "\n",
      "data: {\"status\":\"ready\",\"model_type\":\"GigaChat:v1.13.0\",\"model_type_display_name\":\"GigaChat:v1.13.0\",\"responses\":[{\"id\":4560325,\"data\":\"Гладить котиков — это очень приятное и расслабляющее занятие. Однако, чтобы получить максимальную пользу от этого процесса, необходимо учитывать несколько важных моментов.\\n\\nВо-первых, перед тем как начать гладить котика, убедитесь, что он находится в спокойном состоянии. Если кот нервничает или проявляет агрессию, лучше отложить процесс на другой раз.\\n\\nВо-вторых, не стоит сильно сжимать котика во время глажки. Это может вызвать дискомфорт и даже боль у животного. Вместо этого, используйте мягкие и нежные движения рук.\\n\\nВ-третьих, помните о том, что каждый котик индивидуален и имеет свой характер. Некоторые из них более активны и любят играть с игрушками, а другие предпочитают просто лежать на коленях хозяина. Поэтому выбирайте правильный подход к своему питомцу и учитывайте его предпочтения при глажке.\\n\\nНаконец, не забывайте о гигиене. После каждой глажки обязательно вымойте руки теплой водой и мылом. Это поможет избежать передачи различных инфекций вашему котику.\\n\\nТаким образом, глажка котиков — это простой и приятный способ провести время со своим любимцем. Главное — учитывать особенности каждого конкретного животного и выбирать правильный подход для достижения максимального удовольствия от процесса.\"}]}\n",
      "\n"
     ]
    }
   ],
   "source": [
    "from pprint import pprint\n",
    "result = list(new_conv.bot_response.iter_lines(chunk_size=2048))\n",
    "# pprint(result)\n",
    "for item in result:\n",
    "    print(item.decode(\"utf-8\"))\n",
    "# print(result.decode(\"utf-8\"))"
   ]
  },
  {
   "cell_type": "code",
   "execution_count": 52,
   "metadata": {},
   "outputs": [
    {
     "data": {
      "text/plain": [
       "'data: {\"status\":\"ready\",\"model_type\":\"GigaChat:v1.13.0\",\"model_type_display_name\":\"GigaChat:v1.13.0\",\"responses\":[{\"id\":4560325,\"data\":\"Гладить котиков — это очень приятное и расслабляющее занятие. Однако, чтобы получить максимальную пользу от этого процесса, необходимо учитывать несколько важных моментов.\\\\n\\\\nВо-первых, перед тем как начать гладить котика, убедитесь, что он находится в спокойном состоянии. Если кот нервничает или проявляет агрессию, лучше отложить процесс на другой раз.\\\\n\\\\nВо-вторых, не стоит сильно сжимать котика во время глажки. Это может вызвать дискомфорт и даже боль у животного. Вместо этого, используйте мягкие и нежные движения рук.\\\\n\\\\nВ-третьих, помните о том, что каждый котик индивидуален и имеет свой характер. Некоторые из них более активны и любят играть с игрушками, а другие предпочитают просто лежать на коленях хозяина. Поэтому выбирайте правильный подход к своему питомцу и учитывайте его предпочтения при глажке.\\\\n\\\\nНаконец, не забывайте о гигиене. После каждой глажки обязательно вымойте руки теплой водой и мылом. Это поможет избежать передачи различных инфекций вашему котику.\\\\n\\\\nТаким образом, глажка котиков — это простой и приятный способ провести время со своим любимцем. Главное — учитывать особенности каждого конкретного животного и выбирать правильный подход для достижения максимального удовольствия от процесса.\"}]}'"
      ]
     },
     "execution_count": 52,
     "metadata": {},
     "output_type": "execute_result"
    }
   ],
   "source": [
    "result[-2].decode(\"utf-8\")"
   ]
  },
  {
   "cell_type": "code",
   "execution_count": 36,
   "metadata": {},
   "outputs": [
    {
     "data": {
      "text/plain": [
       "'Привет! Я готов помочь вам с любыми вопросами на русском языке. Чем я могу быть полезен?'"
      ]
     },
     "execution_count": 36,
     "metadata": {},
     "output_type": "execute_result"
    }
   ],
   "source": []
  },
  {
   "cell_type": "code",
   "execution_count": 19,
   "metadata": {},
   "outputs": [
    {
     "data": {
      "text/plain": [
       "'60a57988-2afb-11ee-b456-3ceceff95a4d'"
      ]
     },
     "execution_count": 19,
     "metadata": {},
     "output_type": "execute_result"
    }
   ],
   "source": [
    "new_conv.current_conversation"
   ]
  },
  {
   "cell_type": "code",
   "execution_count": 4,
   "metadata": {},
   "outputs": [],
   "source": [
    "headers = json.loads(open(\"./gigachad.json\").read())\n",
    "\n",
    "# payload = {\n",
    "#     \"generate_alternatives\": False,\n",
    "#     \"preset\": \"default\",\n",
    "#     \"request_json\": \"Зачем человеку часы\",\n",
    "#     # \"session_id\": \"a63627a1-7261-40a5-ae0b-00ba6aadc541\",\n",
    "#     \"session_id\": str(uuid.uuid1()),\n",
    "#     \"model_type\": \"GigaChat:v1.0.0\",\n",
    "# }\n",
    "\n",
    "# print(payload)\n",
    "\n",
    "# response = requests.post(\n",
    "#     \"https://developers.sber.ru/api/chatwm/api/client/request\",\n",
    "#     headers=headers,\n",
    "#     data=json.dumps(payload),\n",
    "# )\n",
    "# response.json()"
   ]
  },
  {
   "cell_type": "code",
   "execution_count": 9,
   "metadata": {},
   "outputs": [
    {
     "name": "stdout",
     "output_type": "stream",
     "text": [
      "{'offset': 0, 'limit': 26, 'session_id': '08ef8eba-309e-11ee-bcd2-3ceceff95aa4', 'newer_first': True}\n"
     ]
    },
    {
     "data": {
      "text/plain": [
       "{'side': 'model',\n",
       " 'request_id': '8a33824d-0a7b-4f00-bccc-32ad47a6d1e5',\n",
       " 'date': '2023-08-01T19:06:01.6742Z',\n",
       " 'model_type': 'GigaChat:v1.13.0',\n",
       " 'model_type_display_name': 'GigaChat:v1.13.0',\n",
       " 'preset': 'default',\n",
       " 'preset_display_name': 'По умолчанию',\n",
       " 'response_id': 4557630,\n",
       " 'set_by_user': False,\n",
       " 'data': 'Привет! Я готов помочь вам с любыми вопросами на русском языке. Что вас интересует?'}"
      ]
     },
     "execution_count": 9,
     "metadata": {},
     "output_type": "execute_result"
    }
   ],
   "source": [
    "payload = {\n",
    "    \"offset\": 0,\n",
    "    \"limit\": 26,\n",
    "    \"session_id\": \"a63627a1-7261-40a5-ae0b-00bafaadc542\",\n",
    "    \"newer_first\": True,\n",
    "}\n",
    "# payload2[\"session_id\"] = payload[\"session_id\"]\n",
    "payload[\"session_id\"] = \"08ef8eba-309e-11ee-bcd2-3ceceff95aa4\"\n",
    "headers[\n",
    "    \"Referer\"\n",
    "] = f'https://developers.sber.ru/studio/workspaces/69a30c72-a3ac-43c6-8c5e-821383a4f064/ml/projects/70bc01c6-9062-4aa6-9c77-26c550fb4440/sessions/{payload[\"session_id\"]}'\n",
    "print(payload)\n",
    "\n",
    "response = requests.post(\n",
    "    \"https://developers.sber.ru/api/chatwm/api/client/session_messages\",\n",
    "    headers=headers,\n",
    "    data=json.dumps(payload),\n",
    ")\n",
    "response.json()[\"messages\"][0][\"request_id\"]"
   ]
  }
 ],
 "metadata": {
  "kernelspec": {
   "display_name": "base",
   "language": "python",
   "name": "python3"
  },
  "language_info": {
   "codemirror_mode": {
    "name": "ipython",
    "version": 3
   },
   "file_extension": ".py",
   "mimetype": "text/x-python",
   "name": "python",
   "nbconvert_exporter": "python",
   "pygments_lexer": "ipython3",
   "version": "3.10.9"
  },
  "orig_nbformat": 4
 },
 "nbformat": 4,
 "nbformat_minor": 2
}
