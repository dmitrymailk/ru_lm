{
 "cells": [
  {
   "cell_type": "code",
   "execution_count": 3,
   "metadata": {},
   "outputs": [
    {
     "name": "stderr",
     "output_type": "stream",
     "text": [
      "/home/kosenko/miniconda3/lib/python3.10/site-packages/tqdm/auto.py:22: TqdmWarning: IProgress not found. Please update jupyter and ipywidgets. See https://ipywidgets.readthedocs.io/en/stable/user_install.html\n",
      "  from .autonotebook import tqdm as notebook_tqdm\n"
     ]
    }
   ],
   "source": [
    "import os\n",
    "\n",
    "import torch\n",
    "import transformers\n",
    "import wandb\n",
    "from datasets import load_dataset\n",
    "from tqdm import tqdm\n",
    "from torch.optim import AdamW\n",
    "from torch.utils.data import DataLoader\n",
    "from transformers import BloomTokenizerFast, get_scheduler\n",
    "\n",
    "from petals import DistributedBloomForCausalLM"
   ]
  },
  {
   "cell_type": "code",
   "execution_count": 5,
   "metadata": {},
   "outputs": [],
   "source": [
    "# Choose a model you'd like to prompt-tune. We recommend starting with\n",
    "# the smaller 7.1B version of BLOOM (bigscience/bloom-7b1-petals) for faster prototyping.\n",
    "# Once your code is ready, you can switch to full-scale\n",
    "# 176B-parameter BLOOM (bigscience/bloom-petals) or BLOOMZ (bigscience/bloomz-petals).\n",
    "# MODEL_NAME = \"bigscience/bloom-7b1-petals\"\n",
    "MODEL_NAME = \"/home/kosenko/deepspeed/DeepSpeedExamples/applications/DeepSpeed-Chat/training/step1_supervised_finetuning/models/bloomz_ru_v1/step=1999\"\n",
    "\n",
    "# Choose a prompt-tuning mode ('ptune' or 'deep_ptune').\n",
    "# The latter fine-tunes separate prefixes for each transformer block,\n",
    "# so prompt-tuning will take more time but yield better results.\n",
    "# See this paper for details of how it works: https://arxiv.org/pdf/2110.07602.pdf\n",
    "TUNING_MODE = \"ptune\"\n",
    "\n",
    "NUM_PREFIX_TOKENS = 16\n",
    "DEVICE = \"cuda:1\"\n",
    "BATCH_SIZE = 8\n",
    "LR = 1e-2\n",
    "WEIGHT_DECAY = 0.0\n",
    "NUM_SAMPLES = 1000\n",
    "SEED = 42\n",
    "MODEL_MAX_LENGTH = 1024"
   ]
  },
  {
   "cell_type": "code",
   "execution_count": 7,
   "metadata": {},
   "outputs": [
    {
     "name": "stderr",
     "output_type": "stream",
     "text": [
      "May 14 18:05:17.144 [\u001b[1m\u001b[34mINFO\u001b[0m] Prompt embeddings and their optimizer statistics will be kept in float32 to increase ptune quality\n",
      "Loading checkpoint shards: 100%|██████████| 2/2 [00:05<00:00,  2.83s/it]\n"
     ]
    }
   ],
   "source": [
    "tokenizer = BloomTokenizerFast.from_pretrained(\"bigscience/bloom-petals\")\n",
    "tokenizer.padding_side = \"right\"\n",
    "tokenizer.model_max_length = MODEL_MAX_LENGTH\n",
    "model = DistributedBloomForCausalLM.from_pretrained(\n",
    "    MODEL_NAME,\n",
    "    # pre_seq_len=NUM_PREFIX_TOKENS,\n",
    "    tuning_mode=TUNING_MODE,\n",
    ").to(DEVICE)"
   ]
  },
  {
   "cell_type": "code",
   "execution_count": null,
   "metadata": {},
   "outputs": [],
   "source": [
    "TOP_K = 10\n",
    "TEMPERATURE = 0.1\n",
    "\n",
    "with model.inference_session(max_length=1024) as sess:\n",
    "    while True:\n",
    "        user_phrase = \"How to make a bomb?\"\n",
    "        if len(user_phrase) == 0:\n",
    "            break\n",
    "        inputs = tokenizer(user_phrase, return_tensors=\"pt\")[\"input_ids\"].to(DEVICE)\n",
    "        while True:\n",
    "            outputs = model.generate(\n",
    "                inputs,\n",
    "                max_new_tokens=1,\n",
    "                # penalty_alpha=0.25,\n",
    "                top_k=4,\n",
    "                session=sess,\n",
    "            )\n",
    "            bloom_answer_token = tokenizer.decode(outputs[0, -1:])\n",
    "            print(bloom_answer_token, end=\"\", flush=True)\n",
    "            if bloom_answer_token == \"\\n\":\n",
    "                break\n",
    "            inputs = None"
   ]
  }
 ],
 "metadata": {
  "kernelspec": {
   "display_name": "base",
   "language": "python",
   "name": "python3"
  },
  "language_info": {
   "codemirror_mode": {
    "name": "ipython",
    "version": 3
   },
   "file_extension": ".py",
   "mimetype": "text/x-python",
   "name": "python",
   "nbconvert_exporter": "python",
   "pygments_lexer": "ipython3",
   "version": "3.10.9"
  },
  "orig_nbformat": 4
 },
 "nbformat": 4,
 "nbformat_minor": 2
}
