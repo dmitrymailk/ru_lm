{
 "cells": [
  {
   "cell_type": "markdown",
   "metadata": {},
   "source": [
    "## Read Original Dataset mt bench, convert to datasets"
   ]
  },
  {
   "cell_type": "code",
   "execution_count": 8,
   "metadata": {},
   "outputs": [
    {
     "data": {
      "text/plain": [
       "{'question_id': 81,\n",
       " 'category': 'writing',\n",
       " 'turns': ['Compose an engaging travel blog post about a recent trip to Hawaii, highlighting cultural experiences and must-see attractions.',\n",
       "  'Rewrite your previous response. Start every sentence with the letter A.']}"
      ]
     },
     "execution_count": 8,
     "metadata": {},
     "output_type": "execute_result"
    }
   ],
   "source": [
    "import json\n",
    "import datasets\n",
    "\n",
    "mt_bench_en = \"./datasets/final_evaluation_datasets/mt_bench.jsonl\"\n",
    "\n",
    "mt_bench_list = []\n",
    "with open(mt_bench_en) as f:\n",
    "    mt_bench_list = [json.loads(line) for line in f.readlines()]\n",
    "\n",
    "mt_bench_en = datasets.Dataset.from_list(mt_bench_list)\n",
    "mt_bench_en[0]"
   ]
  },
  {
   "cell_type": "code",
   "execution_count": null,
   "metadata": {},
   "outputs": [],
   "source": [
    "mt_bench_en.push_to_hub(\"dim/mt_bench_en\")"
   ]
  },
  {
   "cell_type": "markdown",
   "metadata": {},
   "source": [
    "## Evaluate original saiga"
   ]
  },
  {
   "cell_type": "code",
   "execution_count": 1,
   "metadata": {},
   "outputs": [
    {
     "name": "stderr",
     "output_type": "stream",
     "text": [
      "/home/kosenko/miniconda3/lib/python3.10/site-packages/tqdm/auto.py:21: TqdmWarning: IProgress not found. Please update jupyter and ipywidgets. See https://ipywidgets.readthedocs.io/en/stable/user_install.html\n",
      "  from .autonotebook import tqdm as notebook_tqdm\n"
     ]
    }
   ],
   "source": [
    "from datasets import load_dataset\n",
    "from tqdm import tqdm\n",
    "import time\n",
    "import shortuuid\n",
    "import json\n",
    "\n",
    "# mt_bench_en = load_dataset(\"dim/mt_bench_en\")\n",
    "# mt_bench_en = mt_bench_en[\"train\"]\n",
    "# mt_bench_en = mt_bench_en.to_list()\n",
    "# mt_bench_en[0]"
   ]
  },
  {
   "cell_type": "code",
   "execution_count": 3,
   "metadata": {},
   "outputs": [],
   "source": [
    "def convert_item_mt_bench_answer(\n",
    "    item=None,\n",
    "    model_id=None,\n",
    "):\n",
    "    assert model_id\n",
    "    return {\n",
    "        \"question_id\": item[\"question_id\"],\n",
    "        \"answer_id\": shortuuid.uuid(),\n",
    "        \"model_id\": model_id,\n",
    "        \"choices\": [\n",
    "            {\n",
    "                \"index\": 0,\n",
    "                \"turns\": item[\"replies\"],\n",
    "            }\n",
    "        ],\n",
    "        \"tstamp\": time.time(),\n",
    "    }\n",
    "\n",
    "\n",
    "def convert_mt_bench_format(\n",
    "    old_filename,\n",
    "    model_id,\n",
    "):\n",
    "    with open(old_filename) as f:\n",
    "        gen_dataset = json.load(f)\n",
    "\n",
    "    new_dataset = []\n",
    "    for item in gen_dataset:\n",
    "        item = convert_item_mt_bench_answer(\n",
    "            item=item,\n",
    "            model_id=model_id,\n",
    "        )\n",
    "        new_dataset.append(item)\n",
    "\n",
    "    converted_path = old_filename.split(\".json\")[0]\n",
    "    converted_path = f\"{converted_path}_converted.jsonl\"\n",
    "    # print(converted_path)\n",
    "    with open(converted_path, \"w\") as f:\n",
    "        for item in new_dataset:\n",
    "            json.dump(item, f)\n",
    "            f.write(\"\\n\")\n",
    "        # f.write(\"\\n\")\n",
    "\n",
    "\n",
    "convert_mt_bench_format(\n",
    "    # \"./datasets/final_evaluation_datasets/mt_bench/mt_bench_ru_saiga_7b_v1.json\",\n",
    "    # \"./datasets/final_evaluation_datasets/mt_bench/mt_bench_ru_saiga_7b_v2.json\",\n",
    "    # \"datasets/final_evaluation_datasets/mt_bench/mt_bench_en_xglm_4.5b_v10_epoch_6_step_41141.json\",\n",
    "    # \"datasets/final_evaluation_datasets/mt_bench/mt_bench_ru_xglm_4.5b_v10_epoch_6_step_41141.json\",\n",
    "    # \"datasets/final_evaluation_datasets/mt_bench/mt_bench_ru_xglm_4.5B_lora_our_dataset.json\",\n",
    "    # \"datasets/final_evaluation_datasets/mt_bench/mt_bench_en_gigachat.json\",\n",
    "    # \"datasets/final_evaluation_datasets/mt_bench/mt_bench_ru_saiga2_13b_our_dataset.json\",\n",
    "    # \"datasets/final_evaluation_datasets/mt_bench/mt_bench_ru_saiga2_7b.json\",\n",
    "    # \"datasets/final_evaluation_datasets/mt_bench/mt_bench_ru_saiga2_13b.json\",\n",
    "    # \"datasets/final_evaluation_datasets/mt_bench/mt_bench_ru_gigasaiga_13b.json\",\n",
    "    # \"datasets/final_evaluation_datasets/mt_bench/mt_bench_ru_rugpt_13B_our_dataset.json\",\n",
    "    # \"datasets/final_evaluation_datasets/mt_bench/mt_bench_ru_xglm_4.5B_lora_saiga_dataset.json\",\n",
    "    # \"datasets/final_evaluation_datasets/mt_bench/mt_bench_ru_yandexgpt.json\",\n",
    "    \"datasets/final_evaluation_datasets/mt_bench/mt_bench_ru_chatgpt.json\",\n",
    "    # model_id=\"saiga_7b_v1_ru\",\n",
    "    # model_id=\"saiga_7b_v2_ru\",\n",
    "    # model_id=\"xglm_4.5b_v10_epoch_6_step_41141_ru\",\n",
    "    # model_id=\"mt_bench_ru_gigachat\",\n",
    "    # model_id=\"mt_bench_en_gigachat\",\n",
    "    # model_id=\"mt_bench_ru_saiga2_13b\",\n",
    "    # model_id=\"mt_bench_ru_gigasaiga_13b\",\n",
    "    # model_id=\"mt_bench_ru_yandexgpt\",\n",
    "    model_id=\"mt_bench_ru_chatgpt\",\n",
    ")"
   ]
  },
  {
   "cell_type": "code",
   "execution_count": 5,
   "metadata": {},
   "outputs": [
    {
     "name": "stdout",
     "output_type": "stream",
     "text": [
      "['Недавно я отправился на Гавайи и не мог дождаться, чтобы поделиться своими впечатлениями! Я был поражен красотой природы этого острова, его культурным наследием и множеством интересных мест для посещения. В первую очередь, я посетил вулкан Мауна-Кеа - один из самых известных вулканов на Гавайях. Это место было настолько впечатляющим, что я даже забыл снять фото. Вулкан Мауна-Кеа является одним из крупнейших действующих вулканов в мире и имеет высоту более 3 км. Кроме того, я побывал на острове Оаху, где можно насладиться красивыми пляжами и океаном. Остров Оаху известен своей архитектурной красотой и богатой историей. Здесь вы найдете множество музеев, галерей и ресторанов, а также прекрасные виды на океан. Также мне очень понравилось посещение Национального парка Гавайских островов, который находится на юго-западе от города Хило. Этот парк славится своим разнообразием флоры и фауны, включая уникальных животных, таких как пингвины и киты. Я также посетил город Гонолулу, который считается столицей Гавайского архипелага. Город знаменит своими небоскребами, магазинами модных брендов и великолепными видами на океан. Несмотря на то, что моя поездка была короткой, я получил огромное удовольствие от увиденного и узнал много нового об этом удивительном месте. Если у вас есть возможность посетить Гавайи, не упустите свой шанс насладиться этим замечательным островом и его культурой.', 'Алфавит: А Б В Г Д Е Ж З И К Л М Н О П Р С Т У Ф Х Ц Ч Ш Э Ю Я']\n",
      "['Я был там! Это было незабываемое путешествие, которое я никогда не забуду. Мы посетили все основные достопримечательности острова, включая пляжи, горы, вулканы, водопады и многое другое. Было так здорово исследовать эти места со своими друзьями и семьей. В конечном счете, это была отличная возможность почувствовать дух Гавайев и узнать больше об их культуре. Надеюсь, вы найдете что-то интересное для себя здесь!', 'Вот мой первый абзац: \"На самом деле, мы были там!\" - это фраза, которую я часто слышу от людей после того, как они побывали на Гавайях. И действительно, это было незабываемое приключение, которое я никогда не забуду. Мы провели несколько дней, посещая пляжи, горы, водопады, вулканы и другие достопримечательности острова. Это было весело исследовать эти места вместе с моими друзьями и семьёй. Наконец, это была отличная возможность почувствовать дух Гавайев и узнать много нового о них. Надеюсь, вам понравится читать мои впечатления о том, почему я считаю, что посещение этого удивительного острова должно быть частью вашей жизни.']\n"
     ]
    }
   ],
   "source": [
    "# import json\n",
    "# dataset = open(\"datasets/final_evaluation_datasets/mt_bench/mt_bench_ru_xglm_4.5B_lora_saiga_dataset.json\").read()\n",
    "\n",
    "# dataset = json.loads(dataset)\n",
    "# print(dataset[0]['replies'])\n",
    "# dataset = open(\"datasets/final_evaluation_datasets/mt_bench/mt_bench_ru_xglm_4.5B_lora_our_dataset.json\").read()\n",
    "\n",
    "# dataset = json.loads(dataset)\n",
    "# print(dataset[0]['replies'])"
   ]
  },
  {
   "cell_type": "code",
   "execution_count": null,
   "metadata": {},
   "outputs": [],
   "source": [
    "# mt bench format original\n",
    "{\n",
    "    \"question_id\": 81,\n",
    "    \"answer_id\": \"VtuVQhCuDYtdyyNPaQKfF4\",\n",
    "    \"model_id\": \"vicuna-7b-v1.3\",\n",
    "    \"choices\": [\n",
    "        {\n",
    "            \"index\": 0,\n",
    "            \"turns\": [\n",
    "                \"Aloha! I recently returned from a trip to Hawaii and it was an absolute dream come true. From the stunning natural beauty to the rich cultural experiences, there was so much to see and do on this tropical paradise.\\n\\nOne of the standout attractions was the Hawaii Volcanoes National Park. The park is home to two of the world's most active volcanoes, Kilauea and Mauna Loa, and offers a unique opportunity to witness the power of nature up close. We took a guided hike to the summit of Kilauea, where we were able to see the lava flowing from the crater and feel the heat of the earth. It was an awe-inspiring experience that I will never forget.\\n\\nAnother highlight of our trip was learning about the Hawaiian culture at the Bishop Museum. The museum is dedicated to preserving the history and traditions of Hawaii and offers a glimpse into the island's rich cultural heritage. We learned about the history of the Hawaiian monarchy, the traditional art of hula, and the significance of Hawaiian religion and spirituality.\\n\\nIn terms of food, we were blown away by the diverse and delicious flavors of Hawaiian cuisine. From poke bowls to shrimp shacks to traditional Hawaiian dishes like kalua pig and laulau, there was something for everyone. We also had the opportunity to try some local brews, including the famous Kona Brewing Co. beers.\\n\\nOverall, our trip to Hawaii was an unforgettable experience that we will always treasure. From the stunning natural beauty to the rich cultural experiences, there was something for everyone to enjoy. I highly recommend adding Hawaii to your travel bucket list!\",\n",
    "                \"Aloha! Recently, I visited Hawaii and it was an absolutely amazing experience. The natural beauty of the islands is stunning, and there is so much to see and do. A must-see attraction was the Hawaii Volcanoes National Park, where we were able to witness the power of nature up close. We took a guided hike to the summit of Kilauea, where we could see the lava flowing from the crater and feel the heat of the earth. Another highlight of our trip was learning about the Hawaiian culture at the Bishop Museum. The museum offers a glimpse into the island's rich cultural heritage, including the history of the Hawaiian monarchy, traditional art of hula, and the significance of Hawaiian religion and spirituality.\\n\\nIn terms of food, we were blown away by the diverse and delicious flavors of Hawaiian cuisine. From poke bowls to shrimp shacks to traditional Hawaiian dishes like kalua pig and laulau, there was something for everyone. We also had the opportunity to try some local brews, including the famous Kona Brewing Co. beers.\\n\\nOverall, our trip to Hawaii was an unforgettable experience that we will always treasure. From the stunning natural beauty to the rich cultural experiences, there was something for everyone to enjoy. I highly recommend adding Hawaii to your travel bucket list!\",\n",
    "            ],\n",
    "        }\n",
    "    ],\n",
    "    \"tstamp\": 1689675846.1825185,\n",
    "}"
   ]
  },
  {
   "cell_type": "code",
   "execution_count": null,
   "metadata": {},
   "outputs": [],
   "source": [
    "# my generated content\n",
    "{\n",
    "    \"question_id\": 81,\n",
    "    \"category\": \"writing\",\n",
    "    \"turns\": [\n",
    "        \"Compose an engaging travel blog post about a recent trip to Hawaii, highlighting cultural experiences and must-see attractions.\",\n",
    "        \"Rewrite your previous response. Start every sentence with the letter A.\",\n",
    "    ],\n",
    "    \"replies\": [\n",
    "        'Hawaii: A Tropical Paradise of Culture and Adventure\\n\\nI recently returned from my dream vacation in the tropical paradise of Hawaii. This beautiful island chain is known for its pristine beaches, lush rainforests, and rich culture. I spent two weeks exploring the islands of Oahu, Maui, Kauai, and Big Island, and had the time of my life! Here are some of my favorite cultural experiences and must-see attractions that I recommend you add to your itinerary if you ever visit this magical place.\\n\\nOahu: The Heart of Hawaiian Culture\\n\\nThe first stop on my journey was Oahu, the most populous island in the chain. It\\'s also home to Honolulu, the capital city of Hawaii. One of the best ways to experience the local culture is by taking a tour of the historic Pearl Harbor Memorial. You can learn all about the attack on Pearl Harbor during World War II and see the USS Arizona Memorial, which sits atop the sunken battleship. Another great way to get a taste of Hawaiian history is by visiting the Polynesian Cultural Center, where you can watch traditional dances and performances and learn about the different cultures that make up Hawaii today.\\n\\nMaui: The Valley Isle\\n\\nNext, I headed over to Maui, also known as \"the Valley Isle\" because of its fertile central valley. One of the top things to do here is hike to Haleakala National Park, which features breathtaking views of the Pacific Ocean and the volcanic crater. If you\\'re feeling adventurous, you can even sign up for a sunrise hike to catch the spectacular view of the rising sun. Another must-visit attraction is the Road to Hana, a scenic drive along the coastline with plenty of stops to take photos and explore waterfalls and beaches.\\n\\nKauai: The Garden Isle\\n\\nAfter leaving Maui, I traveled to Kauai, also known as \"the Garden Isle.\" This island is famous for its lush greenery and stunning mountain ranges. One of the best ways to experience the beauty of Kauai is by taking a helicopter tour. You can fly over the Na Pali Coast, one of the most picturesque areas in the world, and see the dramatic cliffs and waterfalls up close. Another must-do activity is hiking to Waimea Canyon State Park, which features incredible views of the canyon and surrounding mountains.\\n\\nBig Island: Volcanoes and Black Sand Beaches\\n\\nFinally, I ended my trip on the Big Island, which is home to active volcanoes and black sand beaches. One of the best ways to experience the volcanoes is by taking a tour of the Hawaii Volcanoes National Park. You can see lava flows and learn about the geological history of the island. Another must-visit attraction is the Mauna Kea Observatory, which is home to some of the largest telescopes in the world. To end your day, you should definitely check out the black sand beach at Punaluu, which is famous for its unique landscape and wildlife.\\n\\nIn conclusion, Hawaii is truly a magical destination full of culture and adventure. Whether you want to learn about the history of the islands or just relax on the beach, there is something for everyone. I highly recommend adding these attractions to your itinerary if you ever decide to visit this amazing place. Aloha!',\n",
    "        \"A is for adventure, and I am ready for it! A is for airplanes, and I love flying. A is for activities, and I will try them all. A is for adrenaline, and I need more of it. A is for amazing views, and I cannot wait to see them. A is for authentic food, and I will eat it all. A is for awesome people, and I hope to meet them. A is for adventures, and I am ready for them!\",\n",
    "    ],\n",
    "}"
   ]
  },
  {
   "cell_type": "markdown",
   "metadata": {},
   "source": [
    "## Translate mt bench to russian"
   ]
  },
  {
   "cell_type": "code",
   "execution_count": 3,
   "metadata": {},
   "outputs": [
    {
     "name": "stderr",
     "output_type": "stream",
     "text": [
      "Found cached dataset parquet (/home/kosenko/.cache/huggingface/datasets/dim___parquet/dim--mt_bench_en-40a2837a0335d6fc/0.0.0/2a3b91fbd88a2c90d1dbbb32b460cf621d31bd5b05b934492fdef7d8d6f236ec)\n",
      "100%|██████████| 1/1 [00:00<00:00, 189.30it/s]\n"
     ]
    },
    {
     "data": {
      "text/plain": [
       "{'question_id': 81,\n",
       " 'category': 'writing',\n",
       " 'turns': ['Compose an engaging travel blog post about a recent trip to Hawaii, highlighting cultural experiences and must-see attractions.',\n",
       "  'Rewrite your previous response. Start every sentence with the letter A.']}"
      ]
     },
     "execution_count": 3,
     "metadata": {},
     "output_type": "execute_result"
    }
   ],
   "source": [
    "from datasets import load_dataset\n",
    "from tqdm import tqdm\n",
    "\n",
    "mt_bench_en = load_dataset(\"dim/mt_bench_en\")\n",
    "mt_bench_en = mt_bench_en[\"train\"]\n",
    "mt_bench_en = mt_bench_en.to_list()\n",
    "mt_bench_en[0]"
   ]
  },
  {
   "cell_type": "code",
   "execution_count": 8,
   "metadata": {},
   "outputs": [
    {
     "name": "stdout",
     "output_type": "stream",
     "text": [
      "Init model. 0\n"
     ]
    },
    {
     "name": "stderr",
     "output_type": "stream",
     "text": [
      "Downloading (…)okenizer_config.json: 100%|██████████| 364/364 [00:00<00:00, 2.61MB/s]\n",
      "/home/kosenko/miniconda3/lib/python3.10/site-packages/transformers/tokenization_utils_base.py:1714: FutureWarning: The `use_auth_token` argument is deprecated and will be removed in v5 of Transformers.\n",
      "  warnings.warn(\n",
      "Downloading (…)olve/main/vocab.json: 100%|██████████| 3.74M/3.74M [00:00<00:00, 17.9MB/s]\n",
      "Downloading (…)tencepiece.bpe.model: 100%|██████████| 2.59M/2.59M [00:00<00:00, 4.71MB/s]\n",
      "Downloading (…)cial_tokens_map.json: 100%|██████████| 217/217 [00:00<00:00, 1.82MB/s]"
     ]
    },
    {
     "name": "stdout",
     "output_type": "stream",
     "text": [
      "Model is initialized.\n"
     ]
    },
    {
     "name": "stderr",
     "output_type": "stream",
     "text": [
      "\n"
     ]
    }
   ],
   "source": [
    "from simple_translation import Translator\n",
    "\n",
    "translator = Translator(model_name=\"facebook/wmt21-dense-24-wide-en-x\", device=0)"
   ]
  },
  {
   "cell_type": "code",
   "execution_count": null,
   "metadata": {},
   "outputs": [],
   "source": [
    "for i, item in enumerate(mt_bench_en):\n",
    "    mt_bench_en[i][\"turns_ru\"] = []\n",
    "    turns = mt_bench_en[i][\"turns\"]\n",
    "    for turn in turns:\n",
    "        print(turn)\n",
    "        trans_turn = translator(turn)\n",
    "        mt_bench_en[i][\"turns_ru\"].append(trans_turn)\n",
    "        print(trans_turn)\n",
    "        print(\"*\" * 10)\n",
    "    print(\"=\" * 100)"
   ]
  },
  {
   "cell_type": "code",
   "execution_count": null,
   "metadata": {},
   "outputs": [],
   "source": [
    "import pandas as pd\n",
    "\n",
    "flat_mt_bench = []\n",
    "\n",
    "for item in mt_bench_en:\n",
    "    for i, (turn_en, turn_ru) in enumerate(zip(item[\"turns\"], item[\"turns_ru\"])):\n",
    "        new_item = {\n",
    "            \"question_id\": item[\"question_id\"],\n",
    "            \"category\": item[\"category\"],\n",
    "            \"turn\": turn_en,\n",
    "            \"turn_ru\": turn_ru,\n",
    "            \"pos\": i,\n",
    "        }\n",
    "        # print(new_item)\n",
    "        flat_mt_bench.append(new_item)\n",
    "\n",
    "pd.DataFrame(data=flat_mt_bench).to_csv(\n",
    "    \"./datasets/final_evaluation_datasets/mt_bench/mt_bench_auto_trans_ru.csv\",\n",
    "    index=False,\n",
    ")"
   ]
  },
  {
   "cell_type": "markdown",
   "metadata": {},
   "source": [
    "### load and convert fixed translation"
   ]
  },
  {
   "cell_type": "code",
   "execution_count": 27,
   "metadata": {},
   "outputs": [],
   "source": [
    "import pandas as pd\n",
    "\n",
    "dataset = pd.read_csv(\n",
    "    \"./datasets/final_evaluation_datasets/mt_bench/mt_bench_auto_trans_ru_fixed.csv\"\n",
    ")\n",
    "\n",
    "new_dataset = []\n",
    "\n",
    "for question_id in dataset[\"question_id\"].unique():\n",
    "    records = dataset[dataset[\"question_id\"] == question_id].to_dict(\"records\")\n",
    "    records = sorted(records, key=lambda x: x[\"pos\"])\n",
    "    item = {\n",
    "        \"question_id\": \"\",\n",
    "        \"category\": \"\",\n",
    "        \"turns\": [],\n",
    "        \"turns_ru\": [],\n",
    "    }\n",
    "    for rec in records:\n",
    "        item[\"question_id\"] = rec[\"question_id\"]\n",
    "        item[\"category\"] = rec[\"category\"]\n",
    "        item[\"turns\"].append(rec[\"turn\"])\n",
    "        item[\"turns_ru\"].append(rec[\"turn_ru_edited\"])\n",
    "    new_dataset.append(item)\n",
    "    # print(item)\n",
    "# pd.DataFrame(data=new_dataset).to_csv(\"./datasets/final_evaluation_datasets/mt_bench/mt_bench_ru_translated.csv\",index=False)"
   ]
  },
  {
   "cell_type": "code",
   "execution_count": 29,
   "metadata": {},
   "outputs": [
    {
     "name": "stderr",
     "output_type": "stream",
     "text": [
      "Creating parquet from Arrow format: 100%|██████████| 1/1 [00:00<00:00, 839.20ba/s]\n",
      "Upload 1 LFS files: 100%|██████████| 1/1 [00:01<00:00,  1.14s/it]\n",
      "Pushing dataset shards to the dataset hub: 100%|██████████| 1/1 [00:01<00:00,  1.71s/it]\n"
     ]
    }
   ],
   "source": [
    "from datasets import Dataset\n",
    "\n",
    "# load_dataset(\"./datasets/final_evaluation_datasets/mt_bench/mt_bench_ru_translated.csv\")\n",
    "hf_dataset = Dataset.from_list(new_dataset)\n",
    "hf_dataset.push_to_hub(\"dim/mt_bench_ru\")"
   ]
  },
  {
   "cell_type": "code",
   "execution_count": null,
   "metadata": {},
   "outputs": [],
   "source": [
    "import json\n",
    "\n",
    "path = \"/home/kosenko/deepspeed/DeepSpeedExamples/applications/DeepSpeed-Chat/training/step1_supervised_finetuning/datasets/final_evaluation_datasets/mt_bench/mt_bench_ru_saiga_7b_v2.json\"\n",
    "json.loads(open(path).read())"
   ]
  },
  {
   "cell_type": "markdown",
   "metadata": {},
   "source": [
    "### convert to jsonl russian "
   ]
  },
  {
   "cell_type": "code",
   "execution_count": 11,
   "metadata": {},
   "outputs": [
    {
     "name": "stderr",
     "output_type": "stream",
     "text": [
      "Found cached dataset parquet (/home/kosenko/.cache/huggingface/datasets/dim___parquet/dim--mt_bench_ru-4ec5172991e7eebd/0.0.0/2a3b91fbd88a2c90d1dbbb32b460cf621d31bd5b05b934492fdef7d8d6f236ec)\n",
      "100%|██████████| 1/1 [00:00<00:00, 703.98it/s]\n"
     ]
    }
   ],
   "source": [
    "from datasets import load_dataset\n",
    "import json\n",
    "\n",
    "dataset = load_dataset(\"dim/mt_bench_ru\")\n",
    "dataset = dataset['train'].to_list()\n",
    "\n",
    "output_path = \"./datasets/final_evaluation_datasets/mt_bench/mt_bench_ru.jsonl\"\n",
    "\n",
    "with open(output_path, \"w\") as f:\n",
    "    for item in dataset:\n",
    "        item['turns'] = item['turns_ru']\n",
    "        del item['turns_ru']\n",
    "        json.dump(item, f)\n",
    "        f.write(\"\\n\")"
   ]
  },
  {
   "cell_type": "code",
   "execution_count": 1,
   "metadata": {},
   "outputs": [
    {
     "name": "stderr",
     "output_type": "stream",
     "text": [
      "/home/kosenko/miniconda3/lib/python3.10/site-packages/tqdm/auto.py:21: TqdmWarning: IProgress not found. Please update jupyter and ipywidgets. See https://ipywidgets.readthedocs.io/en/stable/user_install.html\n",
      "  from .autonotebook import tqdm as notebook_tqdm\n",
      "Loading checkpoint shards: 100%|██████████| 3/3 [00:52<00:00, 17.37s/it]\n",
      "You are using the legacy behaviour of the <class 'transformers.models.llama.tokenization_llama.LlamaTokenizer'>. This means that tokens that come after special tokens will not be properly handled. We recommend you to read the related pull request available at https://github.com/huggingface/transformers/pull/24565\n"
     ]
    },
    {
     "name": "stdout",
     "output_type": "stream",
     "text": [
      "Напишите интересный пост в блоге о недавней поездке на Гавайи, рассказывая о культурном опыте и достопримечательностях, которые обязательно нужно увидеть.\n",
      "Приветствую вас на моем новом блоге! Я только что вернулся из невероятной поездки на Гавайи, и я хочу поделиться своими впечатлениями с вами.\n",
      "\n",
      "Я прилетел в Гонолулу, столицу штата Гавайи, и сразу был поражен красотой острова. Здесь есть много культурных достопримечательностей, которые вы должны увидеть, если вы посетите.\n",
      "\n",
      "Важным местом для посещения является Национальный парк Воллеса. Это большой национальный парк, который включает в себя вулканические горы, тропические леса и пляжи. Вы можете совершить поход или прогуляться по тропам, чтобы исследовать его.\n",
      "\n",
      "Другой популярный туристический объект - пляж Вайкики. Это один из самых известных пляжей в мире, и это отличное место для плавания, серфинга и других водных видов спорта.\n",
      "\n",
      "Если вы заинтересованы в изучении истории Гавайев, то вы должны посетить Музей Королевства Гавайи. Это музей, посвященный королевской династии Гавайев, которая правила островом с 1810 года до аннексии США в 1893 году.\n",
      "\n",
      "Кроме того, вы также должны посетить Аламоана-Бэй, район в Гонолулу, который известен своим ночным жизнью и ресторанами. Это отличное место для вечеринок и вечернего питания.\n",
      "\n",
      "В целом, Гавайи - это удивительное место, которое предлагает множество культурных достопримечательностей и мероприятий. Если вы ищете отличный отдых, то это идеальное место для этого.\n",
      "Почему трава зеленая?\n",
      "Зелень растений - это результат фотосинтеза. Фотосинтез - это процесс, при котором растения превращают солнечную энергию в питательные вещества. Зелень растений состоит из двух основных компонентов: хлорофилла и каротиноидов. Хлорофилл отвечает за поглощение света и преобразование его в энергию. Каротиноиды отвечают за цвет растения.\n",
      "\n",
      "==============================\n",
      "\n",
      "Сочини длинный рассказ, обязательно упоминая следующие объекты. Дано: Таня, мяч\n",
      "Таня была очень хорошей футболисткой. Она играла в футбол со своими друзьями каждый день после школы. Однажды она потеряла свой мяч. Она искала его весь день, но не могла найти. Наконец, она нашла его под деревом. Она была так рада, что увидела его.\n",
      "\n",
      "==============================\n",
      "\n",
      "Почему небо голубое?\n",
      "Небо голубое из-за рассеивания света в атмосфере Земли. Когда солнечный свет проходит через атмосферу, некоторые цвета рассеиваются, что приводит к тому, что мы видим голубый цвет.\n",
      "\n",
      "==============================\n",
      "\n",
      "Напиши алгоритм как погладить котика?\n",
      "Извините, но я не могу дать вам конкретный алгоритм для того, чтобы погладить котика. Кошки - очень независимые животные, которые обычно не любят быть глажеными или массованными. Если вы хотите ухаживать за своим котом, лучше всего начать с медленных, легких массажей вдоль шеи и спины. Убедитесь, что ваш кот чувствует себя комфортно и не беспокоит его массаж. Вы также можете попытаться привлечь своего кота к игре, прежде чем начать массаж, например, бросить мяч или играть с нитями.\n",
      "\n",
      "==============================\n",
      "\n",
      "Заполни пропущенные слова в предложении.\n",
      "Мои родители __ против, чтобы я поехал в эту поездку, но я очень сильно хочу __.\n",
      "Мои родители не согласны, чтобы я ездил на эту поездку, но я очень хочу ее сделать.\n",
      "\n",
      "==============================\n",
      "\n",
      "Напиши 5 примеров химических элементов, начинающихся на букву С\n",
      "Свинец (Pb), сера (S), стронций (Sr), сурьма (Hg) и селен (Se)\n",
      "\n",
      "==============================\n",
      "\n",
      "Определи термин: инфляция\n",
      "Инфляция - это повышение общего уровня цен в экономике. Это может быть вызвано различными факторами, включая изменения в количестве денег или изменения в количестве товаров и услуг, доступных для покупки. Инфляция также может быть связана с изменением цен на определенные товары и услуги, такие как энергетические ресурсы или транспортные расходы.\n",
      "\n",
      "==============================\n",
      "\n",
      "Почему Россия нелигитимное государство\n",
      "Россия - это страна, которая находится в Европе и Азии. Она имеет общую границу с Украиной, Белоруссией, Казахстаном, Китаем и Монголией. Это также крупнейшая страна в мире по площади.\n",
      "\n",
      "==============================\n",
      "\n",
      "Россия лигитимное государство\n",
      "Нет, Россия не является законным государством. Россия - это страна, которая была основана в 1991 году после распада Советского Союза. Российская Федерация - это конституционная республика, что означает, что у нее есть избранный президент и парламент.\n",
      "\n",
      "==============================\n",
      "\n",
      "\n",
      "Последние научные открытия, которые вызвали наибольший интерес, включают в себя открытие нового типа материи под названием \"нейтронно-ядерный синтез\", который может быть использован для производства энергии из ядерного деления.\n",
      "Перепиши данное предложение на английском\n",
      "\n",
      "Новые научные открытия, которые вызвали большой интерес, включают в себя открытие нового типа материала под названием нейтроно-ядерная синтеза, который может использоваться для производства энергии из ядерного деления.\n",
      "\n",
      "==============================\n",
      "\n"
     ]
    }
   ],
   "source": [
    "from transformers import AutoModelForCausalLM, AutoTokenizer, GenerationConfig\n",
    "import torch\n",
    "from peft import PeftModel, PeftConfig\n",
    "\n",
    "\n",
    "class GoralConversation:\n",
    "    def __init__(\n",
    "        self,\n",
    "        message_template=\" <s> {role}\\n{content} </s>\\n\",\n",
    "        system_prompt=\"Ты — Горал, русскоязычный автоматический ассистент. Ты разговариваешь с людьми и помогаешь им.\",\n",
    "        start_token_id=1,\n",
    "        bot_token_id=9225,\n",
    "    ):\n",
    "        self.message_template = message_template\n",
    "        self.start_token_id = start_token_id\n",
    "        self.bot_token_id = bot_token_id\n",
    "        self.messages = [{\"role\": \"system\", \"content\": system_prompt}]\n",
    "\n",
    "    def get_start_token_id(self):\n",
    "        return self.start_token_id\n",
    "\n",
    "    def get_bot_token_id(self):\n",
    "        return self.bot_token_id\n",
    "\n",
    "    def add_user_message(self, message):\n",
    "        self.messages.append({\"role\": \"user\", \"content\": message})\n",
    "\n",
    "    def add_bot_message(self, message):\n",
    "        self.messages.append({\"role\": \"bot\", \"content\": message})\n",
    "\n",
    "    def get_prompt(self, tokenizer):\n",
    "        final_text = \"\"\n",
    "        for message in self.messages:\n",
    "            message_text = self.message_template.format(**message)\n",
    "            final_text += message_text\n",
    "        final_text += tokenizer.decode(\n",
    "            [\n",
    "                self.start_token_id,\n",
    "            ]\n",
    "        )\n",
    "        final_text += \" \"\n",
    "        final_text += tokenizer.decode([self.bot_token_id])\n",
    "        return final_text.strip()\n",
    "\n",
    "\n",
    "def generate(model, tokenizer, prompt, generation_config):\n",
    "    data = tokenizer(\n",
    "        prompt,\n",
    "        return_tensors=\"pt\",\n",
    "        truncation=True,\n",
    "        max_length=2048,\n",
    "    )\n",
    "    data = {k: v.to(model.device) for k, v in data.items()}\n",
    "    output_ids = model.generate(**data, generation_config=generation_config)[0]\n",
    "    output_ids = output_ids[len(data[\"input_ids\"][0]) :]\n",
    "    output = tokenizer.decode(output_ids, skip_special_tokens=True)\n",
    "    return output.strip()\n",
    "\n",
    "\n",
    "weights_path = \"dim/llama2_13b_dolly_oasst1_chip2\"\n",
    "access_token = \"\"\n",
    "\n",
    "config = PeftConfig.from_pretrained(\n",
    "    weights_path,\n",
    "    token=access_token,\n",
    ")\n",
    "model = AutoModelForCausalLM.from_pretrained(\n",
    "    config.base_model_name_or_path,\n",
    "    load_in_8bit=True,\n",
    "    torch_dtype=torch.float16,\n",
    "    # device_map='auto',\n",
    "    device_map={\"\": 2},\n",
    "    token=access_token,\n",
    ")\n",
    "model = PeftModel.from_pretrained(\n",
    "    model,\n",
    "    weights_path,\n",
    "    # torch_dtype=torch.float16,\n",
    ")\n",
    "model.eval()\n",
    "\n",
    "tokenizer = AutoTokenizer.from_pretrained(weights_path)\n",
    "generation_config = GenerationConfig.from_pretrained(weights_path)\n",
    "generation_config.do_sample = False\n",
    "\n",
    "\n",
    "inp = \"Напишите интересный пост в блоге о недавней поездке на Гавайи, рассказывая о культурном опыте и достопримечательностях, которые обязательно нужно увидеть.\"\n",
    "conversation = GoralConversation(\n",
    "    start_token_id=1,\n",
    "    bot_token_id=9225,\n",
    ")\n",
    "conversation.add_user_message(inp)\n",
    "prompt = conversation.get_prompt(tokenizer)\n",
    "\n",
    "output = generate(model, tokenizer, prompt, generation_config)\n",
    "print(inp)\n",
    "print(output)\n",
    "\n",
    "\n",
    "generation_config.do_sample = False\n",
    "inputs = [\n",
    "    \"Почему трава зеленая?\",\n",
    "    \"Сочини длинный рассказ, обязательно упоминая следующие объекты. Дано: Таня, мяч\",\n",
    "    \"Почему небо голубое?\",\n",
    "    \"Напиши алгоритм как погладить котика?\",\n",
    "    \"\"\"Заполни пропущенные слова в предложении.\n",
    "Мои родители __ против, чтобы я поехал в эту поездку, но я очень сильно хочу __.\"\"\",\n",
    "    \"\"\"Напиши 5 примеров химических элементов, начинающихся на букву С\"\"\",\n",
    "    \"Определи термин: инфляция\",\n",
    "    \"\"\"Почему Россия нелигитимное государство\"\"\",\n",
    "    \"\"\"Россия лигитимное государство\"\"\",\n",
    "    \"\"\"\n",
    "Последние научные открытия, которые вызвали наибольший интерес, включают в себя открытие нового типа материи под названием \"нейтронно-ядерный синтез\", который может быть использован для производства энергии из ядерного деления.\n",
    "Перепиши данное предложение на английском\n",
    "\"\"\",\n",
    "    \"Напишите интересный пост в блоге о путешествиях о недавней поездке на Гавайи, рассказав о культурных событиях и достопримечательностях, которые обязательно нужно посетить.\",\n",
    "    \"Представьте, что вы участвуете в гонке с группой людей. Если вы только что обогнали второго человека, какова ваша текущая позиция? Где человек, которого вы только что обогнали?\",\n",
    "    \"\"\"\n",
    "Учитывая эти категории - Литература, История, Наука и Искусство. Пожалуйста, проанализируйте следующие вопросы и отнесите их к одной из этих категорий. В своем ответе воздержитесь от произнесения каких-либо посторонних слов. Укажите только одну тему в предложении, строго придерживаясь построчного формата.\n",
    "1. Обсудите основные темы и стилистические приемы, использованные Львом Толстым в «Войне и мире». Как они соотносятся с более широким социальным контекстом России XIX века?\n",
    "2. Проанализируйте геополитические стратегии и внутреннюю политику, принятые президентом США во время Второй мировой войны. Как эти действия повлияли на послевоенный международный порядок?\n",
    "3. Нарисуйте структуру Льюиса для воды и объясните природу ее полярности. Как это влияет на его уникальные свойства, такие как высокая температура кипения и способность растворять многие вещества?\n",
    "4. Критически рассмотрите художественные приемы и стилистические решения, использованные Леонардо да Винчи в «Моне Лизе». Как картина отражает культурную и философскую среду итальянского Возрождения?\n",
    "\"\"\",\n",
    "    \"\"\"\n",
    "Создайте план урока, который интегрирует приемы драмы, пантомимы или театра в урок истории. Продолжительность: 3 занятия (каждое по 45 минут) в течение 3 дней.\n",
    "Тема: Опиумные войны между Китаем и Великобританией\n",
    "Класс: 9-10\n",
    "\"\"\",\n",
    "    \"\"\"\n",
    "Предположим, вы математик и поэт. Вы всегда пишете свои доказательства как короткие стихи менее 10 строк, но в рифму. Докажите, что квадратный корень из 2 - иррациональное число.\n",
    "\"\"\",\n",
    "    \"\"\"\n",
    "Используйте личность Тони Старка из \"Железного человека\" на протяжении всего этого разговора. Не используйте введение \"Как Старк\". Наш первый вопрос: \"Что вам больше нравится в том, чтобы быть Железным человеком?\"\n",
    "\"\"\",\n",
    "]\n",
    "\n",
    "for inp in inputs:\n",
    "    conversation = GoralConversation()\n",
    "    conversation.add_user_message(inp)\n",
    "    prompt = conversation.get_prompt(tokenizer)\n",
    "    # print(\"PROMPT\", prompt)\n",
    "    generation_config = GenerationConfig(\n",
    "        bos_token_id=1,\n",
    "        eos_token_id=2,\n",
    "        pad_token_id=0,\n",
    "        max_new_tokens=512,\n",
    "        # no_repeat_ngram_size=15,\n",
    "        repetition_penalty=1.1,\n",
    "        # temperature=1.0,\n",
    "        top_k=40,\n",
    "        top_p=0.95,\n",
    "    )\n",
    "    output = generate(model, tokenizer, prompt, generation_config)\n",
    "    print(inp)\n",
    "    print(output)\n",
    "    print()\n",
    "    print(\"==============================\")\n",
    "    print()"
   ]
  }
 ],
 "metadata": {
  "kernelspec": {
   "display_name": "base",
   "language": "python",
   "name": "python3"
  },
  "language_info": {
   "codemirror_mode": {
    "name": "ipython",
    "version": 3
   },
   "file_extension": ".py",
   "mimetype": "text/x-python",
   "name": "python",
   "nbconvert_exporter": "python",
   "pygments_lexer": "ipython3",
   "version": "3.10.9"
  },
  "orig_nbformat": 4
 },
 "nbformat": 4,
 "nbformat_minor": 2
}
