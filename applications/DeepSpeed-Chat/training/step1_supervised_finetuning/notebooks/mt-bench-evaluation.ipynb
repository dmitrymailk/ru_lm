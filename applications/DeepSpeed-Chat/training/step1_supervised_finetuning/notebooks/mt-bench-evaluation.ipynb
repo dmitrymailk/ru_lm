{
 "cells": [
  {
   "cell_type": "markdown",
   "metadata": {},
   "source": [
    "## Read Original Dataset mt bench, convert to datasets"
   ]
  },
  {
   "cell_type": "code",
   "execution_count": 8,
   "metadata": {},
   "outputs": [
    {
     "data": {
      "text/plain": [
       "{'question_id': 81,\n",
       " 'category': 'writing',\n",
       " 'turns': ['Compose an engaging travel blog post about a recent trip to Hawaii, highlighting cultural experiences and must-see attractions.',\n",
       "  'Rewrite your previous response. Start every sentence with the letter A.']}"
      ]
     },
     "execution_count": 8,
     "metadata": {},
     "output_type": "execute_result"
    }
   ],
   "source": [
    "import json\n",
    "import datasets\n",
    "\n",
    "mt_bench_en = \"./datasets/final_evaluation_datasets/mt_bench.jsonl\"\n",
    "\n",
    "mt_bench_list = []\n",
    "with open(mt_bench_en) as f:\n",
    "    mt_bench_list = [json.loads(line) for line in f.readlines()]\n",
    "\n",
    "mt_bench_en = datasets.Dataset.from_list(mt_bench_list)\n",
    "mt_bench_en[0]"
   ]
  },
  {
   "cell_type": "code",
   "execution_count": null,
   "metadata": {},
   "outputs": [],
   "source": [
    "mt_bench_en.push_to_hub(\"dim/mt_bench_en\")"
   ]
  },
  {
   "cell_type": "markdown",
   "metadata": {},
   "source": [
    "## Evaluate original saiga"
   ]
  },
  {
   "cell_type": "code",
   "execution_count": 1,
   "metadata": {},
   "outputs": [
    {
     "name": "stderr",
     "output_type": "stream",
     "text": [
      "/home/kosenko/miniconda3/lib/python3.10/site-packages/tqdm/auto.py:21: TqdmWarning: IProgress not found. Please update jupyter and ipywidgets. See https://ipywidgets.readthedocs.io/en/stable/user_install.html\n",
      "  from .autonotebook import tqdm as notebook_tqdm\n"
     ]
    }
   ],
   "source": [
    "from datasets import load_dataset\n",
    "from tqdm import tqdm\n",
    "import time\n",
    "import shortuuid\n",
    "import json\n",
    "\n",
    "# mt_bench_en = load_dataset(\"dim/mt_bench_en\")\n",
    "# mt_bench_en = mt_bench_en[\"train\"]\n",
    "# mt_bench_en = mt_bench_en.to_list()\n",
    "# mt_bench_en[0]"
   ]
  },
  {
   "cell_type": "code",
   "execution_count": 2,
   "metadata": {},
   "outputs": [],
   "source": [
    "def convert_item_mt_bench_answer(\n",
    "    item=None,\n",
    "    model_id=None,\n",
    "):\n",
    "    assert model_id\n",
    "    return {\n",
    "        \"question_id\": item[\"question_id\"],\n",
    "        \"answer_id\": shortuuid.uuid(),\n",
    "        \"model_id\": model_id,\n",
    "        \"choices\": [\n",
    "            {\n",
    "                \"index\": 0,\n",
    "                \"turns\": item[\"replies\"],\n",
    "            }\n",
    "        ],\n",
    "        \"tstamp\": time.time(),\n",
    "    }\n",
    "\n",
    "\n",
    "def convert_mt_bench_format(\n",
    "    old_filename,\n",
    "    model_id,\n",
    "):\n",
    "    with open(old_filename) as f:\n",
    "        gen_dataset = json.load(f)\n",
    "\n",
    "    new_dataset = []\n",
    "    for item in gen_dataset:\n",
    "        item = convert_item_mt_bench_answer(\n",
    "            item=item,\n",
    "            model_id=model_id,\n",
    "        )\n",
    "        new_dataset.append(item)\n",
    "\n",
    "    converted_path = old_filename.split(\".json\")[0]\n",
    "    converted_path = f\"{converted_path}_converted.jsonl\"\n",
    "    # print(converted_path)\n",
    "    with open(converted_path, \"w\") as f:\n",
    "        for item in new_dataset:\n",
    "            json.dump(item, f)\n",
    "            f.write(\"\\n\")\n",
    "        # f.write(\"\\n\")\n",
    "\n",
    "\n",
    "convert_mt_bench_format(\n",
    "    # \"./datasets/final_evaluation_datasets/mt_bench/mt_bench_ru_saiga_7b_v1.json\",\n",
    "    # \"./datasets/final_evaluation_datasets/mt_bench/mt_bench_ru_saiga_7b_v2.json\",\n",
    "    # \"datasets/final_evaluation_datasets/mt_bench/mt_bench_en_xglm_4.5b_v10_epoch_6_step_41141.json\",\n",
    "    \"datasets/final_evaluation_datasets/mt_bench/mt_bench_ru_xglm_4.5b_v10_epoch_6_step_41141.json\",\n",
    "    # model_id=\"saiga_7b_v1_ru\",\n",
    "    # model_id=\"saiga_7b_v2_ru\",\n",
    "    model_id=\"xglm_4.5b_v10_epoch_6_step_41141_ru\",\n",
    ")"
   ]
  },
  {
   "cell_type": "code",
   "execution_count": 4,
   "metadata": {},
   "outputs": [],
   "source": [
    "# import json\n",
    "# dataset = open(\"datasets/final_evaluation_datasets/mt_bench/mt_bench_ru_xglm_4.5b_v10_epoch_6_step_41141.json\").read()\n",
    "\n",
    "# dataset = json.loads(dataset)\n",
    "# dataset"
   ]
  },
  {
   "cell_type": "code",
   "execution_count": null,
   "metadata": {},
   "outputs": [],
   "source": [
    "# mt bench format original\n",
    "{\n",
    "    \"question_id\": 81,\n",
    "    \"answer_id\": \"VtuVQhCuDYtdyyNPaQKfF4\",\n",
    "    \"model_id\": \"vicuna-7b-v1.3\",\n",
    "    \"choices\": [\n",
    "        {\n",
    "            \"index\": 0,\n",
    "            \"turns\": [\n",
    "                \"Aloha! I recently returned from a trip to Hawaii and it was an absolute dream come true. From the stunning natural beauty to the rich cultural experiences, there was so much to see and do on this tropical paradise.\\n\\nOne of the standout attractions was the Hawaii Volcanoes National Park. The park is home to two of the world's most active volcanoes, Kilauea and Mauna Loa, and offers a unique opportunity to witness the power of nature up close. We took a guided hike to the summit of Kilauea, where we were able to see the lava flowing from the crater and feel the heat of the earth. It was an awe-inspiring experience that I will never forget.\\n\\nAnother highlight of our trip was learning about the Hawaiian culture at the Bishop Museum. The museum is dedicated to preserving the history and traditions of Hawaii and offers a glimpse into the island's rich cultural heritage. We learned about the history of the Hawaiian monarchy, the traditional art of hula, and the significance of Hawaiian religion and spirituality.\\n\\nIn terms of food, we were blown away by the diverse and delicious flavors of Hawaiian cuisine. From poke bowls to shrimp shacks to traditional Hawaiian dishes like kalua pig and laulau, there was something for everyone. We also had the opportunity to try some local brews, including the famous Kona Brewing Co. beers.\\n\\nOverall, our trip to Hawaii was an unforgettable experience that we will always treasure. From the stunning natural beauty to the rich cultural experiences, there was something for everyone to enjoy. I highly recommend adding Hawaii to your travel bucket list!\",\n",
    "                \"Aloha! Recently, I visited Hawaii and it was an absolutely amazing experience. The natural beauty of the islands is stunning, and there is so much to see and do. A must-see attraction was the Hawaii Volcanoes National Park, where we were able to witness the power of nature up close. We took a guided hike to the summit of Kilauea, where we could see the lava flowing from the crater and feel the heat of the earth. Another highlight of our trip was learning about the Hawaiian culture at the Bishop Museum. The museum offers a glimpse into the island's rich cultural heritage, including the history of the Hawaiian monarchy, traditional art of hula, and the significance of Hawaiian religion and spirituality.\\n\\nIn terms of food, we were blown away by the diverse and delicious flavors of Hawaiian cuisine. From poke bowls to shrimp shacks to traditional Hawaiian dishes like kalua pig and laulau, there was something for everyone. We also had the opportunity to try some local brews, including the famous Kona Brewing Co. beers.\\n\\nOverall, our trip to Hawaii was an unforgettable experience that we will always treasure. From the stunning natural beauty to the rich cultural experiences, there was something for everyone to enjoy. I highly recommend adding Hawaii to your travel bucket list!\",\n",
    "            ],\n",
    "        }\n",
    "    ],\n",
    "    \"tstamp\": 1689675846.1825185,\n",
    "}"
   ]
  },
  {
   "cell_type": "code",
   "execution_count": null,
   "metadata": {},
   "outputs": [],
   "source": [
    "# my generated content\n",
    "{\n",
    "    \"question_id\": 81,\n",
    "    \"category\": \"writing\",\n",
    "    \"turns\": [\n",
    "        \"Compose an engaging travel blog post about a recent trip to Hawaii, highlighting cultural experiences and must-see attractions.\",\n",
    "        \"Rewrite your previous response. Start every sentence with the letter A.\",\n",
    "    ],\n",
    "    \"replies\": [\n",
    "        'Hawaii: A Tropical Paradise of Culture and Adventure\\n\\nI recently returned from my dream vacation in the tropical paradise of Hawaii. This beautiful island chain is known for its pristine beaches, lush rainforests, and rich culture. I spent two weeks exploring the islands of Oahu, Maui, Kauai, and Big Island, and had the time of my life! Here are some of my favorite cultural experiences and must-see attractions that I recommend you add to your itinerary if you ever visit this magical place.\\n\\nOahu: The Heart of Hawaiian Culture\\n\\nThe first stop on my journey was Oahu, the most populous island in the chain. It\\'s also home to Honolulu, the capital city of Hawaii. One of the best ways to experience the local culture is by taking a tour of the historic Pearl Harbor Memorial. You can learn all about the attack on Pearl Harbor during World War II and see the USS Arizona Memorial, which sits atop the sunken battleship. Another great way to get a taste of Hawaiian history is by visiting the Polynesian Cultural Center, where you can watch traditional dances and performances and learn about the different cultures that make up Hawaii today.\\n\\nMaui: The Valley Isle\\n\\nNext, I headed over to Maui, also known as \"the Valley Isle\" because of its fertile central valley. One of the top things to do here is hike to Haleakala National Park, which features breathtaking views of the Pacific Ocean and the volcanic crater. If you\\'re feeling adventurous, you can even sign up for a sunrise hike to catch the spectacular view of the rising sun. Another must-visit attraction is the Road to Hana, a scenic drive along the coastline with plenty of stops to take photos and explore waterfalls and beaches.\\n\\nKauai: The Garden Isle\\n\\nAfter leaving Maui, I traveled to Kauai, also known as \"the Garden Isle.\" This island is famous for its lush greenery and stunning mountain ranges. One of the best ways to experience the beauty of Kauai is by taking a helicopter tour. You can fly over the Na Pali Coast, one of the most picturesque areas in the world, and see the dramatic cliffs and waterfalls up close. Another must-do activity is hiking to Waimea Canyon State Park, which features incredible views of the canyon and surrounding mountains.\\n\\nBig Island: Volcanoes and Black Sand Beaches\\n\\nFinally, I ended my trip on the Big Island, which is home to active volcanoes and black sand beaches. One of the best ways to experience the volcanoes is by taking a tour of the Hawaii Volcanoes National Park. You can see lava flows and learn about the geological history of the island. Another must-visit attraction is the Mauna Kea Observatory, which is home to some of the largest telescopes in the world. To end your day, you should definitely check out the black sand beach at Punaluu, which is famous for its unique landscape and wildlife.\\n\\nIn conclusion, Hawaii is truly a magical destination full of culture and adventure. Whether you want to learn about the history of the islands or just relax on the beach, there is something for everyone. I highly recommend adding these attractions to your itinerary if you ever decide to visit this amazing place. Aloha!',\n",
    "        \"A is for adventure, and I am ready for it! A is for airplanes, and I love flying. A is for activities, and I will try them all. A is for adrenaline, and I need more of it. A is for amazing views, and I cannot wait to see them. A is for authentic food, and I will eat it all. A is for awesome people, and I hope to meet them. A is for adventures, and I am ready for them!\",\n",
    "    ],\n",
    "}"
   ]
  },
  {
   "cell_type": "markdown",
   "metadata": {},
   "source": [
    "## Translate mt bench to russian"
   ]
  },
  {
   "cell_type": "code",
   "execution_count": 3,
   "metadata": {},
   "outputs": [
    {
     "name": "stderr",
     "output_type": "stream",
     "text": [
      "Found cached dataset parquet (/home/kosenko/.cache/huggingface/datasets/dim___parquet/dim--mt_bench_en-40a2837a0335d6fc/0.0.0/2a3b91fbd88a2c90d1dbbb32b460cf621d31bd5b05b934492fdef7d8d6f236ec)\n",
      "100%|██████████| 1/1 [00:00<00:00, 189.30it/s]\n"
     ]
    },
    {
     "data": {
      "text/plain": [
       "{'question_id': 81,\n",
       " 'category': 'writing',\n",
       " 'turns': ['Compose an engaging travel blog post about a recent trip to Hawaii, highlighting cultural experiences and must-see attractions.',\n",
       "  'Rewrite your previous response. Start every sentence with the letter A.']}"
      ]
     },
     "execution_count": 3,
     "metadata": {},
     "output_type": "execute_result"
    }
   ],
   "source": [
    "from datasets import load_dataset\n",
    "from tqdm import tqdm\n",
    "\n",
    "mt_bench_en = load_dataset(\"dim/mt_bench_en\")\n",
    "mt_bench_en = mt_bench_en[\"train\"]\n",
    "mt_bench_en = mt_bench_en.to_list()\n",
    "mt_bench_en[0]"
   ]
  },
  {
   "cell_type": "code",
   "execution_count": 8,
   "metadata": {},
   "outputs": [
    {
     "name": "stdout",
     "output_type": "stream",
     "text": [
      "Init model. 0\n"
     ]
    },
    {
     "name": "stderr",
     "output_type": "stream",
     "text": [
      "Downloading (…)okenizer_config.json: 100%|██████████| 364/364 [00:00<00:00, 2.61MB/s]\n",
      "/home/kosenko/miniconda3/lib/python3.10/site-packages/transformers/tokenization_utils_base.py:1714: FutureWarning: The `use_auth_token` argument is deprecated and will be removed in v5 of Transformers.\n",
      "  warnings.warn(\n",
      "Downloading (…)olve/main/vocab.json: 100%|██████████| 3.74M/3.74M [00:00<00:00, 17.9MB/s]\n",
      "Downloading (…)tencepiece.bpe.model: 100%|██████████| 2.59M/2.59M [00:00<00:00, 4.71MB/s]\n",
      "Downloading (…)cial_tokens_map.json: 100%|██████████| 217/217 [00:00<00:00, 1.82MB/s]"
     ]
    },
    {
     "name": "stdout",
     "output_type": "stream",
     "text": [
      "Model is initialized.\n"
     ]
    },
    {
     "name": "stderr",
     "output_type": "stream",
     "text": [
      "\n"
     ]
    }
   ],
   "source": [
    "from simple_translation import Translator\n",
    "\n",
    "translator = Translator(model_name=\"facebook/wmt21-dense-24-wide-en-x\", device=0)"
   ]
  },
  {
   "cell_type": "code",
   "execution_count": null,
   "metadata": {},
   "outputs": [],
   "source": [
    "for i, item in enumerate(mt_bench_en):\n",
    "    mt_bench_en[i][\"turns_ru\"] = []\n",
    "    turns = mt_bench_en[i][\"turns\"]\n",
    "    for turn in turns:\n",
    "        print(turn)\n",
    "        trans_turn = translator(turn)\n",
    "        mt_bench_en[i][\"turns_ru\"].append(trans_turn)\n",
    "        print(trans_turn)\n",
    "        print(\"*\" * 10)\n",
    "    print(\"=\" * 100)"
   ]
  },
  {
   "cell_type": "code",
   "execution_count": null,
   "metadata": {},
   "outputs": [],
   "source": [
    "import pandas as pd\n",
    "\n",
    "flat_mt_bench = []\n",
    "\n",
    "for item in mt_bench_en:\n",
    "    for i, (turn_en, turn_ru) in enumerate(zip(item[\"turns\"], item[\"turns_ru\"])):\n",
    "        new_item = {\n",
    "            \"question_id\": item[\"question_id\"],\n",
    "            \"category\": item[\"category\"],\n",
    "            \"turn\": turn_en,\n",
    "            \"turn_ru\": turn_ru,\n",
    "            \"pos\": i,\n",
    "        }\n",
    "        # print(new_item)\n",
    "        flat_mt_bench.append(new_item)\n",
    "\n",
    "pd.DataFrame(data=flat_mt_bench).to_csv(\n",
    "    \"./datasets/final_evaluation_datasets/mt_bench/mt_bench_auto_trans_ru.csv\",\n",
    "    index=False,\n",
    ")"
   ]
  },
  {
   "cell_type": "markdown",
   "metadata": {},
   "source": [
    "### load and convert fixed translation"
   ]
  },
  {
   "cell_type": "code",
   "execution_count": 27,
   "metadata": {},
   "outputs": [],
   "source": [
    "import pandas as pd\n",
    "\n",
    "dataset = pd.read_csv(\n",
    "    \"./datasets/final_evaluation_datasets/mt_bench/mt_bench_auto_trans_ru_fixed.csv\"\n",
    ")\n",
    "\n",
    "new_dataset = []\n",
    "\n",
    "for question_id in dataset[\"question_id\"].unique():\n",
    "    records = dataset[dataset[\"question_id\"] == question_id].to_dict(\"records\")\n",
    "    records = sorted(records, key=lambda x: x[\"pos\"])\n",
    "    item = {\n",
    "        \"question_id\": \"\",\n",
    "        \"category\": \"\",\n",
    "        \"turns\": [],\n",
    "        \"turns_ru\": [],\n",
    "    }\n",
    "    for rec in records:\n",
    "        item[\"question_id\"] = rec[\"question_id\"]\n",
    "        item[\"category\"] = rec[\"category\"]\n",
    "        item[\"turns\"].append(rec[\"turn\"])\n",
    "        item[\"turns_ru\"].append(rec[\"turn_ru_edited\"])\n",
    "    new_dataset.append(item)\n",
    "    # print(item)\n",
    "# pd.DataFrame(data=new_dataset).to_csv(\"./datasets/final_evaluation_datasets/mt_bench/mt_bench_ru_translated.csv\",index=False)"
   ]
  },
  {
   "cell_type": "code",
   "execution_count": 29,
   "metadata": {},
   "outputs": [
    {
     "name": "stderr",
     "output_type": "stream",
     "text": [
      "Creating parquet from Arrow format: 100%|██████████| 1/1 [00:00<00:00, 839.20ba/s]\n",
      "Upload 1 LFS files: 100%|██████████| 1/1 [00:01<00:00,  1.14s/it]\n",
      "Pushing dataset shards to the dataset hub: 100%|██████████| 1/1 [00:01<00:00,  1.71s/it]\n"
     ]
    }
   ],
   "source": [
    "from datasets import Dataset\n",
    "\n",
    "# load_dataset(\"./datasets/final_evaluation_datasets/mt_bench/mt_bench_ru_translated.csv\")\n",
    "hf_dataset = Dataset.from_list(new_dataset)\n",
    "hf_dataset.push_to_hub(\"dim/mt_bench_ru\")"
   ]
  },
  {
   "cell_type": "code",
   "execution_count": null,
   "metadata": {},
   "outputs": [],
   "source": [
    "import json\n",
    "\n",
    "path = \"/home/kosenko/deepspeed/DeepSpeedExamples/applications/DeepSpeed-Chat/training/step1_supervised_finetuning/datasets/final_evaluation_datasets/mt_bench/mt_bench_ru_saiga_7b_v2.json\"\n",
    "json.loads(open(path).read())"
   ]
  },
  {
   "cell_type": "markdown",
   "metadata": {},
   "source": [
    "### convert to jsonl russian "
   ]
  },
  {
   "cell_type": "code",
   "execution_count": 11,
   "metadata": {},
   "outputs": [
    {
     "name": "stderr",
     "output_type": "stream",
     "text": [
      "Found cached dataset parquet (/home/kosenko/.cache/huggingface/datasets/dim___parquet/dim--mt_bench_ru-4ec5172991e7eebd/0.0.0/2a3b91fbd88a2c90d1dbbb32b460cf621d31bd5b05b934492fdef7d8d6f236ec)\n",
      "100%|██████████| 1/1 [00:00<00:00, 703.98it/s]\n"
     ]
    }
   ],
   "source": [
    "from datasets import load_dataset\n",
    "import json\n",
    "\n",
    "dataset = load_dataset(\"dim/mt_bench_ru\")\n",
    "dataset = dataset['train'].to_list()\n",
    "\n",
    "output_path = \"./datasets/final_evaluation_datasets/mt_bench/mt_bench_ru.jsonl\"\n",
    "\n",
    "with open(output_path, \"w\") as f:\n",
    "    for item in dataset:\n",
    "        item['turns'] = item['turns_ru']\n",
    "        del item['turns_ru']\n",
    "        json.dump(item, f)\n",
    "        f.write(\"\\n\")"
   ]
  }
 ],
 "metadata": {
  "kernelspec": {
   "display_name": "base",
   "language": "python",
   "name": "python3"
  },
  "language_info": {
   "codemirror_mode": {
    "name": "ipython",
    "version": 3
   },
   "file_extension": ".py",
   "mimetype": "text/x-python",
   "name": "python",
   "nbconvert_exporter": "python",
   "pygments_lexer": "ipython3",
   "version": "3.10.9"
  },
  "orig_nbformat": 4
 },
 "nbformat": 4,
 "nbformat_minor": 2
}
