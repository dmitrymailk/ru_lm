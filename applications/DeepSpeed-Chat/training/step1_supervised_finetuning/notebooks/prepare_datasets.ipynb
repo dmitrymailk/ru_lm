{
 "cells": [
  {
   "cell_type": "code",
   "execution_count": 10,
   "metadata": {},
   "outputs": [],
   "source": [
    "from transformers import AutoModelForSeq2SeqLM, AutoTokenizer\n",
    "import torch\n",
    "from easynmt import EasyNMT\n",
    "from optimum.bettertransformer import BetterTransformer\n",
    "from datasets import load_from_disk, load_dataset\n",
    "import os\n",
    "import pandas as pd\n",
    "\n",
    "import matplotlib.pyplot as plt\n",
    "import numpy as np\n",
    "\n",
    "\n",
    "def visualize_hist(x: np.ndarray, title: str):\n",
    "    fig, ax = plt.subplots()\n",
    "    ax.hist(x, linewidth=0.5, edgecolor=\"white\", bins=300)\n",
    "    plt.gca().set(title=title, ylabel=\"Frequency\")\n",
    "    plt.show()"
   ]
  },
  {
   "attachments": {},
   "cell_type": "markdown",
   "metadata": {},
   "source": [
    "### databricks/databricks-dolly-15k"
   ]
  },
  {
   "cell_type": "code",
   "execution_count": 9,
   "metadata": {},
   "outputs": [
    {
     "name": "stderr",
     "output_type": "stream",
     "text": [
      "WARNING:datasets.builder:Found cached dataset json (/home/kosenko/.cache/huggingface/datasets/databricks___json/databricks--databricks-dolly-15k-aae1918f8081f1c6/0.0.0/fe5dd6ea2639a6df622901539cb550cf8797e5a6b2dd7af1cf934bed8e233e6e)\n",
      "100%|██████████| 1/1 [00:00<00:00, 642.41it/s]\n"
     ]
    },
    {
     "data": {
      "text/plain": [
       "DatasetDict({\n",
       "    train: Dataset({\n",
       "        features: ['instruction', 'context', 'response', 'category'],\n",
       "        num_rows: 15014\n",
       "    })\n",
       "})"
      ]
     },
     "execution_count": 9,
     "metadata": {},
     "output_type": "execute_result"
    }
   ],
   "source": [
    "data = load_dataset(\"databricks/databricks-dolly-15k\")\n",
    "data"
   ]
  },
  {
   "cell_type": "code",
   "execution_count": 10,
   "metadata": {},
   "outputs": [
    {
     "data": {
      "text/plain": [
       "{'instruction': 'When did Virgin Australia start operating?',\n",
       " 'context': \"Virgin Australia, the trading name of Virgin Australia Airlines Pty Ltd, is an Australian-based airline. It is the largest airline by fleet size to use the Virgin brand. It commenced services on 31 August 2000 as Virgin Blue, with two aircraft on a single route.[3] It suddenly found itself as a major airline in Australia's domestic market after the collapse of Ansett Australia in September 2001. The airline has since grown to directly serve 32 cities in Australia, from hubs in Brisbane, Melbourne and Sydney.[4]\",\n",
       " 'response': 'Virgin Australia commenced services on 31 August 2000 as Virgin Blue, with two aircraft on a single route.',\n",
       " 'category': 'closed_qa'}"
      ]
     },
     "execution_count": 10,
     "metadata": {},
     "output_type": "execute_result"
    }
   ],
   "source": [
    "data[\"train\"][0]"
   ]
  },
  {
   "attachments": {},
   "cell_type": "markdown",
   "metadata": {},
   "source": [
    "### OpenAssistant Conversations Dataset (OASST1)"
   ]
  },
  {
   "cell_type": "code",
   "execution_count": 10,
   "metadata": {},
   "outputs": [
    {
     "data": {
      "text/plain": [
       "22308"
      ]
     },
     "execution_count": 10,
     "metadata": {},
     "output_type": "execute_result"
    }
   ],
   "source": [
    "import pandas as pd\n",
    "\n",
    "dataset = pd.read_json(\n",
    "    path_or_buf=\"/home/kosenko/deepspeed/DeepSpeedExamples/applications/DeepSpeed-Chat/training/step1_supervised_finetuning/datasets/pure_datasets/2023-04-12_oasst_all.messages.jsonl\",\n",
    "    lines=True,\n",
    ")\n",
    "dataset = dataset[dataset[\"lang\"] == \"es\"]\n",
    "\n",
    "message_tree_ids = dataset[\"message_tree_id\"].unique()\n",
    "# message_tree_ids = [list(dataset.query(f\"message_tree_id == '{message_tree_id}'\").sort_values(\"created_date\")['text']) for message_tree_id in message_tree_ids]\n",
    "len(message_tree_ids)"
   ]
  },
  {
   "cell_type": "code",
   "execution_count": 7,
   "metadata": {},
   "outputs": [
    {
     "data": {
      "text/plain": [
       "lang\n",
       "es    43288\n",
       "Name: count, dtype: int64"
      ]
     },
     "execution_count": 7,
     "metadata": {},
     "output_type": "execute_result"
    }
   ],
   "source": [
    "# dataset['lang'].value_counts()"
   ]
  },
  {
   "cell_type": "code",
   "execution_count": 34,
   "metadata": {},
   "outputs": [
    {
     "data": {
      "text/plain": [
       "72567"
      ]
     },
     "execution_count": 34,
     "metadata": {},
     "output_type": "execute_result"
    }
   ],
   "source": [
    "len(dataset)"
   ]
  },
  {
   "cell_type": "code",
   "execution_count": 35,
   "metadata": {},
   "outputs": [
    {
     "data": {
      "text/plain": [
       "Index(['message_id', 'user_id', 'created_date', 'text', 'role', 'lang',\n",
       "       'review_count', 'review_result', 'deleted', 'synthetic', 'emojis',\n",
       "       'labels', 'detoxify', 'message_tree_id', 'tree_state', 'parent_id',\n",
       "       'rank', 'model_name'],\n",
       "      dtype='object')"
      ]
     },
     "execution_count": 35,
     "metadata": {},
     "output_type": "execute_result"
    }
   ],
   "source": [
    "dataset.columns"
   ]
  },
  {
   "cell_type": "code",
   "execution_count": 1,
   "metadata": {},
   "outputs": [
    {
     "name": "stderr",
     "output_type": "stream",
     "text": [
      "/home/kosenko/miniconda3/lib/python3.10/site-packages/tqdm/auto.py:22: TqdmWarning: IProgress not found. Please update jupyter and ipywidgets. See https://ipywidgets.readthedocs.io/en/stable/user_install.html\n",
      "  from .autonotebook import tqdm as notebook_tqdm\n",
      "Downloading (…)okenizer_config.json: 100%|██████████| 237/237 [00:00<00:00, 1.71MB/s]\n",
      "Downloading (…)/main/tokenizer.json: 100%|██████████| 2.11M/2.11M [00:00<00:00, 3.75MB/s]\n",
      "Downloading (…)cial_tokens_map.json: 100%|██████████| 99.0/99.0 [00:00<00:00, 534kB/s]\n"
     ]
    }
   ],
   "source": [
    "from transformers import AutoTokenizer\n",
    "\n",
    "# tokenizer = AutoTokenizer.from_pretrained(\"facebook/wmt21-dense-24-wide-en-x\")\n",
    "tokenizer = AutoTokenizer.from_pretrained(\"togethercomputer/RedPajama-INCITE-Base-3B-v1\")"
   ]
  },
  {
   "cell_type": "code",
   "execution_count": 11,
   "metadata": {},
   "outputs": [],
   "source": [
    "lengths = []\n",
    "max_len = 0\n",
    "message_tree_ids_map = {}\n",
    "# for i, message_tree_id in enumerate(message_tree_ids):\n",
    "#     # print(message_tree_id)\n",
    "#     texts = list(dataset.query(f\"message_tree_id == '{message_tree_id}'\").sort_values(\"created_date\")['text'])\n",
    "\n",
    "#     for message in texts:\n",
    "#         print(message)\n",
    "#         # lengths.append(len())\n",
    "#         # input_ids = tokenizer(message, truncation=True, max_length=2048)['input_ids']\n",
    "#         # max_len = max(len(input_ids), max_len)\n",
    "#         print(\"=\"*100)\n",
    "#     print(\"|\"*100)\n",
    "#     print(\"|\"*100)\n",
    "#     if i > 100:\n",
    "#         break\n",
    "\n",
    "for i in range(len(dataset)):\n",
    "    ids = str(dataset.iloc[i][\"message_tree_id\"])\n",
    "    if message_tree_ids_map.get(ids, None) is None:\n",
    "        message_tree_ids_map[ids] = 1\n",
    "    else:\n",
    "        message_tree_ids_map[ids] += 1"
   ]
  },
  {
   "cell_type": "code",
   "execution_count": 12,
   "metadata": {},
   "outputs": [],
   "source": [
    "message_tree_ids = []\n",
    "for key in message_tree_ids_map.keys():\n",
    "    if message_tree_ids_map.get(key) > 1:\n",
    "        message_tree_ids.append(key)"
   ]
  },
  {
   "cell_type": "code",
   "execution_count": 25,
   "metadata": {},
   "outputs": [],
   "source": [
    "# dataset = pd.read_json(path_or_buf=\"../datasets/pure_datasets/2023-04-12_oasst_ready.trees.jsonl\",lines=True)\n",
    "# dataset = dataset[dataset['lang'] == 'en']"
   ]
  },
  {
   "cell_type": "code",
   "execution_count": 2,
   "metadata": {},
   "outputs": [],
   "source": [
    "import json\n",
    "import pandas as pd\n",
    "\n",
    "with open(\"../datasets/openass_translated_en2ru/openass_translated_en2ru_v2.json\") as f:\n",
    "    data = json.load(f)\n",
    "    # data = json.loads(data)\n",
    "en2ru_dataset = pd.DataFrame(data=data)"
   ]
  },
  {
   "cell_type": "code",
   "execution_count": 3,
   "metadata": {},
   "outputs": [
    {
     "data": {
      "text/plain": [
       "Index(['message_id', 'user_id', 'created_date', 'text', 'role', 'lang',\n",
       "       'review_count', 'review_result', 'deleted', 'synthetic', 'emojis',\n",
       "       'labels', 'detoxify', 'message_tree_id', 'tree_state', 'parent_id',\n",
       "       'rank', 'model_name', 'text_translated'],\n",
       "      dtype='object')"
      ]
     },
     "execution_count": 3,
     "metadata": {},
     "output_type": "execute_result"
    }
   ],
   "source": [
    "en2ru_dataset.columns"
   ]
  },
  {
   "cell_type": "code",
   "execution_count": null,
   "metadata": {},
   "outputs": [],
   "source": [
    "message_tree_ids = en2ru_dataset[\"message_tree_id\"].unique()\n",
    "for i in range(len(message_tree_ids)):\n",
    "    message_tree_id = message_tree_ids[i]\n",
    "    texts = list(\n",
    "        en2ru_dataset.query(f\"message_tree_id == '{message_tree_id}'\").sort_values(\n",
    "            \"created_date\"\n",
    "        )[\"text_translated\"]\n",
    "    )\n",
    "    print(message_tree_id)\n",
    "    for j in range(len(texts)):\n",
    "        tokens = texts[j]\n",
    "        print(tokens)\n",
    "        print(\"-\" * 10)\n",
    "    print(\"|||\" * 100)\n",
    "    if i > 100:\n",
    "        break"
   ]
  },
  {
   "cell_type": "code",
   "execution_count": 4,
   "metadata": {},
   "outputs": [],
   "source": [
    "import json\n",
    "import pprint\n",
    "\n",
    "with open(\n",
    "    \"../datasets/pure_datasets/2023-04-12_oasst_ready.trees.jsonl\", \"r\"\n",
    ") as json_file:\n",
    "    json_list = list(json_file)\n",
    "\n",
    "conversation_example = None\n",
    "for i, json_str in enumerate(json_list):\n",
    "    record = json.loads(json_str)\n",
    "    # if len(result['prompt']['replies']) == 2 and result['prompt']['lang'] == 'en':\n",
    "    if record[\"message_tree_id\"] == \"ca4d0c93-220b-4861-87c1-bdb44cd13f72\":\n",
    "        # print(record['prompt']['text'])\n",
    "        # pprint.pprint(record)\n",
    "        conversation_example = record\n",
    "        break\n",
    "\n",
    "    # if i > 20:\n",
    "    # break"
   ]
  },
  {
   "cell_type": "code",
   "execution_count": null,
   "metadata": {},
   "outputs": [],
   "source": []
  },
  {
   "cell_type": "code",
   "execution_count": 5,
   "metadata": {},
   "outputs": [],
   "source": [
    "from collections.abc import Iterable\n",
    "\n",
    "\n",
    "def flatten(xs):\n",
    "    for x in xs:\n",
    "        if isinstance(x, Iterable) and not isinstance(x, (str, bytes)):\n",
    "            yield from flatten(x)\n",
    "        else:\n",
    "            yield x\n",
    "\n",
    "\n",
    "# https://codebeautify.org/python-formatter-beautifier - for debug\n",
    "def get_all_threads(sample):\n",
    "    # debug\n",
    "    # initial_message = f\"{sample['role'].upper()} {sample['text']} |\"\n",
    "    initial_message = f\"{sample['message_id']} \"\n",
    "\n",
    "    def recursive_helper(node, current_path):\n",
    "        if len(node[\"replies\"]) == 0:\n",
    "            if node[\"role\"] == \"assistant\":\n",
    "                # debug\n",
    "                # current_path += f\"\\n|||||||||||||\\n {node['role'].upper()} {node['text']}\"\n",
    "                current_path += f\" {node['message_id']}\"\n",
    "\n",
    "            return current_path + \" <END>\"\n",
    "\n",
    "        current_path += f\" {node['message_id']}\"\n",
    "        paths = []\n",
    "        for reply in node[\"replies\"]:\n",
    "            if node[\"labels\"][\"spam\"][\"value\"] < 0.4:\n",
    "                path = recursive_helper(reply, current_path)\n",
    "                paths.append(path)\n",
    "        return paths\n",
    "\n",
    "    threads = []\n",
    "    for reply in sample[\"replies\"]:\n",
    "        path = recursive_helper(reply, initial_message)\n",
    "        threads.append(path)\n",
    "\n",
    "    threads = flatten(threads)\n",
    "    conversations = []\n",
    "    for thread in threads:\n",
    "        if \"<END>\" in thread:\n",
    "            # debug\n",
    "            # pprint.pprint(thread)\n",
    "            # print(thread.split())\n",
    "            conversation = thread.split()[:-1]\n",
    "            conversations.append(conversation)\n",
    "\n",
    "    return conversations\n",
    "\n",
    "\n",
    "# all_threads = get_all_threads(sample=conversation_example['prompt'])\n",
    "# all_threads"
   ]
  },
  {
   "cell_type": "code",
   "execution_count": 14,
   "metadata": {},
   "outputs": [],
   "source": [
    "en2ru_dataset_messages_map = {}\n",
    "for i in range(len(en2ru_dataset)):\n",
    "    message_id = en2ru_dataset.iloc[i][\"message_id\"]\n",
    "    text_translated = en2ru_dataset.iloc[i][\"text_translated\"]\n",
    "    # text_translated = en2ru_dataset.iloc[i][\"text\"]\n",
    "    role = en2ru_dataset.iloc[i][\"role\"]\n",
    "    en2ru_dataset_messages_map[message_id] = {\"role\": role, \"text\": text_translated}"
   ]
  },
  {
   "cell_type": "code",
   "execution_count": 25,
   "metadata": {},
   "outputs": [
    {
     "name": "stderr",
     "output_type": "stream",
     "text": [
      "Downloading (…)okenizer_config.json: 100%|██████████| 199/199 [00:00<00:00, 1.09MB/s]\n",
      "Downloading tokenizer.json: 100%|██████████| 14.5M/14.5M [00:03<00:00, 4.05MB/s]\n",
      "Downloading (…)cial_tokens_map.json: 100%|██████████| 85.0/85.0 [00:00<00:00, 534kB/s]\n"
     ]
    }
   ],
   "source": [
    "from transformers import AutoTokenizer\n",
    "\n",
    "# tokenizer = AutoTokenizer.from_pretrained(\"facebook/xglm-4.5B\")\n",
    "# tokenizer = AutoTokenizer.from_pretrained(\"../models/tokenizers/xglm_4.5B_fix_v1\")\n",
    "# tokenizer = AutoTokenizer.from_pretrained(\"togethercomputer/RedPajama-INCITE-Base-3B-v1\")\n",
    "# tokenizer = AutoTokenizer.from_pretrained(\"bigscience/bloomz-3b\")\n",
    "tokenizer = AutoTokenizer.from_pretrained(\"bs-la/bloomz-7b1-4b-ru\")\n",
    "# tokenizer = AutoTokenizer.from_pretrained(\"facebook/xglm-7.5B\")"
   ]
  },
  {
   "cell_type": "code",
   "execution_count": 30,
   "metadata": {},
   "outputs": [
    {
     "name": "stdout",
     "output_type": "stream",
     "text": [
      "\n",
      "Hello world\n",
      "\t\tHow Are you?\n",
      "  \n",
      "  \n",
      "Doing?\n",
      "\n"
     ]
    }
   ],
   "source": [
    "print(tokenizer.decode(tokenizer.encode(\"\"\"\n",
    "Hello world\n",
    "\t\tHow Are you?\n",
    "  \n",
    "  \n",
    "Doing?\n",
    "\"\"\")))"
   ]
  },
  {
   "cell_type": "code",
   "execution_count": 26,
   "metadata": {},
   "outputs": [
    {
     "data": {
      "text/plain": [
       "(12, 20988)"
      ]
     },
     "execution_count": 26,
     "metadata": {},
     "output_type": "execute_result"
    }
   ],
   "source": [
    "conversations_paths = {}\n",
    "errors = 0\n",
    "total_convs = 0\n",
    "\n",
    "\n",
    "lengths = []\n",
    "\n",
    "new_dataset = []\n",
    "\n",
    "for i, json_str in enumerate(json_list):\n",
    "    record = json.loads(json_str)\n",
    "    if len(record[\"prompt\"][\"replies\"]) >= 0 and record[\"prompt\"][\"lang\"] == \"en\":\n",
    "        message_tree_id = record[\"message_tree_id\"]\n",
    "        conversations_paths[message_tree_id] = []\n",
    "\n",
    "        all_threads = get_all_threads(record[\"prompt\"])\n",
    "        conversations_paths[message_tree_id] = all_threads\n",
    "\n",
    "        # TODO: написать преобразователь из этих полученных путей\n",
    "        # в реальный датасет, используя мой переведенный\n",
    "        for thread in all_threads:\n",
    "            total_convs += 1\n",
    "            try:\n",
    "                conv = \"\\n\".join(\n",
    "                    [en2ru_dataset_messages_map[mess][\"text\"] for mess in thread]\n",
    "                )\n",
    "                # print(conv)\n",
    "                lengths.append(len(tokenizer(conv)[\"input_ids\"]))\n",
    "                # print(\"-\" * 100)\n",
    "                # print(\"-\" * 100)\n",
    "                # print(\"-\" * 100)\n",
    "                # conv = [en2ru_dataset_messages_map[mess] for mess in thread]\n",
    "                # conversation = []\n",
    "                # for mess_id in thread:\n",
    "                #     message = en2ru_dataset_messages_map[mess_id][\"text\"]\n",
    "                #     role = en2ru_dataset_messages_map[mess_id][\"role\"]\n",
    "                #     conversation.append(\n",
    "                #         {\"message_id\": mess_id, \"message\": message, \"role\": role}\n",
    "                #     )\n",
    "                # new_dataset.append(conversation)\n",
    "            except:\n",
    "                errors += 1\n",
    "            # pprint.pprint(conv)\n",
    "            # print(\"=\"*100)\n",
    "        # if i > 100:\n",
    "        # break\n",
    "\n",
    "errors, total_convs"
   ]
  },
  {
   "cell_type": "code",
   "execution_count": 42,
   "metadata": {},
   "outputs": [
    {
     "data": {
      "text/plain": [
       "0"
      ]
     },
     "execution_count": 42,
     "metadata": {},
     "output_type": "execute_result"
    }
   ],
   "source": [
    "len(new_dataset)"
   ]
  },
  {
   "cell_type": "code",
   "execution_count": null,
   "metadata": {},
   "outputs": [],
   "source": [
    "new_dataset[0]"
   ]
  },
  {
   "cell_type": "code",
   "execution_count": 60,
   "metadata": {},
   "outputs": [],
   "source": [
    "# import json\n",
    "\n",
    "# with open(\n",
    "#     \"../datasets/openass_translated_en2ru/openass_en_threads_21k_v2.json\",\n",
    "#     \"w\",\n",
    "#     encoding=\"utf-8\",\n",
    "# ) as outfile:\n",
    "#     json.dump(new_dataset, outfile)"
   ]
  },
  {
   "cell_type": "code",
   "execution_count": 27,
   "metadata": {},
   "outputs": [
    {
     "data": {
      "image/png": "[encoded data removed]",
      "text/plain": [
       "<Figure size 640x480 with 1 Axes>"
      ]
     },
     "metadata": {},
     "output_type": "display_data"
    }
   ],
   "source": [
    "visualize_hist(lengths, \"dialogue lengths\")"
   ]
  },
  {
   "cell_type": "code",
   "execution_count": 12,
   "metadata": {},
   "outputs": [
    {
     "data": {
      "text/plain": [
       "(1217.0, 9524, 366.3847730739893)"
      ]
     },
     "execution_count": 12,
     "metadata": {},
     "output_type": "execute_result"
    }
   ],
   "source": [
    "np.percentile(np.array(lengths), 98), np.array(lengths).max(), np.array(lengths).mean()"
   ]
  },
  {
   "cell_type": "code",
   "execution_count": 28,
   "metadata": {},
   "outputs": [
    {
     "data": {
      "text/plain": [
       "(2872.0, 35807, 820.1989893211289)"
      ]
     },
     "execution_count": 28,
     "metadata": {},
     "output_type": "execute_result"
    }
   ],
   "source": [
    "np.percentile(np.array(lengths), 98), np.array(lengths).max(), np.array(lengths).mean()"
   ]
  },
  {
   "cell_type": "code",
   "execution_count": 33,
   "metadata": {},
   "outputs": [
    {
     "data": {
      "text/plain": [
       "19925"
      ]
     },
     "execution_count": 33,
     "metadata": {},
     "output_type": "execute_result"
    }
   ],
   "source": [
    "(np.array(lengths) < np.percentile(np.array(lengths), 95)).sum()"
   ]
  },
  {
   "cell_type": "code",
   "execution_count": 47,
   "metadata": {},
   "outputs": [
    {
     "data": {
      "text/plain": [
       "(20976,)"
      ]
     },
     "execution_count": 47,
     "metadata": {},
     "output_type": "execute_result"
    }
   ],
   "source": [
    "np.array(lengths).shape"
   ]
  },
  {
   "cell_type": "code",
   "execution_count": 48,
   "metadata": {},
   "outputs": [
    {
     "data": {
      "text/plain": [
       "2083.5"
      ]
     },
     "execution_count": 48,
     "metadata": {},
     "output_type": "execute_result"
    }
   ],
   "source": [
    "np.percentile(np.array(lengths), 98)"
   ]
  },
  {
   "cell_type": "code",
   "execution_count": 49,
   "metadata": {},
   "outputs": [
    {
     "data": {
      "text/plain": [
       "20556"
      ]
     },
     "execution_count": 49,
     "metadata": {},
     "output_type": "execute_result"
    }
   ],
   "source": [
    "(np.array(lengths) < np.percentile(np.array(lengths), 98)).sum()"
   ]
  },
  {
   "cell_type": "code",
   "execution_count": 81,
   "metadata": {},
   "outputs": [
    {
     "data": {
      "text/plain": [
       "3670"
      ]
     },
     "execution_count": 81,
     "metadata": {},
     "output_type": "execute_result"
    }
   ],
   "source": [
    "len(conversations_paths.keys())"
   ]
  },
  {
   "cell_type": "code",
   "execution_count": null,
   "metadata": {},
   "outputs": [],
   "source": []
  },
  {
   "attachments": {},
   "cell_type": "markdown",
   "metadata": {},
   "source": [
    "## chip2_instruct_alpha"
   ]
  },
  {
   "cell_type": "code",
   "execution_count": 62,
   "metadata": {},
   "outputs": [],
   "source": [
    "from datasets import load_dataset\n",
    "import pandas as pd\n",
    "\n",
    "# load_dataset(\"json\", \"../datasets/pure_datasets/chip2_instruct_alpha/chip2_instruct_alpha_v6a_2.json\")\n",
    "data_1 = pd.read_json(\n",
    "    path_or_buf=\"../datasets/chip2_instruct_alpha/chip2_instruct_alpha_v6a_1_translated_v2.json\"\n",
    ")\n",
    "data_2 = pd.read_json(\n",
    "    path_or_buf=\"../datasets/chip2_instruct_alpha/chip2_instruct_alpha_v6a_2_translated_v2.json\"\n",
    ")\n",
    "data_3 = pd.read_json(\n",
    "    path_or_buf=\"../datasets/chip2_instruct_alpha/chip2_instruct_alpha_v6a_3_translated_v2.json\"\n",
    ")\n",
    "data_4 = pd.read_json(\n",
    "    path_or_buf=\"../datasets/chip2_instruct_alpha/chip2_instruct_alpha_v6a_4_translated_v2.json\"\n",
    ")"
   ]
  },
  {
   "cell_type": "code",
   "execution_count": 63,
   "metadata": {},
   "outputs": [
    {
     "data": {
      "text/plain": [
       "54000"
      ]
     },
     "execution_count": 63,
     "metadata": {},
     "output_type": "execute_result"
    }
   ],
   "source": [
    "len(data_2)"
   ]
  },
  {
   "cell_type": "code",
   "execution_count": 64,
   "metadata": {},
   "outputs": [],
   "source": [
    "import pandas as pd\n",
    "\n",
    "chip_1_v2 = pd.read_json(\n",
    "    \"../datasets/chip2_instruct_alpha/chip2_instruct_alpha_v6a_1_translated_v2.json\"\n",
    ")"
   ]
  },
  {
   "cell_type": "code",
   "execution_count": null,
   "metadata": {},
   "outputs": [],
   "source": [
    "chip_1_v2\n",
    "for i in range(10_000):\n",
    "    print(f\"User: {chip_1_v2.iloc[i]['user_translated']}\")\n",
    "    print(f\"Bot: {chip_1_v2.iloc[i]['bot_translated']}\")\n",
    "    print(\"-\" * 100)"
   ]
  },
  {
   "cell_type": "code",
   "execution_count": null,
   "metadata": {},
   "outputs": [],
   "source": [
    "dolly_translated_v3 = pd.read_json(\n",
    "    \"../datasets/dolly_translated/dolly_translated_v3.json\"\n",
    ")\n",
    "\n",
    "for i in range(10000):\n",
    "    item = dolly_translated_v3.iloc[i]\n",
    "    print(\"instruction_translated: \", item[\"instruction_translated\"])\n",
    "    print(\"context_translated: \", item[\"context_translated\"])\n",
    "    print(\"response_translated: \", item[\"response_translated\"])\n",
    "    print(\"-\" * 100)"
   ]
  },
  {
   "cell_type": "code",
   "execution_count": 67,
   "metadata": {},
   "outputs": [],
   "source": [
    "lengths = []\n",
    "for i in range(len(data_1)):\n",
    "    format_func = lambda u, b: f\"User: {u} Bot: {b}\"\n",
    "    tok_len = lambda prompt: len(tokenizer(prompt)[\"input_ids\"])\n",
    "    user_1 = data_1.iloc[i][\"user_translated\"]\n",
    "    bot_1 = data_1.iloc[i][\"bot_translated\"]\n",
    "    user_2 = data_2.iloc[i][\"user_translated\"]\n",
    "    bot_2 = data_2.iloc[i][\"bot_translated\"]\n",
    "    user_3 = data_3.iloc[i][\"user_translated\"]\n",
    "    bot_3 = data_3.iloc[i][\"bot_translated\"]\n",
    "\n",
    "    lengths.append(tok_len(format_func(user_1, bot_1)))\n",
    "    lengths.append(tok_len(format_func(user_2, bot_2)))\n",
    "    lengths.append(tok_len(format_func(user_3, bot_3)))"
   ]
  },
  {
   "cell_type": "code",
   "execution_count": 68,
   "metadata": {},
   "outputs": [
    {
     "data": {
      "image/png": "[encoded data removed]",
      "text/plain": [
       "<Figure size 640x480 with 1 Axes>"
      ]
     },
     "metadata": {},
     "output_type": "display_data"
    }
   ],
   "source": [
    "visualize_hist(lengths, \"dialogue lengths\")"
   ]
  },
  {
   "cell_type": "code",
   "execution_count": 69,
   "metadata": {},
   "outputs": [],
   "source": [
    "concat_chip2 = pd.concat(\n",
    "    [\n",
    "        data_1,\n",
    "        data_2,\n",
    "        data_3,\n",
    "        data_4,\n",
    "    ],\n",
    "    ignore_index=True,\n",
    ")\n",
    "\n",
    "concat_chip2.to_json(\n",
    "    path_or_buf=\"../datasets/chip2_instruct_alpha/chip2_instruct_alpha_all_translated_v2.json\"\n",
    ")"
   ]
  },
  {
   "cell_type": "code",
   "execution_count": null,
   "metadata": {},
   "outputs": [],
   "source": [
    "instruction_dataset = []\n",
    "for i in range(len(data)):\n",
    "    line = data.iloc[i][0]\n",
    "    user, bot = line.split(\"Chip2: \")\n",
    "    user = user.replace(\"User: \", \"\")\n",
    "    user = user.replace(\"\\n\\n\", \"\")\n",
    "    bot = bot.replace(\"<|endoftext|>\", \"\")\n",
    "    instruction_dataset.append({\"user\": user, \"bot\": bot})"
   ]
  },
  {
   "cell_type": "code",
   "execution_count": 56,
   "metadata": {},
   "outputs": [
    {
     "data": {
      "text/plain": [
       "{'user': \"I'm looking for a new job. What questions should I ask a potential employer during an interview?\",\n",
       " 'bot': '\\n1. What is the job role and what responsibilities does it involve?\\n2. What skills and experiences are you seeking in the most successful candidate? \\n3. What challenges will I face in this role and what support systems are available to help me meet these challenges?\\n4. How does this job fit in the overall organizational structure?\\n5. What opportunities for professional development and growth are available?\\n6. What are the expectations for performance in the role?\\n7. How will success in this role be measured?\\n8. How often will I receive feedback on my performance?\\n9. How quickly is the company expecting me to transition into this role and hit the ground running?\\n10. What advantages would I bring to the team that would make me the right fit for the job?'}"
      ]
     },
     "execution_count": 56,
     "metadata": {},
     "output_type": "execute_result"
    }
   ],
   "source": [
    "instruction_dataset[1000]"
   ]
  },
  {
   "cell_type": "code",
   "execution_count": 52,
   "metadata": {},
   "outputs": [],
   "source": [
    "import json\n",
    "\n",
    "with open(\n",
    "    \"../datasets/pure_datasets/chip2_instruct_alpha/chip2_instruct_alpha_v6a_4_formatted.json\",\n",
    "    \"w\",\n",
    "    encoding=\"utf-8\",\n",
    ") as outfile:\n",
    "    json.dump(instruction_dataset, outfile)"
   ]
  },
  {
   "cell_type": "code",
   "execution_count": 40,
   "metadata": {},
   "outputs": [],
   "source": [
    "# translated_data = pd.read_json(path_or_buf=\"/home/kosenko/deepspeed/DeepSpeedExamples/applications/DeepSpeed-Chat/training/step1_supervised_finetuning/datasets/chip2_instruct_alpha/chip2_instruct_alpha_v6a_1_translated.json\")\n",
    "# translated_data.to_csv(\"./test.csv\")"
   ]
  },
  {
   "cell_type": "code",
   "execution_count": 1,
   "metadata": {},
   "outputs": [],
   "source": [
    "import json\n",
    "\n",
    "with open(\n",
    "    \"../datasets/chip2_instruct_alpha/chip2_instruct_alpha_v6a_2_translated.json\"\n",
    ") as f:\n",
    "    data = json.load(f)\n",
    "    # data = json.loads(data)"
   ]
  },
  {
   "cell_type": "code",
   "execution_count": 2,
   "metadata": {},
   "outputs": [
    {
     "name": "stdout",
     "output_type": "stream",
     "text": [
      "{'bot': 'A will is a legal document that specifies how your property should be '\n",
      "        'distributed after you die. It can also specify who should care for '\n",
      "        \"any children or other dependents you may have. It's important to make \"\n",
      "        'sure that your will is valid and up-to-date, since the laws governing '\n",
      "        'wills vary from state to state.',\n",
      " 'bot_translated': 'Завещание - это юридический документ, который определяет, '\n",
      "                   'как ваше имущество должно быть распределено после вашей '\n",
      "                   'смерти. В нем также может быть указано, кто должен '\n",
      "                   'заботиться о любых детях или других иждивенцах, которые у '\n",
      "                   'вас могут быть. Важно убедиться, что ваша воля '\n",
      "                   'действительна и актуальна, поскольку законы, регулирующие '\n",
      "                   'завещания, варьируются от штата к штату.',\n",
      " 'user': \"I've heard that it's a good idea to have a will. What is a will?\",\n",
      " 'user_translated': 'Я слышал, что хорошо иметь завещание.Что такое завещание?'}\n",
      "{'bot': 'The best way to find a job is to create a strong resume and cover '\n",
      "        'letter that highlights your skills, experience, and qualifications. '\n",
      "        'You can also search online for job openings in your area of expertise '\n",
      "        'or contact local employers directly to inquire about available '\n",
      "        'positions. Networking with people in the same field or industry can '\n",
      "        'also be helpful in finding employment opportunities.',\n",
      " 'bot_translated': 'Лучший способ найти работу - создать сильное резюме и '\n",
      "                   'сопроводительное письмо, в котором подчеркиваются ваши '\n",
      "                   'навыки, опыт и квалификация. Вы также можете искать в '\n",
      "                   'Интернете вакансии в своей области знаний или напрямую '\n",
      "                   'обращаться к местным работодателям, чтобы узнать об '\n",
      "                   'имеющихся вакансиях. Общение с людьми в той же области или '\n",
      "                   'отрасли также может быть полезно при поиске возможностей '\n",
      "                   'трудоустройства.',\n",
      " 'user': 'How do I find a job?',\n",
      " 'user_translated': 'Как мне найти работу?'}\n",
      "{'bot': 'Circular in shape, the floor is completely made from square-cut '\n",
      "        'sections of black marble. Large, blackened marble pillars line the '\n",
      "        'walls, ending with a domed glass ceiling high overhead. A narrow gap '\n",
      "        'on the far side of the room leads to a sweeping stairwell with a '\n",
      "        'mithglin-plated door beneath it.',\n",
      " 'bot_translated': 'Круглая по форме, пол полностью сделан из прямоугольных '\n",
      "                   'секций черного мрамора. Большие, почерневшие мраморные '\n",
      "                   'колонны выстилают стены, заканчиваясь куполообразным '\n",
      "                   'стеклянным потолком высоко над головой. Узкая щель на '\n",
      "                   'противоположной стороне комнаты ведет к широкой лестнице с '\n",
      "                   'мишлинной дверью под ней.',\n",
      " 'user': 'Produce a detailed written description of a gloomy scene inside of a '\n",
      "         'mansion with a domed ceiling, pillars, and a door.',\n",
      " 'user_translated': 'Составьте подробное письменное описание мрачной сцены '\n",
      "                    'внутри особняка с куполообразным потолком, колоннами и '\n",
      "                    'дверью.'}\n",
      "{'bot': 'You may want to try some ice therapy, which will help reduce swelling '\n",
      "        'and inflammation. Additionally, you could use an elastic bandage or '\n",
      "        \"compression wrap to provide additional support for your ankle. It's \"\n",
      "        'also important to stay off of it as much as possible, so that it can '\n",
      "        'heal properly.',\n",
      " 'bot_translated': 'Возможно, вы захотите попробовать терапию льдом, которая '\n",
      "                   'поможет уменьшить отек и воспаление. Кроме того, вы можете '\n",
      "                   'использовать эластичный бинт или компрессионное '\n",
      "                   'обертывание, чтобы обеспечить дополнительную поддержку для '\n",
      "                   'вашей лодыжки.',\n",
      " 'user': 'I have a sprained ankle and need to know what I can do to help it '\n",
      "         'heal faster.',\n",
      " 'user_translated': 'У меня вывих лодыжки, и мне нужно знать, что я могу '\n",
      "                    'сделать, чтобы помочь ей быстрее зажить.'}\n",
      "{'bot': 'To roast a turkey, start by preheating your oven to 350 degrees F. '\n",
      "        'Place the turkey in a roasting pan, and rub it with butter or olive '\n",
      "        'oil. Sprinkle with salt and pepper, and any other herbs or seasonings '\n",
      "        'you like. Place the turkey in the oven and cook for approximately 20 '\n",
      "        'minutes per pound, or until the internal temperature registers 165 '\n",
      "        'degrees. Once the turkey is cooked, remove it from the oven and let '\n",
      "        'it sit for 10-15 minutes before carving.',\n",
      " 'bot_translated': 'Чтобы зажарить индейку, начните с предварительного нагрева '\n",
      "                   'духовки до 350 градусов по Фаренгейту. Поместите индейку в '\n",
      "                   'сковороду и протрите ее сливочным или оливковым маслом. '\n",
      "                   'Посыпьте солью и перцем и любыми другими травами или '\n",
      "                   'приправами, которые вам нравятся. Поместите индейку в '\n",
      "                   'духовку и готовьте примерно 20 минут на фунт или до тех '\n",
      "                   'пор, пока внутренняя температура не зарегистрирует 165 '\n",
      "                   'градусов. Как только индейка приготовлена, выньте ее из '\n",
      "                   'духовки и оставьте на 10-15 минут, прежде чем резать.',\n",
      " 'user': 'How do you roast a turkey?',\n",
      " 'user_translated': 'Как вы жарите индейку?'}\n",
      "{'bot': '\\n'\n",
      "        '1. Start by gathering the necessary ingredients - soy sauce, brown '\n",
      "        'sugar, garlic, ginger, and either sake or mirin.\\n'\n",
      "        '2. Combine 1/4 cup of soy sauce, 1/4 cup of brown sugar, and 2 cloves '\n",
      "        'of minced garlic into a medium bowl.\\n'\n",
      "        '3. In a separate small bowl, mix 1 teaspoon of freshly grated ginger '\n",
      "        'and 2 tablespoons of either mirin or sake.\\n'\n",
      "        '4. Pour the ginger and mirin mixture into the soy sauce mixture and '\n",
      "        'stir until fully combined.\\n'\n",
      "        '5. Cook the mixture in a saucepan over medium-high heat until it '\n",
      "        'begins to simmer.\\n'\n",
      "        '6. Reduce the heat to low and simmer for 10 minutes, stirring '\n",
      "        'occasionally.\\n'\n",
      "        '7. After 10 minutes of simmering, taste and adjust the seasoning as '\n",
      "        'needed.\\n'\n",
      "        '8. Allow the sauce to cool before serving.',\n",
      " 'bot_translated': '1. Начните со сбора необходимых ингредиентов - соевого '\n",
      "                   'соуса, коричневого сахара, чеснока, имбиря и либо саке, '\n",
      "                   'либо мирина. 2. Соедините 1/4 чашки соевого соуса, 1/4 '\n",
      "                   'чашки коричневого сахара и 2 зубчика измельченного чеснока '\n",
      "                   'в миску среднего размера. 3. В отдельной небольшой миске '\n",
      "                   'смешайте 1 чайную ложку свежепотертого имбиря и 2 столовые '\n",
      "                   'ложки либо мирина, либо саке. 4. Влейте смесь имбиря и '\n",
      "                   'мирина в смесь соевого соуса и перемешивайте до полного '\n",
      "                   'соединения. 5. Готовьте смесь в кастрюле на '\n",
      "                   'среднем-высоком огне, пока она не начнет кипеть. 6. '\n",
      "                   'Уменьшите огонь до низкого и варите на медленном огне в '\n",
      "                   'течение 10 минут, периодически помешивая. 7. После 10 '\n",
      "                   'минут кипения, попробуйте и отрегулируйте приправы по мере '\n",
      "                   'необходимости. 8. Дайте соусу остыть перед подачей.',\n",
      " 'user': 'How can I make my own homemade teriyaki sauce?',\n",
      " 'user_translated': 'Как приготовить домашний соус терияки?'}\n",
      "{'bot': 'That depends on the severity of your cleft lip. Could you tell me '\n",
      "        'more about it?',\n",
      " 'bot_translated': 'Это зависит от тяжести вашей заячьей губы. Не могли бы вы '\n",
      "                   'рассказать мне больше об этом?',\n",
      " 'user': 'I have a cleft lip. Will I have to get plastic surgery?',\n",
      " 'user_translated': 'У меня расщелина губы. Придется ли мне делать '\n",
      "                    'пластическую операцию?'}\n",
      "{'bot': 'The millennial generation is generally defined as those born between '\n",
      "        '1980 and 2000, making it roughly equivalent to the baby boomers. '\n",
      "        'Millennials are often characterized by their technology savvy, social '\n",
      "        'media usage, and focus on personal growth and development. They have '\n",
      "        'grown up in an era of economic uncertainty, and many face challenges '\n",
      "        'related to job security and income inequality. Additionally, they '\n",
      "        'have witnessed dramatic changes in global politics, culture, and '\n",
      "        'technology during their formative years.',\n",
      " 'bot_translated': 'Поколение миллениалов, как правило, определяется как те, '\n",
      "                   'кто родился между 1980 и 2000 годами, что делает его '\n",
      "                   'примерно эквивалентным бэби-бумерам. Миллениалы часто '\n",
      "                   'характеризуются своей технологической подкованностью, '\n",
      "                   'использованием социальных сетей и акцентом на личностном '\n",
      "                   'росте и развитии. Они выросли в эпоху экономической '\n",
      "                   'неопределенности, и многие сталкиваются с проблемами, '\n",
      "                   'связанными с безопасностью работы и неравенством доходов. '\n",
      "                   'Кроме того, они стали свидетелями драматических изменений '\n",
      "                   'в мировой политике, культуре и технологиях в годы своего '\n",
      "                   'становления.',\n",
      " 'user': \"I've been hearing a lot about the millennial generation. Can you \"\n",
      "         'tell me more about them?',\n",
      " 'user_translated': 'Я много слышал о поколении миллениалов. Можете ли вы '\n",
      "                    'рассказать мне о них больше?'}\n",
      "{'bot': 'The first women’s suffrage convention was held in Seneca Falls, New '\n",
      "        'York in 1848. The convention was organized by Elizabeth Cady Stanton '\n",
      "        'and Lucretia Mott, and was attended by over 200 women. The convention '\n",
      "        'was held to discuss the issue of women’s suffrage, and to draft a '\n",
      "        'Declaration of Sentiments.',\n",
      " 'bot_translated': 'Первый съезд по женскому избирательному праву состоялся в '\n",
      "                   'Сенека-Фолс, штат Нью-Йорк, в 1848 году. Съезд был '\n",
      "                   'организован Элизабет Кэди Стэнтон и Лукрецией Мотт, и в '\n",
      "                   'нем приняли участие более 200 женщин. Съезд был проведен '\n",
      "                   'для обсуждения вопроса об избирательном праве женщин и '\n",
      "                   'разработки Декларации чувств.',\n",
      " 'user': 'What year was the first women’s suffrage convention held?',\n",
      " 'user_translated': 'В каком году состоялся первый съезд по женскому '\n",
      "                    'избирательному праву?'}\n",
      "{'bot': 'My top pick is The Wizard of Oz. It is a classic family favorite that '\n",
      "        'has stood the test of time. It has great humor, fantastic music, and '\n",
      "        'amazing sets.',\n",
      " 'bot_translated': 'Мой лучший выбор - \"Волшебник страны Оз\". Это классический '\n",
      "                   'семейный фаворит, который выдержал испытание временем. У '\n",
      "                   'него отличный юмор, фантастическая музыка и потрясающие '\n",
      "                   'декорации.',\n",
      " 'user': \"I'm looking for a new movie to watch. Can you suggest a good one?\",\n",
      " 'user_translated': 'Ищу новый фильм для просмотра.Можете подсказать хороший?'}\n",
      "{'bot': 'Prohibition was a law passed in the USA in 1919 that made it illegal '\n",
      "        'to manufacture, sell, or consume alcohol. It was repealed in 1933. '\n",
      "        'The law was passed in response to the rise of organized crime and the '\n",
      "        'use of alcohol as a way to fund criminal activities.',\n",
      " 'bot_translated': 'Запрет был законом, принятым в США в 1919 году, который '\n",
      "                   'сделал незаконным производство, продажу или потребление '\n",
      "                   'алкоголя. Он был отменен в 1933 году. Закон был принят в '\n",
      "                   'ответ на рост организованной преступности и использование '\n",
      "                   'алкоголя в качестве способа финансирования преступной '\n",
      "                   'деятельности.',\n",
      " 'user': 'Why did the USA have Prohibition?',\n",
      " 'user_translated': 'Почему в США был запрет?'}\n",
      "{'bot': 'An enema is when you insert liquid into your rectum, usually to clean '\n",
      "        'out the bowels or remove impacted feces. A colostomy is when you '\n",
      "        'create an artificial opening in your abdomen so that waste can be '\n",
      "        'removed from the body through it. So an enema is used to cleanse the '\n",
      "        'colon, while a colostomy is used to drain the colon.',\n",
      " 'bot_translated': 'Клизма - это когда вы вводите жидкость в прямую кишку, как '\n",
      "                   'правило, чтобы очистить кишечник или удалить попавшие '\n",
      "                   'фекалии. Колостомия - это когда вы создаете искусственное '\n",
      "                   'отверстие в животе, чтобы отходы могли быть удалены из '\n",
      "                   'организма через него. Таким образом, клизма используется '\n",
      "                   'для очищения толстой кишки, а колостомия - для '\n",
      "                   'дренирования толстой кишки.',\n",
      " 'user': \"I'm a bit confused about the difference between an enema and a \"\n",
      "         'colostomy. Which one is right for me?',\n",
      " 'user_translated': 'Я немного запутался в разнице между клизмой и колостомой. '\n",
      "                    'Какой из них подходит мне?'}\n",
      "{'bot': \"You're not alone in that feeling! But you can still make a difference \"\n",
      "        'by helping us with our research and development work here at SpaceX.',\n",
      " 'bot_translated': 'Вы не одиноки в этом чувстве! Но вы все еще можете '\n",
      "                   'изменить ситуацию, помогая нам в наших исследованиях и '\n",
      "                   'разработках здесь, в SpaceX.',\n",
      " 'user': \"I've always wanted to be an astronaut, but I never thought I'd be \"\n",
      "         'good enough.',\n",
      " 'user_translated': 'Я всегда хотел быть астронавтом, но никогда не думал, что '\n",
      "                    'буду достаточно хорош.'}\n",
      "{'bot': 'That depends on a lot of things, including how much money you have '\n",
      "        'now, how much you expect What you want to spend your retirement '\n",
      "        'doing, and what you expect your future expenses to be.',\n",
      " 'bot_translated': 'Это зависит от многих вещей, в том числе от того, сколько '\n",
      "                   'денег у вас есть сейчас, сколько вы ожидаете, что вы '\n",
      "                   'хотите потратить на пенсию, и какие вы ожидаете, что ваши '\n",
      "                   'будущие расходы будут.',\n",
      " 'user': 'How much money should I save to retire?',\n",
      " 'user_translated': 'Сколько денег я должен накопить, чтобы выйти на пенсию?'}\n",
      "{'bot': 'The most important digital marketing strategies for a small business '\n",
      "        'include: creating and optimizing a website, engaging with customers '\n",
      "        'through social media, utilizing email marketing, creating search '\n",
      "        'engine optimization (SEO) campaigns, running pay-per-click (PPC) '\n",
      "        'campaigns, and developing content marketing campaigns. Additionally, '\n",
      "        'making sure the business is leveraging local search, assessing '\n",
      "        'analytics and website performance, and implementing remarketing '\n",
      "        'strategies are all essential elements of digital marketing.',\n",
      " 'bot_translated': 'Наиболее важные стратегии цифрового маркетинга для малого '\n",
      "                   'бизнеса включают в себя: создание и оптимизацию веб-сайта, '\n",
      "                   'взаимодействие с клиентами через социальные сети, '\n",
      "                   'использование маркетинга по электронной почте, создание '\n",
      "                   'кампаний по поисковой оптимизации (SEO), проведение '\n",
      "                   'кампаний с оплатой за клик (PPC) и разработку кампаний по '\n",
      "                   'контент-маркетингу.Кроме того, обеспечение того, чтобы '\n",
      "                   'бизнес использовал локальный поиск, оценку аналитики и '\n",
      "                   'производительности веб-сайта, а также реализацию стратегий '\n",
      "                   'ремаркетинга, являются важными элементами цифрового '\n",
      "                   'маркетинга.',\n",
      " 'user': 'What are the most important digital marketing strategies for a small '\n",
      "         'business?',\n",
      " 'user_translated': 'Каковы наиболее важные стратегии цифрового маркетинга для '\n",
      "                    'малого бизнеса?'}\n",
      "{'bot': 'You may be eligible for deductions based on your income, investments, '\n",
      "        'charitable contributions, and other qualifying expenses. You should '\n",
      "        'consult a tax professional to find out what deductions you may '\n",
      "        'qualify for.',\n",
      " 'bot_translated': 'Вы можете иметь право на вычеты, основанные на вашем '\n",
      "                   'доходе, инвестициях, благотворительных взносах и других '\n",
      "                   'соответствующих расходах.Вы должны проконсультироваться с '\n",
      "                   'налоговым специалистом, чтобы узнать, на какие вычеты вы '\n",
      "                   'можете претендовать.',\n",
      " 'user': 'What kind of tax deductions am I eligible for?',\n",
      " 'user_translated': 'На какие налоговые вычеты я имею право?'}\n",
      "{'bot': 'The most common types of septic systems include gravity-based, '\n",
      "        'pressure-assisted, and aerobic treatment systems. Gravity-based '\n",
      "        'systems rely on natural forces such as gravity to move waste from the '\n",
      "        'home to a septic tank, while pressure-assisted systems use pumps to '\n",
      "        'move waste through the system. Aerobic treatment systems use bacteria '\n",
      "        'to break down waste in an enclosed container before it is discharged '\n",
      "        'into the soil.',\n",
      " 'bot_translated': 'Наиболее распространенные типы септических систем включают '\n",
      "                   'в себя гравитационные, поддерживающие давление и аэробные '\n",
      "                   'очистные системы. Гравитационные системы полагаются на '\n",
      "                   'природные силы, такие как гравитация, для перемещения '\n",
      "                   'отходов из дома в септик, в то время как поддерживающие '\n",
      "                   'давление системы используют насосы для перемещения отходов '\n",
      "                   'через систему. Аэробные очистные системы используют '\n",
      "                   'бактерии для разложения отходов в закрытом контейнере, '\n",
      "                   'прежде чем они будут сбрасываться в почву.',\n",
      " 'user': 'Which are the most common types of septic systems?',\n",
      " 'user_translated': 'Каковы наиболее распространенные типы септических систем?'}\n",
      "{'bot': 'A tattered merchant permit hangs on one of the plain wooden walls, '\n",
      "        'and an uneven wooden ceiling rises overhead. A worn rug sits in one '\n",
      "        'corner of an unfinished wooden floor. There is a plain wooden table '\n",
      "        'on one side of the shop.',\n",
      " 'bot_translated': 'Потрепанное торговое разрешение висит на одной из простых '\n",
      "                   'деревянных стен, а неровный деревянный потолок возвышается '\n",
      "                   'над головой. Изношенный коврик сидит в одном углу '\n",
      "                   'незаконченного деревянного пола. С одной стороны магазина '\n",
      "                   'есть простой деревянный стол.',\n",
      " 'user': 'Make a concise location description of a dreary scene inside a shop '\n",
      "         'with a merchant permit, rug, and wooden table.',\n",
      " 'user_translated': 'Составьте краткое описание мрачной сцены внутри магазина '\n",
      "                    'с торговой лицензией, ковром и деревянным столом.'}\n",
      "{'bot': 'How many hours will the first and last guard take? ** The first and '\n",
      "        'last guard will take 3 + 2 = <<3+2=5>>5 hours of the night shift.\\n'\n",
      "        'How many hours will the middle two guards take? ** There are 9 hours '\n",
      "        'in the night shift, so the middle two guards will cover 9 - 5 = '\n",
      "        '<<9-5=4>>4 hours.\\n'\n",
      "        'How many hours will each middle guard take? ** Each middle guard will '\n",
      "        'take 4 / 2 = <<4/2=2>>2 hours.\\n'\n",
      "        '#### 2',\n",
      " 'bot_translated': 'Сколько часов займет первый и последний охранник? ** '\n",
      "                   'Первый и последний охранник займут 3 + 2 = <<3+2=5>>5 '\n",
      "                   'часов ночной смены. Сколько часов займут два средних '\n",
      "                   'охранника? ** Ночная смена длится 9 часов, поэтому два '\n",
      "                   'средних охранника займут 9 - 5 = <<9-5=4>>4 часа. Сколько '\n",
      "                   'часов займет каждый средний охранник? ** Каждый средний '\n",
      "                   'охранник займет 4 / 2 = <<4/2=2>>2 часа. #### 2',\n",
      " 'user': 'A group of security guards were hired for the night shift at a '\n",
      "         'factory. The four guards agreed to a rotating schedule to cover the '\n",
      "         'nine hours of the night shift. The first guard would take three '\n",
      "         'hours since they were still awake, the last guard would wake up '\n",
      "         'early and take two hours, and the middle two guards would split the '\n",
      "         'remaining hours. How many hours will each middle guard take?',\n",
      " 'user_translated': 'Группа охранников была нанята для ночной смены на '\n",
      "                    'фабрике. Четыре охранника согласились на ротационный '\n",
      "                    'график, чтобы покрыть девять часов ночной смены. Первый '\n",
      "                    'охранник взял бы три часа, так как они все еще '\n",
      "                    'бодрствовали, последний охранник проснулся бы рано и взял '\n",
      "                    'бы два часа, а два средних охранника разделили бы '\n",
      "                    'оставшиеся часы. Сколько часов займет каждый средний '\n",
      "                    'охранник?'}\n",
      "{'bot': 'A large hole gapes in the trunk of the tree, allowing small creatures '\n",
      "        'access to the open air high in the canopy of the blighted forest. The '\n",
      "        'edges of the hole are splintered and new growth is covering the raw '\n",
      "        'areas over with bark. Large amounts of bat droppings cover the floor, '\n",
      "        'while small fungus-like growths and ferns sprout from the '\n",
      "        'guano-covered bark. Protruding from the growth and droppings are the '\n",
      "        'remains of a decomposing corpse.',\n",
      " 'bot_translated': 'В стволе дерева зияет большая дыра, позволяющая маленьким '\n",
      "                   'существам получить доступ к открытому воздуху высоко в '\n",
      "                   'кроне погубленного леса. Края дыры расколоты, и новая '\n",
      "                   'поросль покрывает необработанные участки корой. Большое '\n",
      "                   'количество помета летучих мышей покрывает пол, в то время '\n",
      "                   'как небольшие грибковые наросты и папоротники прорастают '\n",
      "                   'из покрытой гуано коры. Выступающие из нароста и помета - '\n",
      "                   'это останки разлагающегося трупа.',\n",
      " 'user': 'Please generate a brief description of a eerie forest scene with a '\n",
      "         'corpse.',\n",
      " 'user_translated': 'Пожалуйста, составьте краткое описание жуткой сцены в '\n",
      "                    'лесу с трупом.'}\n",
      "{'bot': 'The primary difference between a 401k retirement plan and an IRA is '\n",
      "        'that a 401k plan is an employer-sponsored retirement plan, whereas an '\n",
      "        'IRA (Individual Retirement Account) is an individual retirement plan. '\n",
      "        'A 401k plan allows you to contribute pre-tax dollars from your '\n",
      "        'paycheck, up to a certain limit, and your employer may match a '\n",
      "        'portion of those contributions. An IRA, on the other hand, is funded '\n",
      "        'with after-tax dollars, and you are usually not able to deduct your '\n",
      "        'contributions. Additionally, the contributions you can make to an IRA '\n",
      "        'are typically much lower than those to a 401k.',\n",
      " 'bot_translated': 'Основное различие между пенсионным планом 401k и IRA '\n",
      "                   'заключается в том, что план 401k - это пенсионный план, '\n",
      "                   'спонсируемый работодателем, тогда как IRA (индивидуальный '\n",
      "                   'пенсионный счет) - это индивидуальный пенсионный план. '\n",
      "                   'План 401k позволяет вам вносить доналоговые доллары с '\n",
      "                   'вашей зарплаты до определенного предела, и ваш '\n",
      "                   'работодатель может соответствовать части этих взносов. '\n",
      "                   'IRA, с другой стороны, финансируется долларами после '\n",
      "                   'уплаты налогов, и вы обычно не можете вычитать свои '\n",
      "                   'взносы. Кроме того, взносы, которые вы можете внести в '\n",
      "                   'IRA, обычно намного ниже, чем в 401k.',\n",
      " 'user': 'What is the difference between a 401k retirement plan and an IRA?',\n",
      " 'user_translated': 'В чем разница между пенсионным планом 401k и IRA?'}\n",
      "{'bot': 'E-cigarettes are battery-powered devices that simulate smoking by '\n",
      "        'producing an aerosol, or vapor, from a liquid solution. They '\n",
      "        'typically contain nicotine, which is addictive and can be harmful to '\n",
      "        'health. Some e-cigarettes also may contain other chemicals such as '\n",
      "        'propylene glycol and/or vegetable glycerin, which have not yet been '\n",
      "        'fully studied for safety. The potential risks associated with '\n",
      "        'long-term use of e-cigarettes are unknown.',\n",
      " 'bot_translated': 'Электронные сигареты - это устройства на батарейках, '\n",
      "                   'которые имитируют курение, производя аэрозоль или пар из '\n",
      "                   'жидкого раствора. Они обычно содержат никотин, который '\n",
      "                   'вызывает привыкание и может быть вреден для здоровья. '\n",
      "                   'Некоторые электронные сигареты также могут содержать '\n",
      "                   'другие химические вещества, такие как пропиленгликоль и / '\n",
      "                   'или растительный глицерин, которые еще не были полностью '\n",
      "                   'изучены на предмет безопасности. Потенциальные риски, '\n",
      "                   'связанные с долгосрочным использованием электронных '\n",
      "                   'сигарет, неизвестны.',\n",
      " 'user': \"I've been hearing about the dangers of e-cigarettes. What are they?\",\n",
      " 'user_translated': 'Я слышал об опасностях электронных сигарет. Каковы они?'}\n",
      "{'bot': 'The coronation took place at Westminster Abbey. The coronation was a '\n",
      "        'religious ceremony, and the coronation was a very important event in '\n",
      "        'the history of England.',\n",
      " 'bot_translated': 'Коронация состоялась в Вестминстерском аббатстве. '\n",
      "                   'Коронация была религиозной церемонией, и коронация была '\n",
      "                   'очень важным событием в истории Англии.',\n",
      " 'user': 'Where did the coronation of Henry VIII take place?',\n",
      " 'user_translated': 'Где состоялась коронация Генриха VIII?'}\n",
      "{'bot': 'The procedure involves collecting a urine sample in a sterile '\n",
      "        'container and sending it to a laboratory for analysis. You will need '\n",
      "        'to provide your doctor with information about your medical history, '\n",
      "        'medications you are taking, and any other relevant factors that could '\n",
      "        'affect the test results.',\n",
      " 'bot_translated': 'Процедура включает в себя сбор образца мочи в стерильный '\n",
      "                   'контейнер и отправку его в лабораторию для анализа.Вам '\n",
      "                   'нужно будет предоставить своему врачу информацию о вашей '\n",
      "                   'истории болезни, лекарствах, которые вы принимаете, и '\n",
      "                   'любых других соответствующих факторах, которые могут '\n",
      "                   'повлиять на результаты теста.',\n",
      " 'user': 'My doctor wants me to take a urinalysis. What is the procedure like?',\n",
      " 'user_translated': 'Мой врач хочет, чтобы я сдал анализ мочи.Какова '\n",
      "                    'процедура?'}\n",
      "{'bot': 'It depends on your computer and how much power it consumes. Generally '\n",
      "        'speaking, you should turn off your computer when not in use to '\n",
      "        'conserve energy. However, if your computer is a desktop or laptop '\n",
      "        'with an internal battery, then you may be able to leave it on for '\n",
      "        'longer without having to worry about draining the battery.',\n",
      " 'bot_translated': 'Это зависит от вашего компьютера и от того, сколько '\n",
      "                   'энергии он потребляет. Вообще говоря, вы должны выключать '\n",
      "                   'компьютер, когда он не используется, чтобы экономить '\n",
      "                   'энергию. Однако, если ваш компьютер представляет собой '\n",
      "                   'настольный компьютер или ноутбук с внутренней батареей, вы '\n",
      "                   'можете оставить его дольше, не беспокоясь о разрядке '\n",
      "                   'батареи.',\n",
      " 'user': 'How long can I leave my computer on?',\n",
      " 'user_translated': 'Как долго я могу оставить свой компьютер включенным?'}\n",
      "{'bot': 'A slender hay rake leans precariously against some tall haystacks '\n",
      "        'that lead somewhere deep inside the maze. Or they could lead right '\n",
      "        \"back to the beginning, it is hard to get one's bearings in a place \"\n",
      "        'like this. The only thing that is certain is that there is a lot of '\n",
      "        'corn and hay as far as one can see.',\n",
      " 'bot_translated': 'Стройные грабли для сенокоса ненадежно прислонены к '\n",
      "                   'высоким стогам сена, которые ведут куда-то вглубь '\n",
      "                   'лабиринта. Или они могут вести прямо к началу, трудно '\n",
      "                   'сориентироваться в таком месте, как это. Единственное, в '\n",
      "                   'чем можно быть уверенным, так это в том, что там много '\n",
      "                   'кукурузы и сена, насколько можно видеть.',\n",
      " 'user': 'Generate a detailed description of a scene outside a farm with '\n",
      "         'haystacks, a rake, and hay.',\n",
      " 'user_translated': 'Создайте подробное описание сцены за пределами фермы со '\n",
      "                    'стогами сена, граблями и сеном.'}\n",
      "{'bot': 'Gauberti is stocky for a gnome, just under six feet tall and very '\n",
      "        'broad. His once red hair is now mostly gray and he sports several '\n",
      "        \"missing teeth and a prominent limp. But even if he doesn't look like \"\n",
      "        \"much, his reputation speaks volumes about him. There aren't many \"\n",
      "        'people who can wield a pickaxe nearly as well as he can. If there was '\n",
      "        'ever a time when miners needed someone strong enough to keep them '\n",
      "        'safe, it would be now.',\n",
      " 'bot_translated': 'Гауберти коренастый для гнома, чуть меньше шести футов '\n",
      "                   'ростом и очень широкий. Его когда-то рыжие волосы теперь в '\n",
      "                   'основном седые, и у него есть несколько отсутствующих '\n",
      "                   'зубов и заметная хромота. Но даже если он не выглядит как '\n",
      "                   'много, его репутация говорит о нем многое. Не так много '\n",
      "                   'людей, которые могут владеть киркой почти так же хорошо, '\n",
      "                   'как он. Если когда-либо было время, когда шахтеры '\n",
      "                   'нуждались в ком-то достаточно сильном, чтобы держать их в '\n",
      "                   'безопасности, это было бы сейчас.',\n",
      " 'user': 'Write a character description for a fantasy rpg: Gauberti is a Gnome '\n",
      "         \"Male that works at Gaubertis' Mining Company.\",\n",
      " 'user_translated': 'Напишите описание персонажа для фэнтезийной ролевой игры: '\n",
      "                    'Гауберти - мужчина-гном, который работает в '\n",
      "                    'горнодобывающей компании Гаубертиса.'}\n",
      "{'bot': 'The hammer is a good choice if you need to drive in a nail, but it’s '\n",
      "        'not as versatile as a screwdriver. A screwdriver can be used for many '\n",
      "        'different tasks, such as tightening screws and removing screws.',\n",
      " 'bot_translated': 'Молоток - хороший выбор, если вам нужно вбить гвоздь, но '\n",
      "                   'он не так универсален, как отвертка.Отвертка может '\n",
      "                   'использоваться для многих различных задач, таких как '\n",
      "                   'закручивание винтов и снятие винтов.',\n",
      " 'user': 'Which is better: the hammer or the screwdriver?',\n",
      " 'user_translated': 'Что лучше: молоток или отвертка?'}\n",
      "{'bot': 'Yes, it is possible to build a house out of shipping containers. '\n",
      "        'Shipping containers are made of steel and can be cut into smaller '\n",
      "        'pieces for building purposes. There are many companies that '\n",
      "        'specialize in converting shipping containers into homes.',\n",
      " 'bot_translated': 'Да, можно построить дом из морских контейнеров. Морские '\n",
      "                   'контейнеры сделаны из стали и могут быть разрезаны на '\n",
      "                   'более мелкие части для строительных целей. Есть много '\n",
      "                   'компаний, которые специализируются на преобразовании '\n",
      "                   'морских контейнеров в дома.',\n",
      " 'user': 'Is it possible to build a house out of shipping containers?',\n",
      " 'user_translated': 'Можно ли построить дом из морских контейнеров?'}\n",
      "{'bot': 'No. Smart Contracts are stored on the blockchain, but they are not '\n",
      "        'executed on the blockchain. Instead, they are executed in a virtual '\n",
      "        'environment that is separate from the blockchain.',\n",
      " 'bot_translated': 'Нет. Смарт-контракты хранятся в блокчейне, но они не '\n",
      "                   'выполняются в блокчейне. Вместо этого они выполняются в '\n",
      "                   'виртуальной среде, которая отделена от блокчейна.',\n",
      " 'user': 'When a Smart Contract is executed, is it executed on the blockchain?',\n",
      " 'user_translated': 'Когда выполняется смарт-контракт, выполняется ли он на '\n",
      "                    'блокчейне?'}\n",
      "{'bot': 'Here is some code to find the first letter of each element in string '\n",
      "        '`input`\\n'\n",
      "        '\\n'\n",
      "        \"output = ''.join(item[0].upper() for item in input.split())\\n\"\n",
      "        '\\n'\n",
      "        '#Warning: this code generation is experimental. Please inspect the '\n",
      "        'code for any bugs before executing.',\n",
      " 'bot_translated': 'Вот некоторый код, чтобы найти первую букву каждого '\n",
      "                   \"элемента в строке `input` output = ''.join(item[0].upper() \"\n",
      "                   'для элемента в input.split()) #Предупреждение: эта '\n",
      "                   'генерация кода является экспериментальной. Пожалуйста, '\n",
      "                   'проверьте код на наличие ошибок перед выполнением.',\n",
      " 'user': 'How do I find the first letter of each word?',\n",
      " 'user_translated': 'Как найти первую букву каждого слова?'}\n",
      "{'bot': 'The best way to make a good first impression is to be friendly, open, '\n",
      "        'and positive. Smile, maintain eye contact, and be confident in your '\n",
      "        'own abilities. Show that you are interested in getting to know the '\n",
      "        'person by asking questions about their interests, background, or '\n",
      "        'experiences.',\n",
      " 'bot_translated': 'Лучший способ произвести хорошее первое впечатление - быть '\n",
      "                   'дружелюбным, открытым и позитивным. Улыбайтесь, '\n",
      "                   'поддерживайте зрительный контакт и будьте уверены в своих '\n",
      "                   'силах. Покажите, что вы заинтересованы в знакомстве с '\n",
      "                   'человеком, задавая вопросы о его интересах, прошлом или '\n",
      "                   'опыте.',\n",
      " 'user': 'What is the best way to make a good first impression?',\n",
      " 'user_translated': 'Как лучше всего произвести хорошее первое впечатление?'}\n",
      "{'bot': 'How many laps does Tammy need to run each week? ** She needs to run '\n",
      "        '70 laps in total each week, because 3500 divided by 50 equals '\n",
      "        '<<3500/50=70>>70.\\n'\n",
      "        'How many laps does Tammy need to run each day? ** Since there are '\n",
      "        'seven days in a week, she needs to run 10 laps per day because 70 '\n",
      "        'divided by 7 equals <<70/7=10>>10.\\n'\n",
      "        '#### 10',\n",
      " 'bot_translated': 'Сколько кругов Тэмми нужно пробегать каждую неделю? ** Ей '\n",
      "                   'нужно пробегать в общей сложности 70 кругов каждую неделю, '\n",
      "                   'потому что 3500 разделить на 50 равно <<3500/50=70>>70. '\n",
      "                   'Сколько кругов Тэмми нужно пробегать каждый день? ** '\n",
      "                   'Поскольку в неделе семь дней, ей нужно пробегать 10 кругов '\n",
      "                   'в день, потому что 70 разделить на 7 равно <<70/7=10>>10. '\n",
      "                   '#### 10',\n",
      " 'user': 'Tammy wants to run 3500 meters per week. She knows her track at '\n",
      "         'school is 50 meters around. If she wants to run the same amount each '\n",
      "         'day, how many loops should she make per day?',\n",
      " 'user_translated': 'Тэмми хочет пробегать 3500 метров в неделю. Она знает, '\n",
      "                    'что ее дорожка в школе - это 50 метров вокруг. Если она '\n",
      "                    'хочет бегать столько же каждый день, сколько кругов она '\n",
      "                    'должна делать в день?'}\n",
      "{'bot': 'You can sell your artwork online, through art galleries or at craft '\n",
      "        'fairs. You could also consider selling it on social media sites such '\n",
      "        'as Etsy and eBay. Additionally, you could create a website to '\n",
      "        'showcase your artwork and accept orders from potential buyers. '\n",
      "        'Finally, donating a portion of the proceeds from sales to an '\n",
      "        'organization that supports causes you believe in is another great way '\n",
      "        'to help others while making money.',\n",
      " 'bot_translated': 'Вы можете продавать свои произведения искусства онлайн, '\n",
      "                   'через художественные галереи или на ярмарках ремесел. Вы '\n",
      "                   'также можете рассмотреть возможность продажи их на сайтах '\n",
      "                   'социальных сетей, таких как Etsy и eBay. Кроме того, вы '\n",
      "                   'можете создать веб-сайт для демонстрации своих '\n",
      "                   'произведений искусства и принимать заказы от потенциальных '\n",
      "                   'покупателей. Наконец, пожертвование части выручки от '\n",
      "                   'продаж организации, которая поддерживает причины, в '\n",
      "                   'которые вы верите, - это еще один отличный способ помочь '\n",
      "                   'другим, зарабатывая деньги.',\n",
      " 'user': 'How can I make money by selling my artwork?',\n",
      " 'user_translated': 'Как я могу заработать деньги, продавая свои произведения '\n",
      "                    'искусства?'}\n",
      "{'bot': 'I can certainly help you find the best spa in your area. To find the '\n",
      "        'highest rated spas near you, you may want to check out reviews online '\n",
      "        'or ask friends and family for their recommendations. Additionally, '\n",
      "        'you can narrow down your search by looking for spas with the features '\n",
      "        'you prefer, like massage types, services offered, prices, atmosphere, '\n",
      "        'and more.',\n",
      " 'bot_translated': 'Я, безусловно, могу помочь вам найти лучший спа-салон в '\n",
      "                   'вашем районе. Чтобы найти спа-салоны с самым высоким '\n",
      "                   'рейтингом рядом с вами, вы можете проверить отзывы в '\n",
      "                   'Интернете или попросить друзей и семью дать свои '\n",
      "                   'рекомендации. Кроме того, вы можете сузить свой поиск, ища '\n",
      "                   'спа-салоны с предпочитаемыми вами функциями, такими как '\n",
      "                   'типы массажа, предлагаемые услуги, цены, атмосфера и '\n",
      "                   'многое другое.',\n",
      " 'user': 'I want to treat myself to a massage, can you help me find the best '\n",
      "         'spa in my area?',\n",
      " 'user_translated': 'Я хочу побаловать себя массажем, можете ли вы помочь мне '\n",
      "                    'найти лучший спа-салон в моем районе?'}\n",
      "{'bot': 'Sure, I think it’s probably because of a mix of factors. First off, '\n",
      "        'the environment for Native American people can be stressful, which '\n",
      "        'can make alcohol abuse more of a temptation. Also, there’s some '\n",
      "        'speculation that American Indians might have different genes which '\n",
      "        'affect how alcohol affects them. But I don’t think we have a really '\n",
      "        'firm explanation yet.',\n",
      " 'bot_translated': 'Конечно, я думаю, что это, вероятно, из-за сочетания '\n",
      "                   'факторов. Во-первых, среда для коренных американцев может '\n",
      "                   'быть стрессовой, что может сделать злоупотребление '\n",
      "                   'алкоголем более соблазнительным. Кроме того, есть '\n",
      "                   'некоторые предположения, что у американских индейцев могут '\n",
      "                   'быть разные гены, которые влияют на то, как алкоголь '\n",
      "                   'влияет на них. Но я не думаю, что у нас еще есть '\n",
      "                   'действительно твердое объяснение.',\n",
      " 'user': 'Can you tell me details on how Native Americans have a higher rate '\n",
      "         'of alcohol abuse compared to other Americans?',\n",
      " 'user_translated': 'Можете ли вы рассказать мне подробности о том, как '\n",
      "                    'коренные американцы имеют более высокий уровень '\n",
      "                    'злоупотребления алкоголем по сравнению с другими '\n",
      "                    'американцами?'}\n",
      "{'bot': 'The Women’s Liberation Movement began in the 1970s and 1980s. The '\n",
      "        'main focus of the movement was to encourage women to be more involved '\n",
      "        'in politics and to promote equal rights for women.',\n",
      " 'bot_translated': 'Женское освободительное движение началось в 1970-х и '\n",
      "                   '1980-х годах.Основным направлением движения было поощрение '\n",
      "                   'женщин к более активному участию в политике и поощрение '\n",
      "                   'равных прав для женщин.',\n",
      " 'user': 'How did the Women’s Liberation Movement start in Pennsylvania?',\n",
      " 'user_translated': 'Как началось женское освободительное движение в '\n",
      "                    'Пенсильвании?'}\n",
      "{'bot': 'You could start by searching online for \"healthy recipes\". There are '\n",
      "        'many websites that specialize in providing recipes with healthy '\n",
      "        'ingredients and low calorie counts. You could also look at cookbooks '\n",
      "        'or magazines specifically designed for healthy eating.',\n",
      " 'bot_translated': 'Вы можете начать с поиска в Интернете \"здоровых рецептов\". '\n",
      "                   'Есть много сайтов, которые специализируются на '\n",
      "                   'предоставлении рецептов со здоровыми ингредиентами и '\n",
      "                   'низким содержанием калорий. Вы также можете посмотреть '\n",
      "                   'кулинарные книги или журналы, специально предназначенные '\n",
      "                   'для здорового питания.',\n",
      " 'user': \"I've been trying to find a new recipe to try, but I have no idea \"\n",
      "         'where to start. Where can I find healthy recipes?',\n",
      " 'user_translated': 'Я пытался найти новый рецепт, чтобы попробовать, но я '\n",
      "                    'понятия не имею, с чего начать.Где я могу найти здоровые '\n",
      "                    'рецепты?'}\n",
      "{'bot': 'To tell if a banana is still good, check the color. A ripe banana '\n",
      "        \"should be yellow with some brown spots. If it's green or has white \"\n",
      "        'patches, it may be overripe and not safe to eat. You can also check '\n",
      "        'for soft spots on the skin of the banana. If there are any, the '\n",
      "        'banana may have gone bad.',\n",
      " 'bot_translated': 'Чтобы определить, является ли банан все еще хорошим, '\n",
      "                   'проверьте цвет. Зрелый банан должен быть желтым с '\n",
      "                   'коричневыми пятнами. Если он зеленый или имеет белые '\n",
      "                   'пятна, он может быть перезрелым и небезопасным для '\n",
      "                   'употребления. Вы также можете проверить наличие мягких '\n",
      "                   'пятен на кожуре банана. Если они есть, банан, возможно, '\n",
      "                   'испортился.',\n",
      " 'user': 'How do I tell if a banana is still good?',\n",
      " 'user_translated': 'Как понять, что банан все еще хорош?'}\n",
      "{'bot': 'The best way to get your child to do their homework is by setting a '\n",
      "        'consistent schedule and creating an environment where they feel '\n",
      "        'comfortable asking for help when needed. Make sure that you provide '\n",
      "        \"clear expectations, explain why it's important to complete \"\n",
      "        'assignments on time, and reward them with positive reinforcement when '\n",
      "        'they complete their work.',\n",
      " 'bot_translated': 'Лучший способ заставить вашего ребенка делать свою '\n",
      "                   'домашнюю работу - это установить последовательный график и '\n",
      "                   'создать среду, в которой он будет чувствовать себя '\n",
      "                   'комфортно, обращаясь за помощью, когда это необходимо. '\n",
      "                   'Убедитесь, что вы даете четкие ожидания, объясняете, '\n",
      "                   'почему важно выполнять задания вовремя, и вознаграждаете '\n",
      "                   'их положительным подкреплением, когда они завершают свою '\n",
      "                   'работу.',\n",
      " 'user': 'What is the best way to get my child to do his homework?',\n",
      " 'user_translated': 'Какой лучший способ заставить моего ребенка делать '\n",
      "                    'домашнее задание?'}\n",
      "{'bot': 'Yes, there are some new developments in the war on drugs. For '\n",
      "        'example, many states have legalized marijuana for recreational use '\n",
      "        'and medical purposes. Additionally, the federal government has '\n",
      "        'recently announced plans to decriminalize certain drug offenses, '\n",
      "        'including simple possession of small amounts of marijuana.',\n",
      " 'bot_translated': 'Да, есть некоторые новые события в войне с наркотиками. '\n",
      "                   'Например, многие штаты легализовали марихуану для '\n",
      "                   'использования в рекреационных и медицинских целях. Кроме '\n",
      "                   'того, федеральное правительство недавно объявило о планах '\n",
      "                   'декриминализации некоторых преступлений, связанных с '\n",
      "                   'наркотиками, включая простое хранение небольшого '\n",
      "                   'количества марихуаны.',\n",
      " 'user': 'Are there any new developments in the war on drugs?',\n",
      " 'user_translated': 'Есть ли какие-либо новые события в войне с наркотиками?'}\n",
      "{'bot': 'Murals of beautiful white horses fill the walls between the entrances '\n",
      "        'to other rooms. Above, a stained glass scene depicts an old '\n",
      "        'shaggy-haired man with wings on his back, his feet surrounded by the '\n",
      "        'dark, purplish-grey and green-tinged hues of a storming sea. Plain '\n",
      "        'white tiles underfoot have been painted with fanciful conch shells of '\n",
      "        'various sizes.',\n",
      " 'bot_translated': 'Фрески красивых белых лошадей заполняют стены между '\n",
      "                   'входами в другие комнаты. Наверху на витражной сцене '\n",
      "                   'изображен старый лохматый мужчина с крыльями на спине, его '\n",
      "                   'ноги окружены темными, пурпурно-серыми и зеленоватыми '\n",
      "                   'оттенками бушующего моря. Простые белые плитки под ногами '\n",
      "                   'были окрашены причудливыми раковинами различных размеров.',\n",
      " 'user': 'Produce a detailed written description of a spooky cave in the '\n",
      "         'wilderness with quartz crystals and phosphorescent fungi.',\n",
      " 'user_translated': 'Составьте подробное письменное описание жуткой пещеры в '\n",
      "                    'пустыне с кристаллами кварца и фосфоресцирующими '\n",
      "                    'грибками.'}\n",
      "{'bot': 'The leader of the riots was Mustafa Kemal Ataturk. He was the founder '\n",
      "        'of the modern Turkish state. He was also the first president of '\n",
      "        'Turkey.',\n",
      " 'bot_translated': 'Лидером беспорядков был Мустафа Кемаль Ататюрк. Он был '\n",
      "                   'основателем современного турецкого государства. Он также '\n",
      "                   'был первым президентом Турции.',\n",
      " 'user': 'Who was the leader of the 1922 Ankara riots?',\n",
      " 'user_translated': 'Кто был лидером беспорядков в Анкаре в 1922 году?'}\n",
      "{'bot': 'The best way to get rid of a bad headache is to take an '\n",
      "        'over-the-counter pain reliever such as ibuprofen or acetaminophen. '\n",
      "        'Additionally, drinking plenty of fluids and getting some rest can '\n",
      "        'help reduce symptoms. If you have a migraine, try applying cold or '\n",
      "        'warm compresses to your forehead or neck, massaging the area, or '\n",
      "        'taking a hot shower.',\n",
      " 'bot_translated': 'Лучший способ избавиться от сильной головной боли - '\n",
      "                   'принять безрецептурное обезболивающее, такое как ибупрофен '\n",
      "                   'или ацетаминофен. Кроме того, пить много жидкости и '\n",
      "                   'отдыхать может помочь уменьшить симптомы. Если у вас '\n",
      "                   'мигрень, попробуйте прикладывать холодные или теплые '\n",
      "                   'компрессы к лбу или шее, массировать область или принимать '\n",
      "                   'горячий душ.',\n",
      " 'user': 'What are the best ways to get rid of a bad headache?',\n",
      " 'user_translated': 'Каковы лучшие способы избавиться от сильной головной '\n",
      "                    'боли?'}\n",
      "{'bot': 'A semi-circle of rocks covered thickly with moss makes a private '\n",
      "        'retreat from the hubbub of the merrymaking within the tent nearby. A '\n",
      "        'gently rounded stone shelf serves as a bench made by some long '\n",
      "        'forgotten craftsmen or a kindly nature. The noise and strife of '\n",
      "        'adventuring seem far away and almost forgotten in this island of '\n",
      "        'tranquility.',\n",
      " 'bot_translated': 'Полукруг скал, густо покрытых мхом, создает уединенное '\n",
      "                   'убежище от шума веселья в соседней палатке. Мягко '\n",
      "                   'закругленная каменная полка служит скамейкой, сделанной '\n",
      "                   'давно забытыми мастерами или доброй природой. Шум и борьба '\n",
      "                   'приключений кажутся далекими и почти забытыми на этом '\n",
      "                   'острове спокойствия.',\n",
      " 'user': 'Produce a detailed written description of a tribal setting outside '\n",
      "         'wilderness glade with a bench and a shelf.',\n",
      " 'user_translated': 'Составьте подробное письменное описание племенной '\n",
      "                    'обстановки за пределами поляны дикой природы со скамейкой '\n",
      "                    'и полкой.'}\n",
      "{'bot': 'The first step is to make sure your vehicle is properly maintained. '\n",
      "        'This includes regularly checking the oil, air filter, and other '\n",
      "        'fluids. You should also have regular tune-ups done by a qualified '\n",
      "        'mechanic. Additionally, you may want to consider switching to a more '\n",
      "        'fuel-efficient engine oil or using a different type of fuel such as '\n",
      "        'ethanol or biodiesel. Finally, you can try reducing your speed while '\n",
      "        'driving in order to conserve fuel.',\n",
      " 'bot_translated': 'Первый шаг - убедиться, что ваш автомобиль обслуживается '\n",
      "                   'должным образом. Это включает в себя регулярную проверку '\n",
      "                   'масла, воздушного фильтра и других жидкостей. Вы также '\n",
      "                   'должны иметь регулярные настройки, сделанные '\n",
      "                   'квалифицированным механиком. Кроме того, вы можете '\n",
      "                   'подумать о переходе на более экономичное моторное масло '\n",
      "                   'или использовании другого типа топлива, такого как этанол '\n",
      "                   'или биодизель. Наконец, вы можете попробовать снизить '\n",
      "                   'скорость во время вождения, чтобы сэкономить топливо.',\n",
      " 'user': 'How can I get my car to be more fuel efficient?',\n",
      " 'user_translated': 'Как я могу сделать свой автомобиль более экономичным по '\n",
      "                    'топливу?'}\n",
      "{'bot': 'The best blogging platforms for beginners are WordPress, Blogger, and '\n",
      "        'Tumblr. All three offer free or low-cost options with plenty of '\n",
      "        'features to get you started. Each platform has its own pros and cons, '\n",
      "        \"so it's important to research each one before deciding which is right \"\n",
      "        'for you.',\n",
      " 'bot_translated': 'Лучшими платформами для блогов для начинающих являются '\n",
      "                   'WordPress, Blogger и Tumblr. Все три предлагают бесплатные '\n",
      "                   'или недорогие варианты с множеством функций, которые '\n",
      "                   'помогут вам начать работу. У каждой платформы есть свои '\n",
      "                   'плюсы и минусы, поэтому важно исследовать каждую из них, '\n",
      "                   'прежде чем решить, что подходит именно вам.',\n",
      " 'user': 'I want to start a blog. Which are the best blogging platforms?',\n",
      " 'user_translated': 'Я хочу начать блог.Какие лучшие платформы для блогов?'}\n",
      "{'bot': 'Start by making sure you have all the necessary ingredients on hand. '\n",
      "        'Then, create a plan that includes lean proteins like chicken or fish, '\n",
      "        'whole grains such as quinoa or brown rice, and plenty of fresh '\n",
      "        'vegetables. Consider adding some beans, nuts, seeds, and other '\n",
      "        'healthy fats to your meal. Finally, add herbs and spices to give it '\n",
      "        'flavor without extra calories.',\n",
      " 'bot_translated': 'Начните с того, что убедитесь, что у вас есть все '\n",
      "                   'необходимые ингредиенты под рукой. Затем создайте план, '\n",
      "                   'который включает в себя постные белки, такие как курица '\n",
      "                   'или рыба, цельные зерна, такие как киноа или коричневый '\n",
      "                   'рис, и много свежих овощей. Подумайте о добавлении '\n",
      "                   'некоторых бобов, орехов, семян и других полезных жиров в '\n",
      "                   'вашу еду. Наконец, добавьте травы и специи, чтобы придать '\n",
      "                   'ей вкус без лишних калорий.',\n",
      " 'user': 'How can I make a healthy meal for my family?',\n",
      " 'user_translated': 'Как я могу приготовить здоровую еду для своей семьи?'}\n",
      "{'bot': 'It depends on your climate and energy needs. Electric blankets can '\n",
      "        'help you save energy, but they can also be expensive to run. You may '\n",
      "        'want to consider other ways of saving energy like using a '\n",
      "        'programmable thermostat or investing in energy-efficient appliances.',\n",
      " 'bot_translated': 'Это зависит от вашего климата и потребностей в энергии. '\n",
      "                   'Электрические одеяла могут помочь вам сэкономить энергию, '\n",
      "                   'но они также могут быть дорогими в эксплуатации. Возможно, '\n",
      "                   'вы захотите рассмотреть другие способы экономии энергии, '\n",
      "                   'такие как использование программируемого термостата или '\n",
      "                   'инвестирование в энергоэффективные приборы.',\n",
      " 'user': 'Is it okay to use an electric blanket during the winter?',\n",
      " 'user_translated': 'Можно ли использовать электрическое одеяло зимой?'}\n",
      "{'bot': 'That would be Gary Gygax. He was the creator of the game. He was also '\n",
      "        'the author of the first edition of the game.',\n",
      " 'bot_translated': 'Это был бы Гэри Гайгэкс. Он был создателем игры. Он также '\n",
      "                   'был автором первого издания игры.',\n",
      " 'user': 'Who is the most famous Dungeon Master?',\n",
      " 'user_translated': 'Кто самый известный Мастер Подземелья?'}\n",
      "{'bot': 'No, the Gallic Wars were a series of wars in which the Roman Republic '\n",
      "        'conquered Gaul. The pyramids were built by an estimated 30,000 '\n",
      "        'workers. The Roman Gallic war army had around 75,000 soldiers. So the '\n",
      "        'Roman Gallic Wars army would not struggle to build the pyramids '\n",
      "        'faster.',\n",
      " 'bot_translated': 'Нет, Галльские войны были серией войн, в которых Римская '\n",
      "                   'республика завоевала Галлию. Пирамиды были построены, по '\n",
      "                   'оценкам, 30 000 рабочих. Римская Галльская военная армия '\n",
      "                   'насчитывала около 75 000 солдат.',\n",
      " 'user': 'Would Roman Gallic Wars army struggle to build the pyramids faster?',\n",
      " 'user_translated': 'Будет ли армия римских галльских войн бороться за то, '\n",
      "                    'чтобы строить пирамиды быстрее?'}\n",
      "{'bot': 'The rainforest is home to a wide variety of animals, including '\n",
      "        'mammals such as primates, sloths, monkeys, and tapirs; reptiles like '\n",
      "        'anoles and iguanas; amphibians like frogs and toads; birds like '\n",
      "        'toucans and parrots; fish like piranhas and cichlids; and insects '\n",
      "        'such as ants, butterflies, and beetles.',\n",
      " 'bot_translated': 'Тропический лес является домом для самых разных животных, '\n",
      "                   'включая млекопитающих, таких как приматы, ленивцы, '\n",
      "                   'обезьяны и тапиры; рептилий, таких как анолисы и игуаны; '\n",
      "                   'земноводных, таких как лягушки и жабы; птиц, таких как '\n",
      "                   'туканы и попугаи; рыбы, такие как пираньи и цихлиды; и '\n",
      "                   'насекомых, таких как муравьи, бабочки и жуки.',\n",
      " 'user': 'What types of animals live in the rainforest?',\n",
      " 'user_translated': 'Какие животные живут в тропическом лесу?'}\n",
      "{'bot': 'Unblock YouTube Users\\n'\n",
      "        '1. Open the YouTube app.\\n'\n",
      "        '2. Search for the user you wish to unblock.\\n'\n",
      "        '3. Tap on their channel name.\\n'\n",
      "        '4. Tap on the 3 dots in the top right and select Unblock user.',\n",
      " 'bot_translated': 'Разблокировать пользователей YouTube 1. Откройте '\n",
      "                   'приложение YouTube. 2. Найдите пользователя, которого вы '\n",
      "                   'хотите разблокировать. 3. Нажмите на название его канала. '\n",
      "                   '4. Нажмите на 3 точки в правом верхнем углу и выберите '\n",
      "                   'Разблокировать пользователя.',\n",
      " 'user': 'How to unblock YouTube users?',\n",
      " 'user_translated': 'Как разблокировать пользователей YouTube?'}\n",
      "{'bot': 'Yes, it is true. Eggs are a food that contains cholesterol and eating '\n",
      "        'too much of it can increase your risk of getting heart disease or '\n",
      "        'stroke. Eating too much cholesterol in general can also increase your '\n",
      "        'risk for developing certain types of cancers like breast, colon and '\n",
      "        'prostate cancer. So it’s important to limit the amount of eggs you '\n",
      "        'eat as part of a healthy diet.',\n",
      " 'bot_translated': 'Да, это правда. Яйца - это пища, которая содержит '\n",
      "                   'холестерин, и употребление слишком большого его количества '\n",
      "                   'может увеличить риск развития сердечных заболеваний или '\n",
      "                   'инсульта. Употребление слишком большого количества '\n",
      "                   'холестерина в целом также может увеличить риск развития '\n",
      "                   'определенных видов рака, таких как рак молочной железы, '\n",
      "                   'толстой кишки и предстательной железы. Поэтому важно '\n",
      "                   'ограничить количество яиц, которые вы едите, как часть '\n",
      "                   'здорового питания.',\n",
      " 'user': 'Is it true that if you eat too many eggs you can get cancer?',\n",
      " 'user_translated': 'Правда ли, что если вы едите слишком много яиц, вы можете '\n",
      "                    'получить рак?'}\n",
      "{'bot': 'If someone is homeless and hungry, and they die, they can’t pay you '\n",
      "        'back with anything. So, while it might make you feel better to hate '\n",
      "        'on them, a lot of people would be happier if they were given a hand.',\n",
      " 'bot_translated': 'Если кто-то бездомный и голодный, и они умирают, они не '\n",
      "                   'могут отплатить вам чем-либо.Итак, хотя это может '\n",
      "                   'заставить вас чувствовать себя лучше, чтобы ненавидеть их, '\n",
      "                   'многие люди были бы счастливее, если бы им была оказана '\n",
      "                   'помощь.',\n",
      " 'user': 'All my hard earned tax dollars, they take it all from me and spend '\n",
      "         'it on drug addicts who keep going back into the system. Why am I '\n",
      "         \"paying for these people's survival?\",\n",
      " 'user_translated': 'Все мои с трудом заработанные налоговые доллары, они '\n",
      "                    'забирают все это у меня и тратят на наркоманов, которые '\n",
      "                    'продолжают возвращаться в систему. Почему я плачу за '\n",
      "                    'выживание этих людей?'}\n",
      "{'bot': 'I haven’t seen it yet, but I’ve heard good things. It seems like a '\n",
      "        'fun and creative way to tell a story.',\n",
      " 'bot_translated': 'Я еще не видел его, но слышал хорошие отзывы. Кажется, это '\n",
      "                   'забавный и творческий способ рассказать историю.',\n",
      " 'user': 'What do you think of the new movie about a vampire hunter?',\n",
      " 'user_translated': 'Что вы думаете о новом фильме об охотнике на вампиров?'}\n",
      "{'bot': 'The first computer was invented by Charles Babbage in 1822. It was '\n",
      "        'called the Analytical Engine. It was a mechanical computer that could '\n",
      "        'do calculations. It was never built, but it was a very ambitious '\n",
      "        'project.',\n",
      " 'bot_translated': 'Первый компьютер был изобретен Чарльзом Бэббиджем в 1822 '\n",
      "                   'году. Он назывался Аналитической машиной. Это был '\n",
      "                   'механический компьютер, который мог выполнять вычисления. '\n",
      "                   'Он так и не был построен, но это был очень амбициозный '\n",
      "                   'проект.',\n",
      " 'user': 'Where was the first computer invented?',\n",
      " 'user_translated': 'Где был изобретен первый компьютер?'}\n",
      "{'bot': \"How many pairs of socks did Lisa's cousin bring? ** Her cousin \"\n",
      "        'brought over 20/5=<<20/5=4>>4 pairs of socks\\n'\n",
      "        'How many pairs of socks did Lisa buy? ** Three times more than Lisa '\n",
      "        'bought was 12*3=<<12*3=36>>36\\n'\n",
      "        \"How many pairs of socks did Lisa's mom bring? ** Her mom brought \"\n",
      "        '36+8=<<36+8=44>>44 pairs of socks\\n'\n",
      "        'How many pairs of socks did Lisa end up with? ** In total Lisa had '\n",
      "        '12+20+4+44=<<12+20+4+44=80>>80 pairs of socks\\n'\n",
      "        '#### 80',\n",
      " 'bot_translated': 'Сколько пар носков принесла кузина Лизы? ** Ее кузина '\n",
      "                   'принесла более 20/5=<<20/5=4>>4 пары носков Сколько пар '\n",
      "                   'носков купила Лиза? ** В три раза больше, чем купила Лиза, '\n",
      "                   'было 12*3=<<12*3=36>>36 Сколько пар носков принесла мама '\n",
      "                   'Лизы? ** Ее мама принесла 36+8=<<36+8=44>>44 пары носков '\n",
      "                   'Сколько пар носков осталось у Лизы? ** Всего у Лизы было '\n",
      "                   '12+20+4+44=<<12+20+4+44=80>>80 пар носков #### 80',\n",
      " 'user': 'Lisa was collecting socks to donate to a homeless shelter. She '\n",
      "         'bought 12 pairs at a discount store. Sandra, her friend, came over '\n",
      "         'and brought her 20 pairs of socks. Her cousin showed up with '\n",
      "         'one-fifth the number of pairs that Sandra bought. After work, Lisa’s '\n",
      "         'mom brought 8 more than three times the number of pairs Lisa started '\n",
      "         'with. How many pairs of socks did Lisa end up with?',\n",
      " 'user_translated': 'Лиза собирала носки, чтобы пожертвовать их приюту для '\n",
      "                    'бездомных. Она купила 12 пар в дисконтном магазине. '\n",
      "                    'Сандра, ее подруга, подошла и принесла ей 20 пар носков. '\n",
      "                    'Ее двоюродная сестра пришла с одной пятой того количества '\n",
      "                    'пар, которое купила Сандра. После работы мама Лизы '\n",
      "                    'принесла 8 пар, что в три раза больше, чем было у Лизы в '\n",
      "                    'начале. Сколько пар носков осталось у Лизы?'}\n",
      "{'bot': 'The main difference between a scuba diver and a free diver is that a '\n",
      "        'scuba diver uses a compressed air tank to supply breathing gas, while '\n",
      "        'a free diver relies on natural sources such as the air in the water '\n",
      "        'or their own breath. Scuba divers also have more equipment, including '\n",
      "        'a regulator and buoyancy control device, which help them stay '\n",
      "        'underwater longer. Free divers usually only need fins, mask, snorkel, '\n",
      "        'and a wet suit.',\n",
      " 'bot_translated': 'Основное различие между аквалангистом и фридайвером '\n",
      "                   'заключается в том, что аквалангист использует баллон со '\n",
      "                   'сжатым воздухом для подачи дыхательного газа, в то время '\n",
      "                   'как фридайвер полагается на естественные источники, такие '\n",
      "                   'как воздух в воде или собственное дыхание. аквалангисты '\n",
      "                   'также имеют больше оборудования, включая регулятор и '\n",
      "                   'устройство контроля плавучести, которые помогают им '\n",
      "                   'оставаться под водой дольше. фридайверам обычно нужны '\n",
      "                   'только ласты, маска, трубка и гидрокостюм.',\n",
      " 'user': 'What are the main differences between a scuba diver and a free '\n",
      "         'diver?',\n",
      " 'user_translated': 'Каковы основные различия между аквалангистом и '\n",
      "                    'фридайвером?'}\n",
      "{'bot': 'Here is some code to execute SQL statement `sql` with values of '\n",
      "        'dictionary `myDict` as parameters\\n'\n",
      "        '\\n'\n",
      "        'cursor.execute(sql, list(myDict.values()))\\n'\n",
      "        '\\n'\n",
      "        '#Warning: this code generation is experimental. Please inspect the '\n",
      "        'code for any bugs before executing.',\n",
      " 'bot_translated': 'Вот некоторый код для выполнения оператора SQL `sql` со '\n",
      "                   'значениями словаря `myDict` в качестве параметров '\n",
      "                   'cursor.execute(sql, list(myDict.values())) '\n",
      "                   '#Предупреждение: генерация этого кода является '\n",
      "                   'экспериментальной. Пожалуйста, проверьте код на наличие '\n",
      "                   'ошибок перед выполнением.',\n",
      " 'user': 'Using a Python dict for a SQL INSERT statement',\n",
      " 'user_translated': 'Использование Python-диктовки для SQL-заявления INSERT'}\n",
      "{'bot': '\\n'\n",
      "        '1. Drinking tea can help with improving heart health by lowering '\n",
      "        'cholesterol and blood pressure.\\n'\n",
      "        '2. Tea contains antioxidants that can help boost the immune system '\n",
      "        'and help fight off infections and disease.\\n'\n",
      "        '3. Tea may help reduce the risk of cancer by blocking the activation '\n",
      "        'of cancer-causing agents and removing free radicals from the body.\\n'\n",
      "        '4. Tea can help with weight loss as it increases your metabolism and '\n",
      "        'helps to burn fat more quickly.\\n'\n",
      "        '5. Tea can also improve mental clarity, focus, and alertness as some '\n",
      "        'varieties contain caffeine.\\n'\n",
      "        '6. Tea can assist with digestion as certain types of tea have been '\n",
      "        'shown to increase beneficial gut bacteria.\\n'\n",
      "        '7. The polyphenols in tea can help reduce inflammation and even help '\n",
      "        'protect the health of your skin.',\n",
      " 'bot_translated': '1. Употребление чая может помочь улучшить здоровье сердца, '\n",
      "                   'снижая уровень холестерина и кровяное давление. 2. Чай '\n",
      "                   'содержит антиоксиданты, которые могут помочь укрепить '\n",
      "                   'иммунную систему и помочь бороться с инфекциями и '\n",
      "                   'болезнями. 3. Чай может помочь снизить риск развития рака, '\n",
      "                   'блокируя активацию канцерогенных агентов и удаляя '\n",
      "                   'свободные радикалы из организма. 4. Чай может помочь с '\n",
      "                   'потерей веса, так как он увеличивает ваш метаболизм и '\n",
      "                   'помогает быстрее сжигать жир. 5. Чай также может улучшить '\n",
      "                   'ясность ума, сосредоточенность и бдительность, так как '\n",
      "                   'некоторые сорта содержат кофеин. 6. Чай может помочь с '\n",
      "                   'пищеварением, так как было показано, что некоторые виды '\n",
      "                   'чая увеличивают количество полезных кишечных бактерий. 7. '\n",
      "                   'Полифенолы в чае могут помочь уменьшить воспаление и даже '\n",
      "                   'помочь защитить здоровье вашей кожи.',\n",
      " 'user': 'What are the top health benefits of drinking tea every day?',\n",
      " 'user_translated': 'Каковы основные преимущества для здоровья от употребления '\n",
      "                    'чая каждый день?'}\n",
      "{'bot': 'I don’t know the best one, but here’s a screenshot of the camera of '\n",
      "        'the Flatiron building:',\n",
      " 'bot_translated': 'Я не знаю лучшего, но вот скриншот камеры здания '\n",
      "                   'Флэтайрон:',\n",
      " 'user': 'I need a good location that looks down on times square',\n",
      " 'user_translated': 'Мне нужно хорошее место, которое смотрит вниз на '\n",
      "                    'Таймс-сквер'}\n",
      "{'bot': 'The mechanism behind flying a kite is the use of a combination of '\n",
      "        'forces acting on the kite, including lift from the wind, drag from '\n",
      "        'the air, and weight from the kite itself. These forces must be '\n",
      "        \"balanced in order for the kite to fly. To do this, the kite's strings \"\n",
      "        'must be held and adjusted so that the kite can maintain its balance '\n",
      "        'in the air. Adjusting the tension of the strings can also help to '\n",
      "        'achieve the desired flight path or trick maneuvers.',\n",
      " 'bot_translated': 'Механизм запуска воздушного змея - это использование '\n",
      "                   'комбинации сил, действующих на змея, включая подъем от '\n",
      "                   'ветра, сопротивление воздуха и вес самого змея. Эти силы '\n",
      "                   'должны быть сбалансированы, чтобы змей мог летать. Для '\n",
      "                   'этого струны змея должны удерживаться и регулироваться '\n",
      "                   'так, чтобы змей мог поддерживать равновесие в воздухе. '\n",
      "                   'Регулировка натяжения струн также может помочь достичь '\n",
      "                   'желаемой траектории полета или трюковых маневров.',\n",
      " 'user': 'What is the mechanism behind flying a kite?',\n",
      " 'user_translated': 'Какой механизм стоит за запуском воздушного змея?'}\n",
      "{'bot': 'One way to ensure your kids are safe online is to monitor their '\n",
      "        'activities. Make sure they know that you’re always there for them, '\n",
      "        'and talk to them about the dangers of the internet. You could also '\n",
      "        'set up parental controls on all devices in your home so that you have '\n",
      "        'control over what content they see. Additionally, encourage them to '\n",
      "        'be smart when using social media by only sharing information with '\n",
      "        'friends they trust, and never giving out personal details like '\n",
      "        'addresses or phone numbers.',\n",
      " 'bot_translated': 'Один из способов обеспечить безопасность ваших детей в '\n",
      "                   'Интернете - следить за их действиями. Убедитесь, что они '\n",
      "                   'знают, что вы всегда рядом с ними, и поговорите с ними об '\n",
      "                   'опасностях Интернета. Вы также можете установить '\n",
      "                   'родительский контроль на всех устройствах в вашем доме, '\n",
      "                   'чтобы вы могли контролировать, какой контент они видят. '\n",
      "                   'Кроме того, поощряйте их быть умными при использовании '\n",
      "                   'социальных сетей, обмениваясь информацией только с '\n",
      "                   'друзьями, которым они доверяют, и никогда не выдавая '\n",
      "                   'личные данные, такие как адреса или номера телефонов.',\n",
      " 'user': 'How can I make sure my kids are safe online?',\n",
      " 'user_translated': 'Как я могу убедиться, что мои дети в безопасности в '\n",
      "                    'Интернете?'}\n",
      "{'bot': '\\n'\n",
      "        '1. To Kill a Mockingbird by Harper Lee \\n'\n",
      "        '2. The Catcher in the Rye by J.D. Salinger\\n'\n",
      "        '3. 1984 by George Orwell \\n'\n",
      "        '4. Pride and Prejudice by Jane Austen \\n'\n",
      "        '5. The Great Gatsby by F. Scott Fitzgerald \\n'\n",
      "        '6. Lord of the Flies by William Golding \\n'\n",
      "        '7. The Outsiders by S.E. Hinton \\n'\n",
      "        '8. Animal Farm by George Orwell \\n'\n",
      "        '9. The Adventures of Huckleberry Finn by Mark Twain \\n'\n",
      "        '10. Beloved by Toni Morrison',\n",
      " 'bot_translated': '1. \"Убить пересмешника\" Харпер Ли 2. \"Над пропастью во '\n",
      "                   'ржи\" Дж.Д. Сэлинджера 3. \"1984\" Джорджа Оруэлла 4. '\n",
      "                   '\"Гордость и предубеждение\" Джейн Остин 5. \"Великий Гэтсби\" '\n",
      "                   'Ф. Скотта Фицджеральда 6. \"Повелитель мух\" Уильяма '\n",
      "                   'Голдинга 7. \"Аутсайдеры\" С.Э. Хинтона 8. \"Скотный двор\" '\n",
      "                   'Джорджа Оруэлла 9. \"Приключения Гекльберри Финна\" Марка '\n",
      "                   'Твена 10. \"Возлюбленная\" Тони Моррисон',\n",
      " 'user': 'Can you give me a list of the best books to read in your 20s?',\n",
      " 'user_translated': 'Можете ли вы дать мне список лучших книг для чтения в 20 '\n",
      "                    'лет?'}\n",
      "{'bot': 'The French were outnumbered and outgunned. They were outnumbered 3 to '\n",
      "        '1 and outgunned 4 to 1. The French lost the battle and were forced to '\n",
      "        'retreat.',\n",
      " 'bot_translated': 'Французы были в меньшинстве и превосходили по численности '\n",
      "                   'и вооружению. Они были в меньшинстве 3 к 1 и превосходили '\n",
      "                   'по вооружению 4 к 1. Французы проиграли битву и были '\n",
      "                   'вынуждены отступить.',\n",
      " 'user': 'Why did the French lose at the Battle of Pisa?',\n",
      " 'user_translated': 'Почему французы проиграли в битве при Пизе?'}\n",
      "{'bot': 'It depends on the company culture. If you are applying for a job at '\n",
      "        'an organization that is known for its casual dress code, then wearing '\n",
      "        'a T-shirt would be fine. However, if the company has a more '\n",
      "        \"conservative dress code, then it's best to stick with business attire \"\n",
      "        'such as a suit or other formal clothing.',\n",
      " 'bot_translated': 'Это зависит от культуры компании. Если вы претендуете на '\n",
      "                   'работу в организации, которая известна своим повседневным '\n",
      "                   'дресс-кодом, то ношение футболки будет в порядке. Однако, '\n",
      "                   'если в компании более консервативный дресс-код, то лучше '\n",
      "                   'придерживаться деловой одежды, такой как костюм или другая '\n",
      "                   'формальная одежда.',\n",
      " 'user': 'Is it okay to wear a tee shirt to a job interview?',\n",
      " 'user_translated': 'Нормально ли надевать футболку на собеседование?'}\n",
      "{'bot': 'The best way to find a reputable contractor is to do your research. '\n",
      "        'Look up reviews online, ask family and friends for recommendations, '\n",
      "        'or check with your local home improvement store for contractors they '\n",
      "        \"recommend. Make sure you also check the contractor's credentials and \"\n",
      "        'make sure they are licensed and insured.',\n",
      " 'bot_translated': 'Лучший способ найти авторитетного подрядчика - это '\n",
      "                   'провести исследование. Посмотрите отзывы в Интернете, '\n",
      "                   'попросите рекомендации у семьи и друзей или обратитесь в '\n",
      "                   'местный магазин товаров для дома за подрядчиками, которых '\n",
      "                   'они рекомендуют. Убедитесь, что вы также проверяете '\n",
      "                   'полномочия подрядчика и убедитесь, что они лицензированы и '\n",
      "                   'застрахованы.',\n",
      " 'user': 'How can I find a reputable contractor to fix my roof?',\n",
      " 'user_translated': 'Как найти надежного подрядчика для ремонта крыши?'}\n",
      "{'bot': 'The entrance to the Hall of Patrons is flanked by twin fluted columns '\n",
      "        'carved of pure white marble. Atop each column, a solemn gargoyle '\n",
      "        'stands sentinel, head bowed in homage to the symbol of servitude '\n",
      "        'carved into the pediment above the entry doors. Massive stone steps '\n",
      "        \"lead into the Hall's outer courtyard.\",\n",
      " 'bot_translated': 'Вход в Зал Покровителей окружен двумя рифлеными колоннами, '\n",
      "                   'вырезанными из чистого белого мрамора. На вершине каждой '\n",
      "                   'колонны торжественная горгулья стоит на страже, склонив '\n",
      "                   'голову в знак уважения к символу рабства, вырезанному в '\n",
      "                   'фронтоне над входными дверями. Массивные каменные ступени '\n",
      "                   'ведут во внешний двор Зала.',\n",
      " 'user': 'Describe a majestic scene outside town with a gargoyle and pediment.',\n",
      " 'user_translated': 'Опишите величественную сцену за городом с горгульей и '\n",
      "                    'фронтоном.'}\n",
      "{'bot': 'To find a local business that sells the product you are looking for, '\n",
      "        'start by doing an online search. You can also check your phone book '\n",
      "        'or ask friends and family if they know of any businesses in your area '\n",
      "        'that sell the product. Additionally, you can use social media to '\n",
      "        'locate local businesses that may offer the product.',\n",
      " 'bot_translated': 'Чтобы найти местный бизнес, который продает продукт, '\n",
      "                   'который вы ищете, начните с онлайн-поиска. Вы также можете '\n",
      "                   'проверить свою телефонную книгу или спросить друзей и '\n",
      "                   'семью, знают ли они какие-либо предприятия в вашем районе, '\n",
      "                   'которые продают продукт.',\n",
      " 'user': 'How do I find a local business that sells a specific product?',\n",
      " 'user_translated': 'Как найти местный бизнес, который продает конкретный '\n",
      "                    'продукт?'}\n",
      "{'bot': 'Homosexual acts between consenting adults were not illegal in Italy '\n",
      "        'before unification.',\n",
      " 'bot_translated': 'Гомосексуальные акты между взрослыми по обоюдному согласию '\n",
      "                   'не были незаконными в Италии до объединения.',\n",
      " 'user': 'What was the legal status of homosexuality in Italy before '\n",
      "         'unification?',\n",
      " 'user_translated': 'Каков был правовой статус гомосексуализма в Италии до '\n",
      "                    'объединения?'}\n",
      "{'bot': 'I suggest you consider the Appalachian Trail, which is a 2,200 mile '\n",
      "        'long footpath that runs from Georgia to Maine. It has many scenic '\n",
      "        \"views and beautiful trails, making it perfect for your family's \"\n",
      "        'hiking adventure.',\n",
      " 'bot_translated': 'Я предлагаю вам рассмотреть Аппалачскую тропу, которая '\n",
      "                   'представляет собой пешеходную тропу длиной 2200 миль, '\n",
      "                   'которая проходит от Джорджии до Мэна. У нее много '\n",
      "                   'живописных видов и красивых троп, что делает ее идеальной '\n",
      "                   'для пеших приключений вашей семьи.',\n",
      " 'user': \"I'm looking for a good place to go hiking with my family.\",\n",
      " 'user_translated': 'Я ищу хорошее место, чтобы отправиться в поход со своей '\n",
      "                    'семьей.'}\n",
      "{'bot': 'Here is a Python code to index last number of values in arrays\\n'\n",
      "        '\\n'\n",
      "        'import numpy as np\\n'\n",
      "        '\\n'\n",
      "        'def last_index(array):\\n'\n",
      "        '        \"\"\"Returns the index of the last value in the array.\"\"\"\\n'\n",
      "        '        return len(array) - 1\\n'\n",
      "        '\\n'\n",
      "        '# Enter the array\\n'\n",
      "        'array = np.array([1, 2, 3, 4, 5])\\n'\n",
      "        '\\n'\n",
      "        '# Calling the function\\n'\n",
      "        'print((last_index(array)))\\n'\n",
      "        '\\n'\n",
      "        '#Remember to inspect code for bugs.',\n",
      " 'bot_translated': 'Вот код Python для индексации последнего числа значений в '\n",
      "                   'массивах import numpy as np def last_index(array): '\n",
      "                   '\"\"\"Возвращает индекс последнего значения в массиве.\"\"\" '\n",
      "                   'return len(array) - 1 # Введите array array = np.array([1, '\n",
      "                   '2, 3, 4, 5]) # Вызов функции print((last_index(array))) # '\n",
      "                   'Не забудьте проверить код на наличие ошибок.',\n",
      " 'user': 'Can you show me a Python code to index last number of values in '\n",
      "         'array.',\n",
      " 'user_translated': 'Можете ли вы показать мне код Python для индексации '\n",
      "                    'последнего числа значений в массиве.'}\n",
      "{'bot': 'It’s very hard to predict presidential elections, and the results '\n",
      "        'vary from year to year. At this point, the polls indicate that both '\n",
      "        'democrats and republicans have a good chance of winning in 2020. Keep '\n",
      "        'in mind that the election is still several months away, and the '\n",
      "        'results will ultimately depend on the candidates and the outcome of '\n",
      "        'the election campaign.',\n",
      " 'bot_translated': 'Очень трудно предсказать президентские выборы, и '\n",
      "                   'результаты меняются из года в год. На данный момент опросы '\n",
      "                   'показывают, что и демократы, и республиканцы имеют хорошие '\n",
      "                   'шансы на победу в 2020 году. Имейте в виду, что до выборов '\n",
      "                   'еще несколько месяцев, и результаты в конечном итоге будут '\n",
      "                   'зависеть от кандидатов и результатов избирательной '\n",
      "                   'кампании.',\n",
      " 'user': 'Will a republican or democrat be elected for president next?',\n",
      " 'user_translated': 'В следующий раз президентом будет избран республиканец '\n",
      "                    'или демократ?'}\n",
      "{'bot': 'That depends on the nature of the conversations and the frequency of '\n",
      "        'them. Would you mind telling me more about your relationship?',\n",
      " 'bot_translated': 'Это зависит от характера разговоров и их частоты. - Не '\n",
      "                   'могли бы вы рассказать мне больше о ваших отношениях?',\n",
      " 'user': 'Is it normal for my husband to be jealous when I talk to other men?',\n",
      " 'user_translated': 'Нормально ли, что мой муж ревнует, когда я общаюсь с '\n",
      "                    'другими мужчинами?'}\n",
      "{'bot': 'The most common cause of death in the United States is heart disease, '\n",
      "        'followed by cancer. Other common causes of death include stroke, '\n",
      "        'respiratory diseases, and diabetes.',\n",
      " 'bot_translated': 'Наиболее распространенной причиной смерти в Соединенных '\n",
      "                   'Штатах являются сердечные заболевания, за которыми следует '\n",
      "                   'рак.Другие распространенные причины смерти включают '\n",
      "                   'инсульт, респираторные заболевания и диабет.',\n",
      " 'user': \"What's the most common way people die?\",\n",
      " 'user_translated': 'Как чаще всего умирают люди?'}\n",
      "{'bot': 'Hundreds of bodies are heaped into the pit, all of them female. In '\n",
      "        'life, each would have been possessed of surpassing beauty. They lay '\n",
      "        'heaped atop one another like broken dolls, eyes clouded over. '\n",
      "        'Together, theirs is an unbearable stench of old blood, death, and '\n",
      "        'seething rot.',\n",
      " 'bot_translated': 'Сотни тел свалены в яму, все они женские. При жизни каждая '\n",
      "                   'из них обладала непревзойденной красотой. Они лежали, '\n",
      "                   'сложенные друг на друге, как сломанные куклы, с '\n",
      "                   'затуманенными глазами. Вместе у них невыносимый запах '\n",
      "                   'старой крови, смерти и кипящей гнили.',\n",
      " 'user': 'Generate for a eerie scene outside a town graveyard with bodies.',\n",
      " 'user_translated': 'Создайте жуткую сцену за пределами городского кладбища с '\n",
      "                    'телами.'}\n",
      "{'bot': '\\n'\n",
      "        '1. Networking with people who work in the music industry is one of '\n",
      "        'the best ways to find out about job openings and internships.\\n'\n",
      "        '2. Attending industry events, such as conferences or festivals, can '\n",
      "        'be a great way to meet people in the music industry and learn more '\n",
      "        'about their needs.\\n'\n",
      "        '3. Creating a portfolio showcasing your skills and experience can '\n",
      "        'help you stand out from other applicants.\\n'\n",
      "        '4. Searching online for open positions and applying directly through '\n",
      "        'companies can also be effective strategies.\\n'\n",
      "        '5. Reaching out to contacts in the music industry may lead to leads '\n",
      "        'on job opportunities.',\n",
      " 'bot_translated': '1. Общение с людьми, которые работают в музыкальной '\n",
      "                   'индустрии, является одним из лучших способов узнать о '\n",
      "                   'вакансиях и стажировках. 2. Посещение отраслевых '\n",
      "                   'мероприятий, таких как конференции или фестивали, может '\n",
      "                   'быть отличным способом познакомиться с людьми в '\n",
      "                   'музыкальной индустрии и узнать больше об их потребностях. '\n",
      "                   '3. Создание портфолио, демонстрирующего ваши навыки и '\n",
      "                   'опыт, может помочь вам выделиться среди других '\n",
      "                   'претендентов. 4. Поиск в Интернете открытых вакансий и '\n",
      "                   'подача заявки непосредственно через компании также могут '\n",
      "                   'быть эффективными стратегиями. 5. Обращение к контактам в '\n",
      "                   'музыкальной индустрии может привести к возможностям '\n",
      "                   'трудоустройства.',\n",
      " 'user': 'What are some good ways to get a job in the music industry?',\n",
      " 'user_translated': 'Каковы некоторые хорошие способы получить работу в '\n",
      "                    'музыкальной индустрии?'}\n",
      "{'bot': 'A gentle breeze whispers through this small space, lightly ruffling '\n",
      "        'the tendrils of the thick emerald green moss that covers the ground '\n",
      "        'like a rich velvet cloak. The canopy of leaves close in protectively '\n",
      "        'above, allowing only a small patch of night sky to be visible. '\n",
      "        'Emerging from the shadows, a masterfully carved totem in the image of '\n",
      "        'an antelope guards a fine-grained ash altar from any peril the '\n",
      "        'darkness may bring.',\n",
      " 'bot_translated': 'Нежный ветерок шепчет через это небольшое пространство, '\n",
      "                   'слегка взъерошивая усики густого изумрудно-зеленого мха, '\n",
      "                   'который покрывает землю, как богатый бархатный плащ. Навес '\n",
      "                   'из листьев защитно закрывается сверху, позволяя видеть '\n",
      "                   'только небольшой участок ночного неба. Выходя из тени, '\n",
      "                   'мастерски вырезанный тотем в виде антилопы охраняет '\n",
      "                   'мелкозернистый алтарь из ясеня от любой опасности, которую '\n",
      "                   'может принести темнота.',\n",
      " 'user': 'Please generate a brief description of a tribal scene outside a '\n",
      "         'forest with an altar, ash, and a totem.',\n",
      " 'user_translated': 'Пожалуйста, создайте краткое описание сцены племени за '\n",
      "                    'пределами леса с алтарем, пеплом и тотемом.'}\n",
      "{'bot': 'Here is some code to sort dictionary `d` by value in ascending order\\n'\n",
      "        '\\n'\n",
      "        'sorted(list(d.items()), key=(lambda x: x[1]))\\n'\n",
      "        '\\n'\n",
      "        '#Warning: this code generation is experimental. Please inspect the '\n",
      "        'code for any bugs before executing.',\n",
      " 'bot_translated': 'Вот некоторый код для сортировки словаря `d` по значению в '\n",
      "                   'возрастающем порядке sorted(list(d.items()), key=(lambda '\n",
      "                   'x: x[1])) #Предупреждение: генерация этого кода является '\n",
      "                   'экспериментальной.',\n",
      " 'user': 'Sort a Python dictionary by value',\n",
      " 'user_translated': 'Сортировать словарь Python по значению'}\n",
      "{'bot': 'The band that sings the song \"WTF\" is called Lazy Mutha Fucka.',\n",
      " 'bot_translated': 'Группа, которая поет песню \"WTF\", называется Lazy Mutha '\n",
      "                   'Fucka.',\n",
      " 'user': 'What is the name of the band that sings the song \"WTF\"?',\n",
      " 'user_translated': 'Как называется группа, которая поет песню \"WTF\"?'}\n",
      "{'bot': 'A great way to prepare a chicken for a dinner party is by marinating '\n",
      "        'it in your favorite flavorful sauce. You can also season the chicken '\n",
      "        'with herbs and spices of your choice before baking or grilling it. '\n",
      "        'Make sure to keep the skin intact, as this will add extra flavor and '\n",
      "        'crunch. Finally, consider serving the chicken with a side of '\n",
      "        'vegetables and a light salad for a complete meal.',\n",
      " 'bot_translated': 'Отличный способ приготовить курицу для званого ужина - '\n",
      "                   'замариновать ее в вашем любимом ароматном соусе. Вы также '\n",
      "                   'можете приправить курицу травами и специями по вашему '\n",
      "                   'выбору перед выпечкой или грилем. Убедитесь, что кожа не '\n",
      "                   'повреждена, так как это добавит дополнительный аромат и '\n",
      "                   'хруст. Наконец, подумайте о том, чтобы подать курицу с '\n",
      "                   'овощами и легким салатом для полноценного приема пищи.',\n",
      " 'user': 'What is a good way to prepare a chicken for a dinner party?',\n",
      " 'user_translated': 'Как правильно приготовить курицу для званого ужина?'}\n",
      "{'bot': 'Eczema is a skin condition characterized by itchiness, dryness, and '\n",
      "        'redness. Treatment of eczema typically involves using moisturizers '\n",
      "        'and topical corticosteroids to relieve itching and reduce '\n",
      "        'inflammation, along with avoiding triggers that cause flare-ups. It '\n",
      "        'is important to talk to your doctor to discuss the best treatment '\n",
      "        'plan for your particular case.',\n",
      " 'bot_translated': 'Экзема - это состояние кожи, характеризующееся зудом, '\n",
      "                   'сухостью и покраснением. Лечение экземы обычно включает в '\n",
      "                   'себя использование увлажняющих кремов и актуальных '\n",
      "                   'кортикостероидов для облегчения зуда и уменьшения '\n",
      "                   'воспаления, а также избегание триггеров, которые вызывают '\n",
      "                   'вспышки. Важно поговорить с вашим врачом, чтобы обсудить '\n",
      "                   'лучший план лечения для вашего конкретного случая.',\n",
      " 'user': 'What to do about eczema?',\n",
      " 'user_translated': 'Что делать при экземе?'}\n",
      "{'bot': 'Some popular ice cream flavors include vanilla, chocolate, '\n",
      "        'strawberry, and cookies & cream.',\n",
      " 'bot_translated': 'Некоторые популярные вкусы мороженого включают ваниль, '\n",
      "                   'шоколад, клубнику и печенье со сливками.',\n",
      " 'user': 'What are some good ice cream flavors?',\n",
      " 'user_translated': 'Какие есть вкусные сорта мороженого?'}\n",
      "{'bot': 'You could check their official website to see if they have a page '\n",
      "        'dedicated to them. Alternatively, you could search for their name in '\n",
      "        'the search bar of any popular social media platform.',\n",
      " 'bot_translated': 'Вы можете проверить их официальный сайт, чтобы узнать, '\n",
      "                   'есть ли у них страница, посвященная им. Кроме того, вы '\n",
      "                   'можете искать их имя в строке поиска любой популярной '\n",
      "                   'платформы социальных сетей.',\n",
      " 'user': 'How can I find out if my favorite actor is on social media?',\n",
      " 'user_translated': 'Как узнать, есть ли мой любимый актер в социальных сетях?'}\n",
      "{'bot': 'The best way to make homemade vegan ice cream is to start by blending '\n",
      "        'together one cup of your favorite non-dairy milk, 1/2 cup of sugar, '\n",
      "        'and a pinch of salt. Then add in 2 tablespoons of cocoa powder or '\n",
      "        'carob powder for flavor. Next, blend in 1 tablespoon of vanilla '\n",
      "        'extract and 1/4 teaspoon of almond extract. Finally, stir in two '\n",
      "        'tablespoons of cornstarch and three tablespoons of coconut oil until '\n",
      "        'it forms a thick paste. Pour the mixture into an ice cube tray and '\n",
      "        'freeze for at least 4 hours. Once frozen, you can transfer the cubes '\n",
      "        'to a blender and blend until smooth. Enjoy!',\n",
      " 'bot_translated': 'Лучший способ приготовить домашнее веганское мороженое - '\n",
      "                   'это начать с смешивания одной чашки вашего любимого '\n",
      "                   'немолочного молока, 1/2 чашки сахара и щепотки соли. Затем '\n",
      "                   'добавьте 2 столовые ложки какао-порошка или порошка '\n",
      "                   'рожкового дерева для вкуса. Затем смешайте 1 столовую '\n",
      "                   'ложку ванильного экстракта и 1/4 чайной ложки миндального '\n",
      "                   'экстракта. Наконец, размешайте две столовые ложки '\n",
      "                   'кукурузного крахмала и три столовые ложки кокосового '\n",
      "                   'масла, пока не образуется густая паста. Налейте смесь в '\n",
      "                   'лоток для кубиков льда и заморозьте не менее 4 часов. '\n",
      "                   'После замораживания вы можете перенести кубики в блендер и '\n",
      "                   'перемешать до однородности. Наслаждайтесь!',\n",
      " 'user': 'What is the best way to make homemade vegan ice cream?',\n",
      " 'user_translated': 'Как лучше всего приготовить домашнее веганское мороженое?'}\n",
      "{'bot': 'The risks of sailing solo include the dangers of weather, navigation '\n",
      "        'errors, equipment malfunction, and marine life encounters. Distress '\n",
      "        'calls and delays in reaching help in case of an emergency can also be '\n",
      "        'a major risk of sailing solo. Additionally, if the sailor falls ill '\n",
      "        'or loses consciousness on board, there is no one else to help them '\n",
      "        'navigate.',\n",
      " 'bot_translated': 'Риски одиночного плавания включают в себя опасности, '\n",
      "                   'связанные с погодой, навигационными ошибками, '\n",
      "                   'неисправностью оборудования и встречами с морской флорой и '\n",
      "                   'фауной. Сигналы бедствия и задержки в получении помощи в '\n",
      "                   'случае чрезвычайной ситуации также могут быть основным '\n",
      "                   'риском одиночного плавания. Кроме того, если моряк '\n",
      "                   'заболевает или теряет сознание на борту, никто другой не '\n",
      "                   'поможет ему сориентироваться.',\n",
      " 'user': 'What are the risks of sailing solo?',\n",
      " 'user_translated': 'Каковы риски одиночного плавания?'}\n",
      "{'bot': 'Singapore was a British colony because the British needed to control '\n",
      "        'the opium trade. In the 1800s, opium was a very popular drug in '\n",
      "        \"China. The Chinese government didn't want the British to sell opium, \"\n",
      "        'so they taxed it. But the British were selling it anyway, so the '\n",
      "        'Chinese government tried to stop them. The British needed to get rid '\n",
      "        'of the opium, so they made a deal with the Chinese government: they '\n",
      "        'would pay the Chinese government to stop selling opium in exchange '\n",
      "        'for control of the opium trade.',\n",
      " 'bot_translated': 'Сингапур был британской колонией, потому что британцам '\n",
      "                   'нужно было контролировать торговлю опиумом. В 1800-х годах '\n",
      "                   'опиум был очень популярным наркотиком в Китае. Китайское '\n",
      "                   'правительство не хотело, чтобы британцы продавали опиум, '\n",
      "                   'поэтому они облагали его налогом. Но британцы все равно '\n",
      "                   'продавали его, поэтому китайское правительство пыталось '\n",
      "                   'остановить их. Британцам нужно было избавиться от опиума, '\n",
      "                   'поэтому они заключили сделку с китайским правительством: '\n",
      "                   'они заплатят китайскому правительству, чтобы прекратить '\n",
      "                   'продажу опиума в обмен на контроль над торговлей опиумом.',\n",
      " 'user': 'Why was Singapore a British colony?',\n",
      " 'user_translated': 'Почему Сингапур был британской колонией?'}\n",
      "{'bot': 'Boris Yeltsin resigned in 1999 because of a conflict with the '\n",
      "        'parliament. He wanted to be reelected as president, but the '\n",
      "        'parliament refused to allow him to run again. The Russian parliament '\n",
      "        'is the Federal Assembly, and it is a unicameral body, which means '\n",
      "        'that it has only one chamber. The Federal Assembly is elected by the '\n",
      "        'people of Russia, and it has more power than the president.',\n",
      " 'bot_translated': 'Борис Ельцин ушел в отставку в 1999 году из-за конфликта с '\n",
      "                   'парламентом. Он хотел быть переизбранным на пост '\n",
      "                   'президента, но парламент отказался позволить ему '\n",
      "                   'баллотироваться снова. Российский парламент - это '\n",
      "                   'Федеральное собрание, и это однопалатный орган, что '\n",
      "                   'означает, что у него есть только одна палата. Федеральное '\n",
      "                   'собрание избирается народом России, и оно имеет больше '\n",
      "                   'власти, чем президент.',\n",
      " 'user': 'Why did Boris Yeltsin resign as president of Russia?',\n",
      " 'user_translated': 'Почему Борис Ельцин ушел с поста президента России?'}\n",
      "{'bot': 'It depends on your preference and the type of shoe. Some people like '\n",
      "        'using a thin, comfortable sock liner in their running shoes for added '\n",
      "        'cushioning and support. Others prefer to wear thicker socks or no '\n",
      "        \"socks at all. Ultimately, it's up to you to decide which is best for \"\n",
      "        'you.',\n",
      " 'bot_translated': 'Это зависит от ваших предпочтений и типа обуви. Некоторым '\n",
      "                   'людям нравится использовать тонкий, удобный вкладыш для '\n",
      "                   'носков в своих кроссовках для дополнительной амортизации и '\n",
      "                   'поддержки. Другие предпочитают носить более толстые носки '\n",
      "                   'или вообще не носить носки. В конечном счете, вам решать, '\n",
      "                   'что лучше для вас.',\n",
      " 'user': 'Is it ok to use a sock liner in my running shoes?',\n",
      " 'user_translated': 'Можно ли использовать прокладку для носков в моих '\n",
      "                    'кроссовках для бега?'}\n",
      "{'bot': 'Yes, it is generally considered safe to eat a lot of fried food. '\n",
      "        'Fried foods are typically cooked at high temperatures and can be '\n",
      "        'prepared in a variety of ways that help reduce the risk of '\n",
      "        'contamination. Additionally, frying tends to kill bacteria more '\n",
      "        'effectively than other cooking methods, so it is generally safer to '\n",
      "        'eat a lot of fried food than raw or undercooked meats.',\n",
      " 'bot_translated': 'Да, обычно считается безопасным есть много жареной пищи. '\n",
      "                   'Жареная пища обычно готовится при высоких температурах и '\n",
      "                   'может быть приготовлена различными способами, которые '\n",
      "                   'помогают снизить риск заражения. Кроме того, жарка, как '\n",
      "                   'правило, убивает бактерии более эффективно, чем другие '\n",
      "                   'методы приготовления, поэтому, как правило, безопаснее '\n",
      "                   'есть много жареной пищи, чем сырое или недоваренное мясо.',\n",
      " 'user': 'Is it safe to eat a lot of fried food?',\n",
      " 'user_translated': 'Безопасно ли есть много жареной пищи?'}\n",
      "{'bot': 'The title comes from the four main female characters in the book: '\n",
      "        'Meg, Jo, Beth, and Amy. Little Women is a novel about the lives of '\n",
      "        'four sisters growing up in Civil War era New England. It was written '\n",
      "        'by Louisa May Alcott, and was published in 1868.',\n",
      " 'bot_translated': 'Название происходит от четырех главных женских персонажей '\n",
      "                   'в книге: Мэг, Джо, Бет и Эми. \"Маленькие женщины\" - это '\n",
      "                   'роман о жизни четырех сестер, растущих в эпоху Гражданской '\n",
      "                   'войны в Новой Англии. Он был написан Луизой Мэй Олкотт и '\n",
      "                   'был опубликован в 1868 году.',\n",
      " 'user': 'Where does the title ‘Little Women’ come from?',\n",
      " 'user_translated': 'Откуда взялось название \"Маленькие женщины\"?'}\n",
      "{'bot': 'There were 51 countries that were members of the League of Nations. '\n",
      "        'The League of Nations was a international organization that was '\n",
      "        'created after World War I to promote peace and security. The League '\n",
      "        'of Nations was a precursor to the United Nations.',\n",
      " 'bot_translated': 'Членами Лиги Наций были 51 страна.Лига Наций была '\n",
      "                   'международной организацией, которая была создана после '\n",
      "                   'Первой мировой войны для содействия миру и '\n",
      "                   'безопасности.Лига Наций была предшественницей Организации '\n",
      "                   'Объединенных Наций.',\n",
      " 'user': 'How many countries were members of the League of Nations?',\n",
      " 'user_translated': 'Сколько стран входило в Лигу Наций?'}\n",
      "{'bot': 'The daunting austerity of this large chamber seems to demand quiet '\n",
      "        'and civility. A large, golden-edged kite shield bearing the House '\n",
      "        'coat-of-arms is fixed to the wall immediately behind a large '\n",
      "        'silver-grey full moon table surrounded by some high-backed polished '\n",
      "        'leather chairs. Two rows of long oak benches line the walls. A '\n",
      "        'polished gold chandelier hangs from the center of the vaulted ceiling '\n",
      "        'which arcs high overhead in a circular dome supported by curved '\n",
      "        'white-washed beams.',\n",
      " 'bot_translated': 'Пугающая строгость этой большой палаты, кажется, требует '\n",
      "                   'тишины и вежливости. Большой щит из воздушного змея с '\n",
      "                   'золотыми краями, на котором изображен герб Палаты '\n",
      "                   'представителей, прикреплен к стене сразу за большим '\n",
      "                   'серебристо-серым столом в полнолуние, окруженным '\n",
      "                   'несколькими полированными кожаными стульями с высокими '\n",
      "                   'спинками. Два ряда длинных дубовых скамеек выстилают '\n",
      "                   'стены. Полированная золотая люстра свисает из центра '\n",
      "                   'сводчатого потолка, который дует высоко над головой в '\n",
      "                   'круглом куполе, поддерживаемом изогнутыми побеленными '\n",
      "                   'балками.',\n",
      " 'user': 'Make a patriotic scene inside a mansion with chairs, a moon table, '\n",
      "         'and a chandelier.',\n",
      " 'user_translated': 'Сделайте патриотическую сцену в особняке со стульями, '\n",
      "                    'лунным столом и люстрой.'}\n",
      "{'bot': 'The benefits of a hypnotist include increased relaxation, improved '\n",
      "        'focus and concentration, enhanced self-confidence, better '\n",
      "        'communication skills, improved problem solving abilities, reduced '\n",
      "        'anxiety, pain relief, and improved memory.',\n",
      " 'bot_translated': 'Преимущества гипнотизера включают повышенное расслабление, '\n",
      "                   'улучшение внимания и концентрации, повышение уверенности в '\n",
      "                   'себе, улучшение навыков общения, улучшение способности '\n",
      "                   'решать проблемы, снижение тревоги, облегчение боли и '\n",
      "                   'улучшение памяти.',\n",
      " 'user': 'What are the benefits of a hypnotist?',\n",
      " 'user_translated': 'Каковы преимущества гипнотизера?'}\n",
      "{'bot': 'Overlapping layers of charred foliage lead up to a gypsy camp, the '\n",
      "        'path highlighted by strings of half-melted candles hanging from '\n",
      "        'skeletal black willow trees lining the entrance. Shields of various '\n",
      "        'shapes lean against the trunks of the willows, painted with '\n",
      "        'dirt-covered sanguine symbols, several of which have been gouged and '\n",
      "        'left incomprehensible. The distinct sounds of crunching echo down the '\n",
      "        'clay-packed pathway.',\n",
      " 'bot_translated': 'Пересекающиеся слои обгоревшей листвы ведут к цыганскому '\n",
      "                   'лагерю, путь подсвечен нитями полурасплавленных свечей, '\n",
      "                   'свисающих со скелетных черных ив, выстилающих вход. Щиты '\n",
      "                   'различных форм опираются на стволы ив, окрашенные грязью, '\n",
      "                   'покрытой символами сангины, некоторые из которых были '\n",
      "                   'выдолблены и оставлены непонятными. Отличительные звуки '\n",
      "                   'хруста эхом разлетаются по глиняной дорожке.',\n",
      " 'user': 'Write a detailed description of a spooky scene outside a gypsy camp '\n",
      "         'with candles, willows, and sanguine symbols.',\n",
      " 'user_translated': 'Напишите подробное описание жуткой сцены за пределами '\n",
      "                    'цыганского лагеря со свечами, ивами и символами '\n",
      "                    'сангвиников.'}\n",
      "{'bot': 'The French New Wave directors used close-ups to show the emotions of '\n",
      "        'the characters. In the 1950s, when the French New Wave was created, '\n",
      "        'the medium of film was much more intimate than it is today. The '\n",
      "        \"directors wanted to show the audience the characters' inner thoughts \"\n",
      "        'and feelings, and they believed that close-ups were the best way to '\n",
      "        'do this.',\n",
      " 'bot_translated': 'Режиссеры французской новой волны использовали крупные '\n",
      "                   'планы, чтобы показать эмоции персонажей. В 1950-х годах, '\n",
      "                   'когда была создана французская новая волна, кино было '\n",
      "                   'гораздо более интимным, чем сегодня. Режиссеры хотели '\n",
      "                   'показать зрителям внутренние мысли и чувства персонажей, и '\n",
      "                   'они считали, что крупные планы - лучший способ сделать '\n",
      "                   'это.',\n",
      " 'user': 'Why did the French New Wave directors use so many close-ups?',\n",
      " 'user_translated': 'Почему режиссеры французской новой волны использовали так '\n",
      "                    'много крупных планов?'}\n",
      "{'bot': 'When a computer is a black box, we say that we don’t know how it '\n",
      "        'works, or what it is made of. This is similar to the way we use a '\n",
      "        'thermostat to heat our home. We don’t know how the thermostat works, '\n",
      "        'but we know that it will turn on the furnace when the temperature '\n",
      "        'drops below a certain point and turn off the furnace when it gets too '\n",
      "        'hot.',\n",
      " 'bot_translated': 'Когда компьютер - это черный ящик, мы говорим, что не '\n",
      "                   'знаем, как он работает или из чего он сделан. Это похоже '\n",
      "                   'на то, как мы используем термостат для обогрева нашего '\n",
      "                   'дома. Мы не знаем, как работает термостат, но мы знаем, '\n",
      "                   'что он включит печь, когда температура упадет ниже '\n",
      "                   'определенной точки, и выключит печь, когда она станет '\n",
      "                   'слишком горячей.',\n",
      " 'user': 'When you say that a computer is a “black box”, what do you mean?',\n",
      " 'user_translated': 'Когда вы говорите, что компьютер - это \"черный ящик\", что '\n",
      "                    'вы имеете в виду?'}\n",
      "{'bot': 'One of the best ways to budget your money better is to make a budget '\n",
      "        'and track your spending. Start by writing down all your sources of '\n",
      "        'income and all your expenses. Go over each item closely to determine '\n",
      "        'what you can cut back on. Prioritize the things that need to be paid '\n",
      "        'first, such as rent and utilities, and try to make sure you’re '\n",
      "        'setting aside some money for savings. Additionally, setting spending '\n",
      "        'limits for yourself can help you stay on track. Finally, regularly '\n",
      "        'review your budget to make sure you are staying within your budgeting '\n",
      "        'goals.',\n",
      " 'bot_translated': 'Один из лучших способов лучше планировать свои деньги - '\n",
      "                   'это составить бюджет и отслеживать свои расходы. Начните с '\n",
      "                   'того, что запишите все свои источники дохода и все свои '\n",
      "                   'расходы. Внимательно просмотрите каждый пункт, чтобы '\n",
      "                   'определить, что вы можете сократить. Расставьте приоритеты '\n",
      "                   'по вещам, которые должны быть оплачены в первую очередь, '\n",
      "                   'таким как аренда и коммунальные услуги, и постарайтесь '\n",
      "                   'убедиться, что вы откладываете деньги на сбережения. Кроме '\n",
      "                   'того, установка лимитов расходов для себя может помочь вам '\n",
      "                   'оставаться на ходу. Наконец, регулярно пересматривайте '\n",
      "                   'свой бюджет, чтобы убедиться, что вы остаетесь в рамках '\n",
      "                   'своих целей бюджетирования.',\n",
      " 'user': 'I need to learn how to budget my money better. What advice can you '\n",
      "         'give me?',\n",
      " 'user_translated': 'Мне нужно научиться лучше планировать свои деньги. Какой '\n",
      "                    'совет вы можете мне дать?'}\n",
      "{'bot': \"A large granite boulder, apparently fallen from the mountain's craggy \"\n",
      "        'cliffs in some distant age, lies beside the cobblestoned road. '\n",
      "        'Surrounded by a thick stand of monir trees, the boulder provides a '\n",
      "        'convenient resting place for travellers, and a brief respite from the '\n",
      "        'rigors of the journey.',\n",
      " 'bot_translated': 'Большой гранитный валун, по-видимому, упавший с скалистых '\n",
      "                   'утесов горы в какой-то далекой эпохе, лежит рядом с '\n",
      "                   'мощёной дорогой. Окружённый густой рощей деревьев монир, '\n",
      "                   'валун обеспечивает удобное место отдыха для '\n",
      "                   'путешественников и краткую передышку от тягот путешествия.',\n",
      " 'user': 'Produce a detailed written description of a serene scene outside a '\n",
      "         'mountain road with monir trees and a boulder.',\n",
      " 'user_translated': 'Составьте подробное письменное описание безмятежной сцены '\n",
      "                    'за пределами горной дороги с деревьями монир и валуном.'}\n",
      "{'bot': 'The primary benefit of using an online fax service is that it can '\n",
      "        'provide a more secure and reliable way to transmit documents. This '\n",
      "        'means that your confidential information will be kept safe from '\n",
      "        'unauthorized access, as well as being delivered quickly and '\n",
      "        'accurately. Additionally, many online fax services offer additional '\n",
      "        'features such as the ability to track the progress of each fax, as '\n",
      "        'well as the option to store documents for future reference.',\n",
      " 'bot_translated': 'Основное преимущество использования онлайн-сервиса '\n",
      "                   'факсимильной связи заключается в том, что он может '\n",
      "                   'обеспечить более безопасный и надежный способ передачи '\n",
      "                   'документов. Это означает, что ваша конфиденциальная '\n",
      "                   'информация будет защищена от несанкционированного доступа, '\n",
      "                   'а также будет доставлена быстро и точно. Кроме того, '\n",
      "                   'многие онлайн-сервисы факсимильной связи предлагают '\n",
      "                   'дополнительные функции, такие как возможность отслеживать '\n",
      "                   'прогресс каждого факса, а также возможность хранить '\n",
      "                   'документы для дальнейшего использования.',\n",
      " 'user': 'What are the benefits of using an online fax service?',\n",
      " 'user_translated': 'Каковы преимущества использования онлайн-сервиса '\n",
      "                    'факсимильной связи?'}\n",
      "{'bot': 'How much does labor cost? ** Labor cost is .5*60=<<.5*60=30>>30 '\n",
      "        'dollars per hour\\n'\n",
      "        'How much do the parts cost? ** The cost for parts is '\n",
      "        '20*2=$<<20*2=40>>40\\n'\n",
      "        'How much does the mechanic cost? ** The total cost for labor is '\n",
      "        '220-40=$<<220-40=180>>180\\n'\n",
      "        'How many hours did the mechanic work? ** He spent '\n",
      "        '180/30=<<180/30=6>>6 hours on labor.\\n'\n",
      "        '#### 6',\n",
      " 'bot_translated': 'Сколько стоит рабочая сила? ** Стоимость рабочей силы '\n",
      "                   'составляет.5*60=<<.5*60=30>>30 долларов в час Сколько '\n",
      "                   'стоят детали? ** Стоимость деталей составляет '\n",
      "                   '20*2=$<<20*2=40>>40 Сколько стоит механик? ** Общая '\n",
      "                   'стоимость рабочей силы составляет '\n",
      "                   '220-40=$<<220-40=180>>180 Сколько часов работал механик? '\n",
      "                   '** Он потратил 180/30=<<180/30=6>>6 часов на рабочую силу. '\n",
      "                   '#### 6',\n",
      " 'user': 'Mark spent 220 dollars to fix his car. It needed two parts that cost '\n",
      "         '20 dollars each, and labor cost .5 dollars a minute. How many hours '\n",
      "         'did the mechanic work?',\n",
      " 'user_translated': 'Марк потратил 220 долларов, чтобы починить свою машину. '\n",
      "                    'Потребовалось две детали, каждая из которых стоила 20 '\n",
      "                    'долларов, а стоимость рабочей силы составляла 0,5 доллара '\n",
      "                    'в минуту. Сколько часов работал механик?'}\n"
     ]
    }
   ],
   "source": [
    "import pprint\n",
    "\n",
    "for i, thread in enumerate(data):\n",
    "    pprint.pprint(thread)\n",
    "    if i > 100:\n",
    "        break\n",
    "# len(data)"
   ]
  },
  {
   "attachments": {},
   "cell_type": "markdown",
   "metadata": {},
   "source": [
    "## dolly translated"
   ]
  },
  {
   "cell_type": "code",
   "execution_count": 75,
   "metadata": {},
   "outputs": [],
   "source": [
    "import pandas as pd\n",
    "\n",
    "data = pd.read_json(path_or_buf=\"../datasets/dolly_translated/dolly_translated_v3.json\")"
   ]
  },
  {
   "cell_type": "code",
   "execution_count": 76,
   "metadata": {},
   "outputs": [
    {
     "data": {
      "text/html": [
       "<div>\n",
       "<style scoped>\n",
       "    .dataframe tbody tr th:only-of-type {\n",
       "        vertical-align: middle;\n",
       "    }\n",
       "\n",
       "    .dataframe tbody tr th {\n",
       "        vertical-align: top;\n",
       "    }\n",
       "\n",
       "    .dataframe thead th {\n",
       "        text-align: right;\n",
       "    }\n",
       "</style>\n",
       "<table border=\"1\" class=\"dataframe\">\n",
       "  <thead>\n",
       "    <tr style=\"text-align: right;\">\n",
       "      <th></th>\n",
       "      <th>instruction</th>\n",
       "      <th>context</th>\n",
       "      <th>response</th>\n",
       "      <th>category</th>\n",
       "      <th>context_translated</th>\n",
       "      <th>instruction_translated</th>\n",
       "      <th>response_translated</th>\n",
       "    </tr>\n",
       "  </thead>\n",
       "  <tbody>\n",
       "    <tr>\n",
       "      <th>0</th>\n",
       "      <td>When did Virgin Australia start operating?</td>\n",
       "      <td>Virgin Australia, the trading name of Virgin A...</td>\n",
       "      <td>Virgin Australia commenced services on 31 Augu...</td>\n",
       "      <td>closed_qa</td>\n",
       "      <td>Virgin Australia, торговое название Virgin Aus...</td>\n",
       "      <td>Когда Virgin Australia начала работать?</td>\n",
       "      <td>Virgin Australia начала полеты 31 августа 2000...</td>\n",
       "    </tr>\n",
       "    <tr>\n",
       "      <th>1</th>\n",
       "      <td>Which is a species of fish? Tope or Rope</td>\n",
       "      <td></td>\n",
       "      <td>Tope</td>\n",
       "      <td>classification</td>\n",
       "      <td></td>\n",
       "      <td>Что это за вид рыбы? Tope или Rope</td>\n",
       "      <td>Топик</td>\n",
       "    </tr>\n",
       "    <tr>\n",
       "      <th>2</th>\n",
       "      <td>Why can camels survive for long without water?</td>\n",
       "      <td></td>\n",
       "      <td>Camels use the fat in their humps to keep them...</td>\n",
       "      <td>open_qa</td>\n",
       "      <td></td>\n",
       "      <td>Почему верблюды могут долго обходиться без воды?</td>\n",
       "      <td>Верблюды используют жир в своих горбах, чтобы ...</td>\n",
       "    </tr>\n",
       "    <tr>\n",
       "      <th>3</th>\n",
       "      <td>Alice's parents have three daughters: Amy, Jes...</td>\n",
       "      <td></td>\n",
       "      <td>The name of the third daughter is Alice</td>\n",
       "      <td>open_qa</td>\n",
       "      <td></td>\n",
       "      <td>У родителей Элис три дочери: Эми, Джесси, и ка...</td>\n",
       "      <td>Имя третьей дочери - Алиса</td>\n",
       "    </tr>\n",
       "    <tr>\n",
       "      <th>4</th>\n",
       "      <td>When was Tomoaki Komorida born?</td>\n",
       "      <td>Komorida was born in Kumamoto Prefecture on Ju...</td>\n",
       "      <td>Tomoaki Komorida was born on July 10,1981.</td>\n",
       "      <td>closed_qa</td>\n",
       "      <td>Коморида родился в префектуре Кумамото 10 июля...</td>\n",
       "      <td>Когда родился Томоаки Коморида?</td>\n",
       "      <td>Томоаки Коморида родился 10 июля 1981 года.</td>\n",
       "    </tr>\n",
       "  </tbody>\n",
       "</table>\n",
       "</div>"
      ],
      "text/plain": [
       "                                         instruction   \n",
       "0         When did Virgin Australia start operating?  \\\n",
       "1           Which is a species of fish? Tope or Rope   \n",
       "2     Why can camels survive for long without water?   \n",
       "3  Alice's parents have three daughters: Amy, Jes...   \n",
       "4                    When was Tomoaki Komorida born?   \n",
       "\n",
       "                                             context   \n",
       "0  Virgin Australia, the trading name of Virgin A...  \\\n",
       "1                                                      \n",
       "2                                                      \n",
       "3                                                      \n",
       "4  Komorida was born in Kumamoto Prefecture on Ju...   \n",
       "\n",
       "                                            response        category   \n",
       "0  Virgin Australia commenced services on 31 Augu...       closed_qa  \\\n",
       "1                                               Tope  classification   \n",
       "2  Camels use the fat in their humps to keep them...         open_qa   \n",
       "3            The name of the third daughter is Alice         open_qa   \n",
       "4         Tomoaki Komorida was born on July 10,1981.       closed_qa   \n",
       "\n",
       "                                  context_translated   \n",
       "0  Virgin Australia, торговое название Virgin Aus...  \\\n",
       "1                                                      \n",
       "2                                                      \n",
       "3                                                      \n",
       "4  Коморида родился в префектуре Кумамото 10 июля...   \n",
       "\n",
       "                              instruction_translated   \n",
       "0            Когда Virgin Australia начала работать?  \\\n",
       "1                 Что это за вид рыбы? Tope или Rope   \n",
       "2   Почему верблюды могут долго обходиться без воды?   \n",
       "3  У родителей Элис три дочери: Эми, Джесси, и ка...   \n",
       "4                    Когда родился Томоаки Коморида?   \n",
       "\n",
       "                                 response_translated  \n",
       "0  Virgin Australia начала полеты 31 августа 2000...  \n",
       "1                                              Топик  \n",
       "2  Верблюды используют жир в своих горбах, чтобы ...  \n",
       "3                         Имя третьей дочери - Алиса  \n",
       "4        Томоаки Коморида родился 10 июля 1981 года.  "
      ]
     },
     "execution_count": 76,
     "metadata": {},
     "output_type": "execute_result"
    }
   ],
   "source": [
    "data.head(5)"
   ]
  },
  {
   "cell_type": "code",
   "execution_count": 108,
   "metadata": {},
   "outputs": [],
   "source": [
    "dolly_augumented = []\n",
    "bot_human_prefix = \"\\nHuman:\\n\"\n",
    "bot_assistant_prefix = \"\\nAssistant:\\n\"\n",
    "\n",
    "for i in range(len(data)):\n",
    "    # context = data.iloc[i]['context_translated']\n",
    "    # instruction = data.iloc[i]['instruction_translated']\n",
    "    # response = data.iloc[i]['response_translated']\n",
    "    context = data.iloc[i][\"context\"]\n",
    "    instruction = data.iloc[i][\"instruction\"]\n",
    "    response = data.iloc[i][\"response\"]\n",
    "\n",
    "    if context.strip() != \"\":\n",
    "        prompt = (\n",
    "            f\"{bot_human_prefix}{context} {instruction}{bot_assistant_prefix}{response}\"\n",
    "        )\n",
    "        dolly_augumented.append(prompt)\n",
    "        prompt = (\n",
    "            f\"{bot_human_prefix}{instruction} {context}{bot_assistant_prefix}{response}\"\n",
    "        )\n",
    "        dolly_augumented.append(prompt)\n",
    "    else:\n",
    "        prompt = f\"{bot_human_prefix}{instruction}{bot_assistant_prefix}{response}\"\n",
    "        dolly_augumented.append(prompt)"
   ]
  },
  {
   "cell_type": "code",
   "execution_count": 109,
   "metadata": {},
   "outputs": [
    {
     "name": "stdout",
     "output_type": "stream",
     "text": [
      "\n",
      "Human:\n",
      "Given a reference text about Run Towards the Danger, tell me how many essays are part of the collection. Run Towards the Danger is a 2022 Canadian essay collection by Sarah Polley, a former child star, director, and screenwriter.\n",
      "\n",
      "The six essays in the collection examine aspects of Polley's career on stage, screen, and on film detailing her roles in a Stratford Festival production of Alice Through the Looking Glass, as well as her breakout roles in The Adventures of Baron Munchausen and the TV series Road to Avonlea. The book also revealed for the first time that Polley had been a victim of Jian Ghomeshi who sexually and physically assaulted her when she was 16 and he was 28.\n",
      "Assistant:\n",
      "Six essays are part of the Run Towards the Danger essay collection.\n"
     ]
    }
   ],
   "source": [
    "print(dolly_augumented[201])"
   ]
  },
  {
   "cell_type": "code",
   "execution_count": 91,
   "metadata": {},
   "outputs": [
    {
     "data": {
      "text/plain": [
       "19238"
      ]
     },
     "execution_count": 91,
     "metadata": {},
     "output_type": "execute_result"
    }
   ],
   "source": [
    "len(dolly_augumented)"
   ]
  },
  {
   "cell_type": "code",
   "execution_count": 110,
   "metadata": {},
   "outputs": [],
   "source": [
    "import json\n",
    "\n",
    "with open(\"../datasets/dolly_translated/dolly_original_augumented_v2.json\", \"w\") as f:\n",
    "    # with open(\"../datasets/dolly_translated/dolly_translated_augumented_v2.json\", \"w\") as f:\n",
    "    json.dump(dolly_augumented, f)"
   ]
  },
  {
   "attachments": {},
   "cell_type": "markdown",
   "metadata": {},
   "source": [
    "### read datasets"
   ]
  },
  {
   "cell_type": "code",
   "execution_count": 132,
   "metadata": {},
   "outputs": [
    {
     "name": "stdout",
     "output_type": "stream",
     "text": [
      "\n",
      "Human:\n",
      "Во время одиночной кампании игрок управляет пятью различными персонажами с точки зрения от первого лица. Игрок в первую очередь управляет сержантом Гэри \"Роучем\" Сандерсоном, британским членом международного подразделения специального назначения под названием Task Force 141. В дополнение к Роучу игрок также возьмет на себя управление рядовым первого класса Джозефом Алленом (Трой Бейкер) и рядовым Джеймсом Рамиресом из 1-го батальона / 75-го полка рейнджеров армии США. Нынешний капитан Джон \"Соап\" Мактавиш (Кевин Маккидд) служит старшим членом Целевой группы 141, выступая в качестве старшего офицера Роуча и становится игровым персонажем в последних трех миссиях игры. Наконец, игрок кратко берет на себя роль астронавта, размещенного на Международной космической станции в разгар войны между Соединенными Штатами и Россией.\n",
      "\n",
      "Неигровые персонажи игры (NPC) занимают видное место в истории: для Целевой группы 141 лейтенант Саймон \"Призрак\" Райли (Крейг Фэйрбрасс), который скрывает свое лицо с балаклавой с отпечатком черепа, служит вторым командиром Соапа. Для рейнджеров армии США сержант Фоли (Кит Дэвид) вместе со своим подчиненным, капралом Данном (Барри Пеппер), изначально является командиром отряда Джозефа Аллена и становится командиром отряда Джеймса Рамиреса позже в истории. Генерал-лейтенант Шеферд (Лэнс Хенриксен) является командиром рейнджеров армии США и Целевой группы 141. Другие второстепенные персонажи, вернувшиеся из Call of Duty 4, включают капитана Джона Прайса (Билли Мюррей), бывшего командира МакТавиша в британской специальной воздушной службе, который был заключен в тюрьму в России, и российского информатора, ставшего пилотом-наемником \"Николаем\" (Свен Холмберг). Учитывая этот абзац, извлеките список имен, которые могут быть воспроизведены пользователем этой игры.\n",
      "Assistant:\n",
      "Сержант Гэри \"Роуч\" Сандерсон\n",
      "2.Джозеф Аллен\n",
      "3. Джеймс Рамирес\n",
      "4. Джон \"Соуп\" МакТавиш\n",
      "5. Безымянный астронавт\n"
     ]
    }
   ],
   "source": [
    "import json\n",
    "\n",
    "# pd.read_json(path_or_buf=\"../datasets/dolly_translated/dolly_translated_augumented.json\")\n",
    "with open(\"../datasets/dolly_translated/dolly_translated_augumented_v2.json\") as f:\n",
    "    # with open(\"../datasets/dolly_translated/dolly_original_augumented_v2.json\") as f:\n",
    "    dolly_translated_augumented = json.load(f)\n",
    "print(dolly_translated_augumented[1000])"
   ]
  },
  {
   "cell_type": "code",
   "execution_count": 113,
   "metadata": {},
   "outputs": [
    {
     "data": {
      "text/plain": [
       "user               Describe the location where you find yourself ...\n",
       "bot                Sturdy rectory tables and low benches offer a ...\n",
       "user_translated    Опишите место, где вы оказываетесь в безмятежн...\n",
       "bot_translated     Прочные приходские столы и низкие скамейки пре...\n",
       "Name: 1, dtype: object"
      ]
     },
     "execution_count": 113,
     "metadata": {},
     "output_type": "execute_result"
    }
   ],
   "source": [
    "import pandas as pd\n",
    "\n",
    "chip2_instruct_alpha_all_translated = pd.read_json(\n",
    "    path_or_buf=\"../datasets/chip2_instruct_alpha/chip2_instruct_alpha_all_translated_v2.json\"\n",
    ")\n",
    "\n",
    "chip2_instruct_alpha_all_translated.iloc[1]"
   ]
  },
  {
   "cell_type": "code",
   "execution_count": 124,
   "metadata": {},
   "outputs": [
    {
     "data": {
      "text/plain": [
       "[{'message_id': '7cce4047-8f87-42c4-9d75-a590c02be5b1',\n",
       "  'message': 'Я хочу начать заниматься астрофотографией как хобби, какие-либо предложения, что я могу сделать?',\n",
       "  'role': 'prompter'},\n",
       " {'message_id': '19cb94ab-d6ab-4dbd-b408-70ffbd9b595c',\n",
       "  'message': 'Начало работы в астрофотографии может показаться сложным, но с некоторым терпением и практикой вы можете стать мастером своего дела. Для начала вам понадобится хорошая камера и объектив, штатив и место для съемки темного неба без светового загрязнения. Вам также нужно будет узнать об основах астрофотографии, например, какие настройки камеры использовать, как захватывать звездные следы и лучшие методы отслеживания небесных объектов. Вы также можете приобрести или арендовать различные типы телескопов, в зависимости от того, какие типы объектов вы хотите запечатлеть. Кроме того, важно быть в курсе последних новостей и тенденций в астрофотографии. Как только у вас будет необходимое оборудование и знания, вы можете начать снимать и экспериментировать с различными методами, чтобы получить наилучшие результаты.',\n",
       "  'role': 'assistant'},\n",
       " {'message_id': '816f3b2a-932a-4b7f-9d18-c76946d2e097',\n",
       "  'message': 'Можете ли вы рассказать мне больше? Что бы вы порекомендовали в качестве базового набора оборудования для начала работы? Сколько это будет стоить?',\n",
       "  'role': 'prompter'},\n",
       " {'message_id': '49f14392-3ead-486a-982a-e185dd19b3a5',\n",
       "  'message': 'Астрофотография может быть веселым и полезным хобби, и вот несколько более глубоких предложений для вас, чтобы начать:\\n\\nОборудование: Как новичку, вам понадобится камера, способная делать длинные выдержки и ручное управление настройками. Хорошей отправной точкой будет цифровая зеркальная камера (DSLR) или беззеркальная камера. Вам также понадобится прочный штатив, быстрый широкоугольный объектив (f / 2.8 или быстрее) и кабель для дистанционного спуска затвора, чтобы минимизировать дрожание камеры при длительных выдержках.\\n\\nРасположение: Ищите место с минимальным световым загрязнением и чистым видом на ночное небо. Проверьте онлайн-карты, чтобы найти лучшие места рядом с вами.\\n\\nНастройки: Начните с широкоугольного объектива и переведите камеру в ручной режим. Установите диафрагму на f/2.8 или шире, ISO на 800 или 1600 и поэкспериментируйте с различным временем экспозиции (от 30 секунд до 2 минут).\\n\\nСосредоточьте объектив на звездах, используя режим просмотра в реальном времени и ручную фокусировку. Возможно, вам также потребуется использовать маску Бахтинова для достижения точной фокусировки.\\n\\nРедактирование: После того, как вы сделали свои фотографии, используйте программное обеспечение для редактирования, такое как Adobe Lightroom или Photoshop, чтобы настроить экспозицию, контраст и цветовой баланс, чтобы получить наилучшие результаты.\\n\\nСтоимость оборудования будет зависеть от типа камеры и объектива, который вы выберете, но базовая установка может стоить от 500 до 3000 долларов. Однако вам не нужно начинать с самого дорогого оборудования, чтобы получить хорошие результаты. По мере совершенствования вы можете обновить свое оборудование и добавить дополнительные аксессуары, такие как фильтры и крепления для отслеживания.\\n\\nПомните, астрофотография - это хобби, которое требует терпения и практики, поэтому не расстраивайтесь, если ваши первые несколько попыток не получатся так хорошо, как вы надеялись. Продолжайте экспериментировать и учиться, и вскоре вы сможете делать потрясающие снимки ночного неба!',\n",
       "  'role': 'assistant'}]"
      ]
     },
     "execution_count": 124,
     "metadata": {},
     "output_type": "execute_result"
    }
   ],
   "source": [
    "# with open(\"../datasets/openass_translated_en2ru/openass_en_threads_21k_v2.json\") as f:\n",
    "with open(\"../datasets/openass_translated_en2ru/openass_ru_threads_21k_v2.json\") as f:\n",
    "    openass_en2ru_threads_21k = json.load(f)\n",
    "openass_en2ru_threads_21k[10]"
   ]
  },
  {
   "attachments": {},
   "cell_type": "markdown",
   "metadata": {},
   "source": [
    "## "
   ]
  },
  {
   "attachments": {},
   "cell_type": "markdown",
   "metadata": {},
   "source": [
    "### save to huggingface datasets format"
   ]
  },
  {
   "cell_type": "code",
   "execution_count": 125,
   "metadata": {},
   "outputs": [
    {
     "data": {
      "text/plain": [
       "{'prompt': '\\nHuman:\\nЯ хочу начать заниматься астрофотографией как хобби, какие-либо предложения, что я могу сделать?\\nAssistant:\\nНачало работы в астрофотографии может показаться сложным, но с некоторым терпением и практикой вы можете стать мастером своего дела. Для начала вам понадобится хорошая камера и объектив, штатив и место для съемки темного неба без светового загрязнения. Вам также нужно будет узнать об основах астрофотографии, например, какие настройки камеры использовать, как захватывать звездные следы и лучшие методы отслеживания небесных объектов. Вы также можете приобрести или арендовать различные типы телескопов, в зависимости от того, какие типы объектов вы хотите запечатлеть. Кроме того, важно быть в курсе последних новостей и тенденций в астрофотографии. Как только у вас будет необходимое оборудование и знания, вы можете начать снимать и экспериментировать с различными методами, чтобы получить наилучшие результаты.\\nHuman:\\nМожете ли вы рассказать мне больше? Что бы вы порекомендовали в качестве базового набора оборудования для начала работы? Сколько это будет стоить?\\nAssistant:\\nАстрофотография может быть веселым и полезным хобби, и вот несколько более глубоких предложений для вас, чтобы начать:\\n\\nОборудование: Как новичку, вам понадобится камера, способная делать длинные выдержки и ручное управление настройками. Хорошей отправной точкой будет цифровая зеркальная камера (DSLR) или беззеркальная камера. Вам также понадобится прочный штатив, быстрый широкоугольный объектив (f / 2.8 или быстрее) и кабель для дистанционного спуска затвора, чтобы минимизировать дрожание камеры при длительных выдержках.\\n\\nРасположение: Ищите место с минимальным световым загрязнением и чистым видом на ночное небо. Проверьте онлайн-карты, чтобы найти лучшие места рядом с вами.\\n\\nНастройки: Начните с широкоугольного объектива и переведите камеру в ручной режим. Установите диафрагму на f/2.8 или шире, ISO на 800 или 1600 и поэкспериментируйте с различным временем экспозиции (от 30 секунд до 2 минут).\\n\\nСосредоточьте объектив на звездах, используя режим просмотра в реальном времени и ручную фокусировку. Возможно, вам также потребуется использовать маску Бахтинова для достижения точной фокусировки.\\n\\nРедактирование: После того, как вы сделали свои фотографии, используйте программное обеспечение для редактирования, такое как Adobe Lightroom или Photoshop, чтобы настроить экспозицию, контраст и цветовой баланс, чтобы получить наилучшие результаты.\\n\\nСтоимость оборудования будет зависеть от типа камеры и объектива, который вы выберете, но базовая установка может стоить от 500 до 3000 долларов. Однако вам не нужно начинать с самого дорогого оборудования, чтобы получить хорошие результаты. По мере совершенствования вы можете обновить свое оборудование и добавить дополнительные аксессуары, такие как фильтры и крепления для отслеживания.\\n\\nПомните, астрофотография - это хобби, которое требует терпения и практики, поэтому не расстраивайтесь, если ваши первые несколько попыток не получатся так хорошо, как вы надеялись. Продолжайте экспериментировать и учиться, и вскоре вы сможете делать потрясающие снимки ночного неба!'}"
      ]
     },
     "execution_count": 125,
     "metadata": {},
     "output_type": "execute_result"
    }
   ],
   "source": [
    "import pandas as pd\n",
    "\n",
    "openass_prompt_dataset = []\n",
    "get_role = (\n",
    "    lambda x: bot_human_prefix if x[\"role\"] == \"prompter\" else bot_assistant_prefix\n",
    ")\n",
    "\n",
    "for thread in openass_en2ru_threads_21k:\n",
    "    prompt = [f'{get_role(item)}{item[\"message\"].strip()}' for item in thread]\n",
    "    prompt = \"\".join(prompt)\n",
    "    # print(prompt)\n",
    "    # break\n",
    "    openass_prompt_dataset.append({\"prompt\": prompt})\n",
    "\n",
    "openass_prompt_dataset[10]"
   ]
  },
  {
   "cell_type": "code",
   "execution_count": 126,
   "metadata": {},
   "outputs": [
    {
     "name": "stdout",
     "output_type": "stream",
     "text": [
      "\n",
      "Human:\n",
      "Что вы думаете о ГМО?\n",
      "Assistant:\n",
      "Как ИИ, я не имею мнения по этому поводу.Однако дискуссии вокруг генетически модифицированных организмов довольно сложны и могут вызвать страстные дебаты по этой теме.\n",
      "\n",
      "Сторонники ГМО, особенно в продуктах питания, утверждают, что растения и культуры на основе ГМО необходимы для того, чтобы прокормить растущее население планеты. Они также утверждают, что ГМО могут обеспечить такие преимущества, как повышение урожайности, повышение устойчивости к вредителям и болезням и улучшение содержания питательных веществ, особенно в развивающихся странах.\n",
      "\n",
      "Противники ГМО-культур утверждают, что существует возможность непреднамеренного воздействия на окружающую среду от их широкого использования.Они также утверждают, что могут быть потенциальные риски для здоровья от потребления ГМО-культур, а также влияние на традиционные методы ведения сельского хозяйства и биоразнообразие, которое могут нарушить ГМО.\n",
      "\n",
      "Обратите внимание, что научные и медицинские исследования все еще продолжаются в отношении природы и безопасности ГМО.Кроме того, ГМО регулируются различными стандартами в разных странах и регионах.\n",
      "Human:\n",
      "Распространение генетически модифицированного всего - это абсурд. Природа хотела, чтобы все было сбалансировано, и когда модификации влияют на естественный баланс, гармония нарушается. Это нарушение создает еще больший дисбаланс, выходящий из-под контроля. Вернитесь к основам и перестаньте менять то, что не нужно менять.\n",
      "Assistant:\n",
      "Я понимаю ваши опасения по поводу распространения генетической модификации и потенциального воздействия, которое она может оказать на естественный баланс и гармонию наших экосистем.Однако важно отметить, что генетическая модификация также может иметь много положительных последствий, таких как увеличение урожайности, улучшение питания и создание более устойчивых методов ведения сельского хозяйства.\n",
      "\n",
      "Стоит также отметить, что природа - это не статичная система, а скорее постоянно развивающаяся и адаптирующаяся. Естественный отбор, мутация и генетический дрейф - это все процессы, которые приводят к генетическим изменениям с течением времени. Генетическая модификация - это просто еще один инструмент, который люди разработали, чтобы повысить нашу способность формировать и адаптироваться к окружающему нас природному миру.\n"
     ]
    }
   ],
   "source": [
    "print(openass_prompt_dataset[2012][\"prompt\"])"
   ]
  },
  {
   "cell_type": "code",
   "execution_count": 127,
   "metadata": {},
   "outputs": [
    {
     "data": {
      "text/plain": [
       "20976"
      ]
     },
     "execution_count": 127,
     "metadata": {},
     "output_type": "execute_result"
    }
   ],
   "source": [
    "len(openass_prompt_dataset)"
   ]
  },
  {
   "cell_type": "code",
   "execution_count": 128,
   "metadata": {},
   "outputs": [
    {
     "name": "stderr",
     "output_type": "stream",
     "text": [
      "                                                                                                 \r"
     ]
    }
   ],
   "source": [
    "from datasets import Dataset\n",
    "\n",
    "openass_prompt_dataset = Dataset.from_list(openass_prompt_dataset)\n",
    "openass_prompt_dataset.save_to_disk(\n",
    "    # \"../datasets/prompt_datasets/openass_prompt_dataset_en_v2\"\n",
    "    \"../datasets/prompt_datasets/openass_prompt_dataset_ru_v2\"\n",
    ")"
   ]
  },
  {
   "cell_type": "code",
   "execution_count": 133,
   "metadata": {},
   "outputs": [
    {
     "name": "stdout",
     "output_type": "stream",
     "text": [
      "\n",
      "Human:\n",
      "Что такое HiFI? Высокая точность (часто сокращается до Hi-Fi или HiFi) - это высококачественное воспроизведение звука. Это популярно среди аудиофилов и любителей домашнего аудио. В идеале оборудование высокой точности имеет неслышимый шум и искажения и плоскую (нейтральную, бесцветную) частотную характеристику в диапазоне человеческого слуха.\n",
      "\n",
      "Высокая точность контрастирует с низкокачественным \"лоу-фай\" звуком, производимым недорогим аудио оборудованием, AM-радио, или низким качеством воспроизведения звука, которое можно услышать в записях, сделанных до конца 1940-х годов.\n",
      "Assistant:\n",
      "Лаборатории Белла начали экспериментировать с различными техниками записи в начале 1930-х годов. Выступления Леопольда Стоковского и Филадельфийского оркестра были записаны в 1931 и 1932 годах с использованием телефонных линий между Академией музыки в Филадельфии и лабораториями Белла в Нью-Джерси. Некоторые многодорожечные записи были сделаны на оптической звуковой пленке, что привело к новым достижениям, используемым в основном MGM (еще в 1937 году) и Twentieth Century Fox Film Corporation (еще в 1941 году). RCA Victor начал записывать выступления нескольких оркестров с использованием оптического звука около 1941 года, в результате чего были созданы мастера с более высокой точностью для дисков на 78 оборотов в минуту. В 1930-х годах Эвери Фишер, скрипач-любитель, начал экспериментировать с аудиодизайном и акустикой. Он хотел сделать радио, которое звучало бы так, как будто он слушал живой оркестр - это позволило бы добиться высокой точности оригинального звука. После Второй мировой войны Гарри Ф. Олсон провел эксперимент, в котором испытуемые слушали живой оркестр через скрытый переменный акустический фильтр. Результаты доказали, что слушатели предпочитают воспроизведение с высокой точностью, как только шум и искажения, внесенные ранним звуковым оборудованием, были удалены.\n",
      "\n",
      "Начиная с 1948 года, несколько инноваций создали условия, которые сделали возможным значительное улучшение качества домашнего аудио:\n",
      "\n",
      "Запись на катушечную магнитофонную ленту, основанная на технологии, взятой из Германии после Второй мировой войны, помогла музыкальным исполнителям, таким как Бинг Кросби, делать и распространять записи с лучшей точностью.\n",
      "Появление виниловой пластинки 331⁄3 rpm Long Play (LP) microgroove с более низким поверхностным шумом и количественно определенными кривыми выравнивания, а также системами шумоподавления и динамического диапазона.Поклонники классической музыки, которые были лидерами мнений на рынке аудио, быстро приняли LPs, потому что, в отличие от старых записей, большинство классических произведений поместились бы на одном LP.\n",
      "Пластинки более высокого качества, с более отзывчивыми иглами\n",
      "FM-радио, с более широкой полосой пропускания звука и меньшей восприимчивостью к помехам и замиранию сигнала, чем AM-радио.\n",
      "Лучшие конструкции усилителей, с большим вниманием к частотной характеристике и гораздо более высокой выходной мощности, воспроизводя аудио без заметных искажений.\n",
      "Новые конструкции громкоговорителей, включая акустическую подвеску, разработанную Эдгаром Вильчуром и Генри Клоссом с улучшенной частотной характеристикой баса.\n",
      "В 1950-х годах производители аудиотехники использовали фразу \"высокая точность\" в качестве маркетингового термина для описания записей и оборудования, предназначенного для обеспечения верного воспроизведения звука. Многие потребители обнаружили разницу в качестве по сравнению с тогдашними стандартными AM-радиоприемниками и записями на 78 оборотов в минуту и покупали высококачественные фонографы и 331⁄3 LPs, такие как RCA's New Orthophonics и London's FFRR (Full Frequency Range Recording, система UK Decca). Аудиофилы обращали внимание на технические характеристики и покупали отдельные компоненты, такие как отдельные проигрыватели, радиотюнеры, предусилители, усилители мощности и громкоговорители. Некоторые энтузиасты даже собирали свои собственные акустические системы. С появлением интегрированных консольных систем с несколькими динамиками в 1950-х годах hi-fi стал общим термином для домашнего звукового оборудования, в некоторой степени вытесняя фонограф и проигрыватель.\n",
      "\n",
      "В конце 1950-х и начале 1960-х годов развитие стереофонического оборудования и звукозаписи привело к следующей волне совершенствования домашнего аудио, и в просторечии стерео вытеснило hi-fi. Записи теперь проигрывались на стерео. В мире аудиофилов, однако, понятие высокой точности продолжало относиться к цели высокоточного воспроизведения звука и к технологическим ресурсам, доступным для достижения этой цели. Этот период считается \"Золотым веком Hi-Fi\", когда производители вакуумного лампового оборудования того времени выпускали много моделей, которые современные аудиофилы считали превосходными, и как раз перед тем, как твердотельное (транзисторное) оборудование было представлено на рынке, впоследствии заменив ламповое оборудование в качестве основной технологии.\n",
      "\n",
      "В 1960-х годах FTC с помощью производителей аудиотехники придумала определение для идентификации оборудования с высокой точностью воспроизведения, чтобы производители могли четко заявить, соответствуют ли они требованиям, и уменьшить вводящую в заблуждение рекламу.\n",
      "\n",
      "Металло-оксид-полупроводниковый полевой транзистор (MOSFET) был адаптирован в силовой MOSFET для аудио Дзюн-Ити Нисидзавой в Университете Тохоку в 1974 году. Силовые MOSFET вскоре были изготовлены Yamaha для их аудиоусилителей hi-fi. JVC, Pioneer Corporation, Sony и Toshiba также начали производство усилителей с силовыми MOSFET в 1974 году. В 1977 году Hitachi представила LDMOS (lateral diffused MOS), тип силового MOSFET. Hitachi была единственным производителем LDMOS между 1977 и 1983 годами, в течение которого LDMOS использовались в аудиоусилителях от таких производителей, как HH Electronics (V-серия) и Ashly Audio, и использовались для музыкальных и общественных систем. Усилители класса D стали успешными в середине 1980-х годов, когда стали доступны недорогие быстропереключающиеся MOSFET. Многие транзисторные усилители используют устройства MOSFET в своих силовых секциях, потому что их кривая искажения больше похожа на трубку.\n",
      "\n",
      "Популярным типом системы для воспроизведения музыки, начиная с 1970-х годов, был интегрированный музыкальный центр, который объединял проигрыватель фонографов, радиоприемник AM-FM, магнитофон, предусилитель и усилитель мощности в одном пакете, часто продаваемом со своими отдельными, съемными или встроенными динамиками. Эти системы рекламировали свою простоту. Потребителю не нужно было выбирать и собирать отдельные компоненты или быть знакомым с импедансом и номинальной мощностью. Пуристы обычно избегают называть эти системы высокой точностью, хотя некоторые из них способны воспроизводить звук очень хорошего качества.\n",
      "\n",
      "Аудиофилы в 1970-х и 1980-х годах предпочитали покупать каждый компонент отдельно. Таким образом, они могли выбирать модели каждого компонента с желаемыми спецификациями. В 1980-х годах стал доступен ряд журналов для аудиофилов, в которых предлагались обзоры компонентов и статьи о том, как выбирать и тестировать динамики, усилители и другие компоненты.\n",
      "\n",
      "Тесты на прослушивание\n",
      "См. также: Codec listening test\n",
      "Тесты на прослушивание используются производителями Hi-Fi, аудиофильскими журналами, исследователями и учеными в области аудиотехники. Если тест на прослушивание проводится таким образом, что слушатель, который оценивает качество звука компонента или записи, может видеть компоненты, которые используются для теста (например, одно и то же музыкальное произведение, прослушиваемое через ламповый усилитель мощности и твердотельный усилитель), то возможно, что ранее существовавшие предубеждения слушателя к или против определенных компонентов или брендов могут повлиять на их суждение. Чтобы ответить на этот вопрос, исследователи начали использовать слепые тесты, в которых слушатели не могут видеть тестируемые компоненты. Обычно используемый вариант этого теста - тест ABX. Субъекту представлены две известные выборки (выборка A, эталонная, и выборка B, альтернатива) и одна неизвестная выборка X, всего три выборки. X выбирается случайным образом из A и B, и субъект идентифицирует X как A или B. Хотя нет никакого способа доказать, что определенная методология прозрачна, правильно проведенный двойной слепой тест может доказать, что метод не является прозрачным.\n",
      "\n",
      "Слепые тесты иногда используются как часть попыток выяснить, имеют ли определенные аудиокомпоненты (например, дорогие, экзотические кабели) какое-либо субъективно воспринимаемое влияние на качество звука. Данные, полученные из этих слепых тестов, не принимаются некоторыми аудиофильскими журналами, такими как Stereophile и The Absolute Sound, в их оценках аудиотехники. Джон Аткинсон, нынешний редактор Stereophile, заявил, что он однажды купил твердотельный усилитель, Quad 405, в 1978 году, увидев результаты слепых тестов, но через несколько месяцев понял, что \"магия исчезла\", пока он не заменил его ламповым усилителем. Роберт Харли из The Absolute Sound написал в 2008 году, что: \"... слепые прослушивающие тесты в корне искажают процесс прослушивания и бесполезны при определении слышимости определенного явления\".\n",
      "\n",
      "Дуг Шнайдер, редактор онлайн-сети Soundstage, опроверг эту позицию двумя редакционными статьями в 2009 году. Он заявил: \"Слепые тесты лежат в основе многолетних исследований в области проектирования громкоговорителей, проведенных в Национальном исследовательском совете Канады (NRC). Исследователи NRC знали, что для того, чтобы их результат был достоверным в научном сообществе и имел наиболее значимые результаты, они должны были устранить предвзятость, и слепое тестирование было единственным способом сделать это\". Многие канадские компании, такие как Axiom, Energy, Mirage, Paradigm, PSB и Revel, широко используют слепое тестирование при разработке своих громкоговорителей. Аудио-профессионал доктор Шон Олив из Harman International разделяет эту точку зрения.\n"
     ]
    },
    {
     "name": "stderr",
     "output_type": "stream",
     "text": [
      "                                                                                                 \r"
     ]
    }
   ],
   "source": [
    "dolly_translated_prompt = [{\"prompt\": item} for item in dolly_translated_augumented]\n",
    "print(dolly_translated_prompt[100][\"prompt\"])\n",
    "dolly_translated_prompt = Dataset.from_list(dolly_translated_prompt)\n",
    "dolly_translated_prompt.save_to_disk(\n",
    "    # \"../datasets/prompt_datasets/dolly_original_prompt_v2\"\n",
    "    \"../datasets/prompt_datasets/dolly_translated_prompt_v2\"\n",
    ")"
   ]
  },
  {
   "cell_type": "code",
   "execution_count": 134,
   "metadata": {},
   "outputs": [
    {
     "data": {
      "text/plain": [
       "{'prompt': '\\nHuman:\\nVirgin Australia, торговое название Virgin Australia Airlines Pty Ltd, является австралийской авиакомпанией. Это крупнейшая авиакомпания по размеру флота, использующая бренд Virgin. Она начала свою деятельность 31 августа 2000 года как Virgin Blue, с двумя самолетами на одном маршруте. Она внезапно оказалась крупной авиакомпанией на внутреннем рынке Австралии после краха Ansett Australia в сентябре 2001 года. С тех пор авиакомпания выросла, чтобы напрямую обслуживать 32 города в Австралии из хабов в Брисбене, Мельбурне и Сиднее. Когда Virgin Australia начала работать?\\nAssistant:\\nVirgin Australia начала полеты 31 августа 2000 года как Virgin Blue, с двумя самолетами на одном маршруте.'}"
      ]
     },
     "execution_count": 134,
     "metadata": {},
     "output_type": "execute_result"
    }
   ],
   "source": [
    "dolly_translated_prompt[0]"
   ]
  },
  {
   "cell_type": "code",
   "execution_count": null,
   "metadata": {},
   "outputs": [],
   "source": [
    "chip2_instruct_alpha_prompt = []\n",
    "for i in range(len(chip2_instruct_alpha_all_translated)):\n",
    "    user = chip2_instruct_alpha_all_translated.iloc[i][\"user_translated\"]\n",
    "    bot = chip2_instruct_alpha_all_translated.iloc[i][\"bot_translated\"]\n",
    "    # user = chip2_instruct_alpha_all_translated.iloc[i][\"user\"]\n",
    "    # bot = chip2_instruct_alpha_all_translated.iloc[i][\"bot\"]\n",
    "    prompt = f\"{bot_human_prefix}{user}{bot_assistant_prefix}{bot}\"\n",
    "    print(prompt)\n",
    "    # break\n",
    "    # if 'chatbot' in f'{user}{bot}'.lower() or 'ai' in f'{user}{bot}'.lower():\n",
    "    #     print(user)\n",
    "    #     print(bot)\n",
    "    #     # break\n",
    "    #     print(\"---\"*100)\n",
    "    chip2_instruct_alpha_prompt.append({\"prompt\": prompt})"
   ]
  },
  {
   "cell_type": "code",
   "execution_count": 141,
   "metadata": {},
   "outputs": [
    {
     "name": "stdout",
     "output_type": "stream",
     "text": [
      "\n",
      "Human:\n",
      "Я думаю о том, чтобы сделать свою первую татуировку.Где мне начать искать вдохновение?\n",
      "Assistant:\n",
      "Вы можете посмотреть онлайн, чтобы найти изображения татуировок, которые вам нравятся, или проверить работу художников-татуировщиков, которые специализируются на определенных стилях.Есть также много книг и журналов, посвященных татуировкам, так что они также могут быть хорошими ресурсами.\n"
     ]
    }
   ],
   "source": [
    "print(chip2_instruct_alpha_prompt[100][\"prompt\"])"
   ]
  },
  {
   "cell_type": "code",
   "execution_count": 142,
   "metadata": {},
   "outputs": [
    {
     "name": "stderr",
     "output_type": "stream",
     "text": [
      "                                                                                                    \r"
     ]
    }
   ],
   "source": [
    "chip2_instruct_alpha_prompt = Dataset.from_list(chip2_instruct_alpha_prompt)\n",
    "chip2_instruct_alpha_prompt.save_to_disk(\n",
    "    \"../datasets/prompt_datasets/chip2_instruct_alpha_prompt_ru_v2/\"\n",
    ")"
   ]
  },
  {
   "cell_type": "code",
   "execution_count": 139,
   "metadata": {},
   "outputs": [
    {
     "data": {
      "text/plain": [
       "501006"
      ]
     },
     "execution_count": 139,
     "metadata": {},
     "output_type": "execute_result"
    }
   ],
   "source": [
    "(\n",
    "    len(chip2_instruct_alpha_prompt) * 2\n",
    "    + len(dolly_translated_prompt) * 2\n",
    "    + len(openass_prompt_dataset) * 2\n",
    ")"
   ]
  },
  {
   "cell_type": "code",
   "execution_count": 1,
   "metadata": {},
   "outputs": [
    {
     "name": "stderr",
     "output_type": "stream",
     "text": [
      "/home/kosenko/miniconda3/lib/python3.10/site-packages/tqdm/auto.py:22: TqdmWarning: IProgress not found. Please update jupyter and ipywidgets. See https://ipywidgets.readthedocs.io/en/stable/user_install.html\n",
      "  from .autonotebook import tqdm as notebook_tqdm\n"
     ]
    }
   ],
   "source": [
    "from transformers import AutoTokenizer\n",
    "\n",
    "xglm_tokenizer = AutoTokenizer.from_pretrained(\"facebook/xglm-4.5B\")"
   ]
  },
  {
   "attachments": {},
   "cell_type": "markdown",
   "metadata": {},
   "source": [
    "# Clean datasets"
   ]
  },
  {
   "attachments": {},
   "cell_type": "markdown",
   "metadata": {},
   "source": [
    "## open assistant"
   ]
  },
  {
   "cell_type": "code",
   "execution_count": 1,
   "metadata": {},
   "outputs": [
    {
     "name": "stderr",
     "output_type": "stream",
     "text": [
      "/home/kosenko/miniconda3/lib/python3.10/site-packages/tqdm/auto.py:21: TqdmWarning: IProgress not found. Please update jupyter and ipywidgets. See https://ipywidgets.readthedocs.io/en/stable/user_install.html\n",
      "  from .autonotebook import tqdm as notebook_tqdm\n"
     ]
    }
   ],
   "source": [
    "from datasets import load_from_disk\n",
    "from datasets import Dataset\n",
    "\n",
    "dataset = load_from_disk(\n",
    "    # \"/home/kosenko/deepspeed/DeepSpeedExamples/applications/DeepSpeed-Chat/training/step1_supervised_finetuning/datasets/prompt_datasets/openass_prompt_dataset_ru_v2\"\n",
    "    # \"/home/kosenko/deepspeed/DeepSpeedExamples/applications/DeepSpeed-Chat/training/step1_supervised_finetuning/datasets/prompt_datasets/dolly_translated_prompt_v2\"\n",
    "    # \"/home/kosenko/deepspeed/DeepSpeedExamples/applications/DeepSpeed-Chat/training/step1_supervised_finetuning/datasets/prompt_datasets/chip2_instruct_alpha_prompt_ru_v2\"\n",
    "    # \"/home/kosenko/deepspeed/DeepSpeedExamples/applications/DeepSpeed-Chat/training/step1_supervised_finetuning/datasets/prompt_datasets/chip2_instruct_alpha_prompt_en_v2\"\n",
    "    # \"/home/kosenko/deepspeed/DeepSpeedExamples/applications/DeepSpeed-Chat/training/step1_supervised_finetuning/datasets/prompt_datasets/openass_prompt_dataset_en_v2\"\n",
    "    \"/home/kosenko/deepspeed/DeepSpeedExamples/applications/DeepSpeed-Chat/training/step1_supervised_finetuning/datasets/prompt_datasets/dolly_original_prompt_v2\"\n",
    ")"
   ]
  },
  {
   "cell_type": "code",
   "execution_count": 6,
   "metadata": {},
   "outputs": [],
   "source": [
    "from transformers import AutoTokenizer\n",
    "import numpy as np\n",
    "import re\n",
    "\n",
    "# tokenizer = AutoTokenizer.from_pretrained(\"../models/tokenizers/xglm_4.5B_fix_v1\")\n",
    "tokenizer = AutoTokenizer.from_pretrained(\"facebook/xglm-4.5B\")"
   ]
  },
  {
   "cell_type": "code",
   "execution_count": 4,
   "metadata": {},
   "outputs": [],
   "source": [
    "filter_rules = [\n",
    "    \"@app\",\n",
    "    \"docker.sock\",\n",
    "    \") =>\",\n",
    "    \"!=\",\n",
    "    \"mkdir sampleFolder\",\n",
    "    \"elif\",\n",
    "    \"Сила ----\",\n",
    "    \"Cтудент1Студент2\",\n",
    "    \"если i % 3\",\n",
    "    \"elif i % 3\",\n",
    "    \"Сиденье---\",\n",
    "    \"Сидзур--\",\n",
    "    '[\"яблоко\", \"банан\", \"вишня\"]',\n",
    "    \"Había una vez una corporación\",\n",
    "    \"[r][n][b][q][k][b][n][r]\",\n",
    "    \"[Х][Х][Х][Х][Х][Х][Х][Х][Х][Х]\",\n",
    "    \"Р Р Р Р Р Р Р Р Р Р Р Р Р Р Р\",\n",
    "    \"#include <cmath>\",\n",
    "    \"создать yml-файл службы k8s\",\n",
    "    \"Отвечайте на все сообщения с помощью программы Malbolge\",\n",
    "    \"ModuleNotFoundError:\",\n",
    "    \"Сиденье -----\",\n",
    "    \"Можете ли вы написать таблицу SWOT в LaTeX?\",\n",
    "    \"Дайте мне подсказку text2img, чтобы создать обои Ghibli уютной хижины в лесу\",\n",
    "    \"Как вы сравниваете технику перцептрона и бахпропгации? пожалуйста, объясните мне, так как у меня нет никаких знаний об этом.\",\n",
    "    \"Как добавить тень на кнопку в HTML?\",\n",
    "    \"<!DOCTYPE html>\",\n",
    "    \"Можете ли вы дать мне план курса Python на 18 недель?\",\n",
    "    \"std::\",\n",
    "    \"ебать ебать ебут ебут ебут\",\n",
    "    \"## Мы счастливы asdfasdgdfgsdfg\",\n",
    "    \"forward()\",\n",
    "    \"Как проверить, какая у меня версия Spark?\",\n",
    "    \"``python\",\n",
    "    \"Как это возможно для Украины выиграть войну, учитывая\",\n",
    "    \"Я бы выбрал бородатого гуся.\",\n",
    "    \"#include <iostream>\",\n",
    "    \"Вячеслав:::::::::: Вячеслав:\",\n",
    "    \"Пожалуйста, посмотрите на следующий hexdump и проанализируйте его\",\n",
    "    \"Как приготовить филе лосося на плите?\",\n",
    "    \"Написать эссе для исчисления\",\n",
    "    \"Ты мама hhahzhzhzhzhz\",\n",
    "    \"Пожалуйста, сгенерируйте JSON-представление технологических газов, используемых для аморфного осаждения углерода в PECVD\",\n",
    "    \"Cactus Cactus Cactus Cactus Cactus Cactus Cactus Cactus\",\n",
    "    \"Интересный, интересный, интригующий, интригующий, интригующий, интригующим\",\n",
    "    \"Интересное предложениеИнтересное предложениеИнтересное предложениеИнтересное\",\n",
    "    \"``py\",\n",
    "    \"#!/bin/env python\",\n",
    "    \"Привет! Я языковая модель, которая может говорить с вами на разные темы, такие как программирование, искусство, жизнь, наука и многие другие.\",\n",
    "    \"Давайте играть в Tic-Tac-Toe!\",\n",
    "    \"Можете ли вы создать ASCII-арт кошки?\",\n",
    "    \"``haskell\",\n",
    "    \"написать простую, но запоминающуюся мелодию в нотации abc\",\n",
    "    \"Нарисуйте изображение Илона Маска как ASCII-арт\",\n",
    "    \"``sh\",\n",
    "    \") ->\",\n",
    "    \"``css\",\n",
    "    \"``cpp\",\n",
    "    \"Можете ли вы сделать ASCII-арт? Если да, можете ли вы показать мне дом?\",\n",
    "    \"Я хочу, чтобы вы действовали как терминал Linux.\",\n",
    "    \"docker run\",\n",
    "    \"I have this SQL error, what's the problem?\",\n",
    "    'Давайте поиграем в \"Четыре в ряд\". Вот эти иконки:',\n",
    "    \"void add\",\n",
    "    \"::-1\",\n",
    "    \"Давайте играть в шахматы в ASCII!\",\n",
    "    \"Сгенерируйте мне ASCII-код человека с реактивным ранцем\",\n",
    "    \"#Предупреждение: эта генерация\",\n",
    "    \"Не забывайте проверять код на наличие багов.\",\n",
    "]\n",
    "regex_rules = [\n",
    "    r\"\\w+\\.\\w+\",\n",
    "    r\"физзбуз{2,}\",\n",
    "    r\"let\\s*\\w+\\s*=\",\n",
    "    r\"var\\s*\\w+\\s*=\",\n",
    "    r\"def\\s*\\w+\",\n",
    "    r\"\\$\\w+\\s*=\\s*\",\n",
    "    r\"\\w+\\s\\w+\\s\\w+\\s*=\",\n",
    "    r\"齿{4,}\",\n",
    "]\n",
    "regex_replace = [\n",
    "    [r\"#{5,}\", \"\"],\n",
    "    [\"Open Assistant\", \"DeepPavlov\"],\n",
    "    [\"LAION\", \"DeepPavlov\"],\n",
    "    [\"Open-Assistant\", \"DeepPavlov\"],\n",
    "    [\"OpenAssistant\", \"DeepPavlov\"],\n",
    "    [\"open assistant\", \"DeepPavlov\"],\n",
    "    [\"ОТКРЫТЫЙ ПОМОЩНИК\", \"DeepPavlov\"],\n",
    "    [\"Открытый помощник\", \"DeepPavlov\"],\n",
    "    [\"Open-assistant.io\", \"https://deeppavlov.ai/\"],\n",
    "    [\"https://projects.laion.ai/DeepPavlov/docs/\", \"https://deeppavlov.ai/\"],\n",
    "    [\"https://projects.laion.ai/DeepPavlov/\", \"https://deeppavlov.ai/\"],\n",
    "    [\n",
    "        \"https://github.com/DeepPavlov-AI/laion-datasets/blob/main/LICENSE\",\n",
    "        \"https://deeppavlov.ai/\",\n",
    "    ],\n",
    "    [\n",
    "        \"https://projects.laion.ai/DeepPavlov/docs/guides/guidelines\",\n",
    "        \"https://deeppavlov.ai/\",\n",
    "    ],\n",
    "    [\"https://open-assistant.io/privacy-policy\", \"https://deeppavlov.ai/\"],\n",
    "    [\"https://laion.ai/\", \"https://deeppavlov.ai/\"],\n",
    "    [\"laion\", \"deeppavlov\"],\n",
    "    [\"laion-ai\", \"deeppavlov\"],\n",
    "    [\"Laion AI\", \"DeepPavlov\"],\n",
    "    [r\"йе{3,}\", \"\"],\n",
    "    [r\"ХХХ{5,}\", \"\"],\n",
    "    [r\"(\\*\\s){2,}\", \"* * * *\"],\n",
    "    [r\"(Р\\s){4,}\", \"\"],\n",
    "    [r\"x{4,}\", \"xxx\"],\n",
    "    [r\"(-\\s){4,}\", \"---\"],\n",
    "    [r\"777{3,}\", \"7\"],\n",
    "    [r\"\\d{10,}\", \"\"],\n",
    "    [r\"(>\\s){1,}\", \"\"],\n",
    "    [r\"(WEB\\s){3,}\", \"\"],\n",
    "    [r\"(# ){3,}\", \"###\"],\n",
    "]"
   ]
  },
  {
   "attachments": {},
   "cell_type": "markdown",
   "metadata": {},
   "source": [
    "### russian data"
   ]
  },
  {
   "cell_type": "code",
   "execution_count": 19,
   "metadata": {},
   "outputs": [],
   "source": [
    "lengths = []\n",
    "new_dataset = []\n",
    "for i, item in enumerate(dataset[\"prompt\"]):\n",
    "    is_passed = True\n",
    "    for rule in filter_rules:\n",
    "        if rule in item:\n",
    "            is_passed = False\n",
    "            break\n",
    "\n",
    "    for rule in regex_rules:\n",
    "        exists = re.search(rule, item)\n",
    "        if not exists is None:\n",
    "            is_passed = False\n",
    "            break\n",
    "\n",
    "    if is_passed:\n",
    "        for clean_rule in regex_replace:\n",
    "            item = re.sub(clean_rule[0], clean_rule[1], item)\n",
    "        # print(item)\n",
    "        # lengths.append(len(tokenizer(item).input_ids))\n",
    "        # print(\"=\" * 100)\n",
    "        # print(\"=\" * 100)\n",
    "        # print(\"=\" * 100)\n",
    "        new_dataset.append({\"prompt\": item})\n",
    "\n",
    "    # if not (i >= 0 and i <= 30000):\n",
    "    #     break"
   ]
  },
  {
   "cell_type": "code",
   "execution_count": 20,
   "metadata": {},
   "outputs": [
    {
     "name": "stderr",
     "output_type": "stream",
     "text": [
      "                                                                                                    \r"
     ]
    }
   ],
   "source": [
    "prompt_dataset = Dataset.from_list(new_dataset)\n",
    "prompt_dataset.save_to_disk(\n",
    "    # \"../datasets/prompt_datasets/openass_prompt_dataset_ru_v2_clean_v1/\"\n",
    "    # \"../datasets/prompt_datasets/dolly_translated_prompt_v2_clean_v1/\"\n",
    "    # \"../datasets/prompt_datasets/chip2_instruct_alpha_prompt_ru_v2_clean_v1/\"\n",
    ")"
   ]
  },
  {
   "attachments": {},
   "cell_type": "markdown",
   "metadata": {},
   "source": [
    "### english data"
   ]
  },
  {
   "cell_type": "code",
   "execution_count": 7,
   "metadata": {},
   "outputs": [],
   "source": [
    "lengths = []\n",
    "new_dataset = []\n",
    "for i, item in enumerate(dataset[\"prompt\"]):\n",
    "    is_passed = True\n",
    "    for rule in filter_rules:\n",
    "        if rule in item:\n",
    "            is_passed = False\n",
    "            break\n",
    "\n",
    "    for rule in regex_rules:\n",
    "        exists = re.search(rule, item)\n",
    "        if not exists is None:\n",
    "            is_passed = False\n",
    "            break\n",
    "\n",
    "    if is_passed:\n",
    "        for clean_rule in regex_replace:\n",
    "            item = re.sub(clean_rule[0], clean_rule[1], item)\n",
    "        # print(item)\n",
    "        new_dataset.append({\"prompt\": item})\n",
    "\n",
    "    # if not (i >= 0 and i <= 5000):\n",
    "    #     break"
   ]
  },
  {
   "cell_type": "code",
   "execution_count": 8,
   "metadata": {},
   "outputs": [
    {
     "data": {
      "text/plain": [
       "{'prompt': \"\\nHuman:\\nWhen did Virgin Australia start operating? Virgin Australia, the trading name of Virgin Australia Airlines Pty Ltd, is an Australian-based airline. It is the largest airline by fleet size to use the Virgin brand. It commenced services on 31 August 2000 as Virgin Blue, with two aircraft on a single route. It suddenly found itself as a major airline in Australia's domestic market after the collapse of Ansett Australia in September 2001. The airline has since grown to directly serve 32 cities in Australia, from hubs in Brisbane, Melbourne and Sydney.\\nAssistant:\\nVirgin Australia commenced services on 31 August 2000 as Virgin Blue, with two aircraft on a single route.\"}"
      ]
     },
     "execution_count": 8,
     "metadata": {},
     "output_type": "execute_result"
    }
   ],
   "source": [
    "new_dataset[1]"
   ]
  },
  {
   "cell_type": "code",
   "execution_count": 9,
   "metadata": {},
   "outputs": [
    {
     "name": "stderr",
     "output_type": "stream",
     "text": [
      "                                                                                                  \r"
     ]
    }
   ],
   "source": [
    "prompt_dataset = Dataset.from_list(new_dataset)\n",
    "prompt_dataset.save_to_disk(\n",
    "    # \"../datasets/prompt_datasets/openass_prompt_dataset_en_v2_clean_v2/\"\n",
    "    \"../datasets/prompt_datasets/dolly_original_prompt_v2_clean_v1/\"\n",
    "    # \"../datasets/prompt_datasets/chip2_instruct_alpha_prompt_en_v2_clean_v1/\"\n",
    ")"
   ]
  },
  {
   "cell_type": "code",
   "execution_count": null,
   "metadata": {},
   "outputs": [],
   "source": [
    "visualize_hist(lengths, \"open ass ru v2\")"
   ]
  },
  {
   "cell_type": "code",
   "execution_count": 27,
   "metadata": {},
   "outputs": [
    {
     "data": {
      "text/plain": [
       "(2363.0, 1421.0, 87715, 547.7975781845919)"
      ]
     },
     "execution_count": 27,
     "metadata": {},
     "output_type": "execute_result"
    }
   ],
   "source": [
    "(\n",
    "    np.percentile(np.array(lengths), 98),\n",
    "    np.percentile(np.array(lengths), 95),\n",
    "    np.array(lengths).max(),\n",
    "    np.array(lengths).mean(),\n",
    ")"
   ]
  },
  {
   "cell_type": "code",
   "execution_count": 16,
   "metadata": {},
   "outputs": [
    {
     "data": {
      "text/plain": [
       "(162087, 210289)"
      ]
     },
     "execution_count": 16,
     "metadata": {},
     "output_type": "execute_result"
    }
   ],
   "source": [
    "# (10774, 20976) - open assistant\n",
    "# (15950, 19238) - dolly\n",
    "# (162087, 210289) - chip2\n",
    "len(new_dataset), len(dataset)"
   ]
  },
  {
   "attachments": {},
   "cell_type": "markdown",
   "metadata": {},
   "source": [
    "## Prefix tuning"
   ]
  },
  {
   "cell_type": "code",
   "execution_count": 1,
   "metadata": {},
   "outputs": [
    {
     "name": "stderr",
     "output_type": "stream",
     "text": [
      "/home/kosenko/miniconda3/lib/python3.10/site-packages/tqdm/auto.py:22: TqdmWarning: IProgress not found. Please update jupyter and ipywidgets. See https://ipywidgets.readthedocs.io/en/stable/user_install.html\n",
      "  from .autonotebook import tqdm as notebook_tqdm\n"
     ]
    }
   ],
   "source": [
    "from typing import Any\n",
    "from transformers import AutoTokenizer\n",
    "from datasets import load_from_disk\n",
    "import re\n",
    "\n",
    "tokenizer = AutoTokenizer.from_pretrained(\"../models/tokenizers/xglm_4.5B_fix_v1\")\n",
    "\n",
    "# class XGLMFixedTokenizer(AutoTokenizer):\n",
    "#     def __call__(self, *args: Any, **kwds: Any) -> Any:\n",
    "#         return super().__call__(*args, **kwds)\n",
    "\n",
    "\n",
    "def add_special_tokens(string):\n",
    "    string = string.replace(\"\\n\", \"<new_line_token>\")\n",
    "    string = string.replace(\"\\t\", \"<tab_token>\")\n",
    "    string = string.replace(\"  \", \"<space_token><space_token>\")\n",
    "    return string\n",
    "\n",
    "\n",
    "def remove_special_tokens(string):\n",
    "    string = string.replace(\"<new_line_token>\", \"\\n\")\n",
    "    string = string.replace(\"<tab_token>\", \"\\t\")\n",
    "    string = string.replace(\"<space_token><space_token>\", \"  \")\n",
    "    return string\n",
    "\n",
    "\n",
    "def encode(text: str, special_tokens=True):\n",
    "    text = add_special_tokens(text)\n",
    "    text = tokenizer.encode(text, add_special_tokens=special_tokens)\n",
    "    return text\n",
    "\n",
    "\n",
    "def decode(tokens: list[int]):\n",
    "    tokens = tokenizer.decode(tokens)\n",
    "    tokens = remove_special_tokens(tokens)\n",
    "    return tokens\n",
    "\n",
    "\n",
    "def encode_decode(text: str, special_tokens=True):\n",
    "    return decode(encode(text, special_tokens=special_tokens))"
   ]
  },
  {
   "cell_type": "code",
   "execution_count": 2,
   "metadata": {},
   "outputs": [],
   "source": [
    "dataset = load_from_disk(\n",
    "    # \"/home/kosenko/deepspeed/DeepSpeedExamples/applications/DeepSpeed-Chat/training/step1_supervised_finetuning/datasets/prompt_datasets/dolly_translated_prompt_v2\"\n",
    "    # \"/home/kosenko/deepspeed/DeepSpeedExamples/applications/DeepSpeed-Chat/training/step1_supervised_finetuning/datasets/prompt_datasets/chip2_instruct_alpha_prompt_ru_v2\"\n",
    "    # \"/home/kosenko/deepspeed/DeepSpeedExamples/applications/DeepSpeed-Chat/training/step1_supervised_finetuning/datasets/prompt_datasets/chip2_instruct_alpha_prompt_en_v2_clean_v1\"\n",
    "    \"/home/kosenko/deepspeed/DeepSpeedExamples/applications/DeepSpeed-Chat/training/step1_supervised_finetuning/datasets/prompt_datasets/openass_prompt_dataset_ru_v2_clean_v1\"\n",
    ")"
   ]
  },
  {
   "cell_type": "code",
   "execution_count": 3,
   "metadata": {},
   "outputs": [],
   "source": [
    "# for i in range(300):\n",
    "# \titem = dataset[i][\"prompt\"]\n",
    "# \tprint(item)\n",
    "item = dataset[501][\"prompt\"]"
   ]
  },
  {
   "cell_type": "code",
   "execution_count": 4,
   "metadata": {},
   "outputs": [
    {
     "name": "stdout",
     "output_type": "stream",
     "text": [
      "</s>\n",
      " Human:\n",
      " Существуют ли только два пола?\n",
      " Assistant:\n",
      " Научное определение пола относится к социально созданным качествам женщин и мужчин. Это охватывает стандарты, поведение, межличностные взаимодействия и роли, которые ожидаются от женщины или мужчины. Пол - это социальная конструкция, которая отличается в зависимости от цивилизации и может меняться со временем. Наука до сих пор не пришла к согласию с тем, сколько полов существует.\n",
      " Human:\n",
      " Тогда почему некоторые люди говорят, что есть только два? Есть ли точное определение того, что представляет собой пол?\n",
      " Assistant:\n",
      " Убеждение, что есть только два пола, обычно основано на традиционном, бинарном взгляде на пол, который долгое время существовал во многих обществах. Этот взгляд считает, что пол связан с биологическим полом, с мужчиной и женщиной как единственными вариантами. Однако эта точка зрения не учитывает, что сложность гендерной идентичности не может быть полностью охвачена простой бинарной системой. Кроме того, некоторые люди могут не знать о различных гендерных идентичностях, которые существуют.\n",
      "\n",
      " Нет точного определения того, что представляет собой пол, так как пол - это спектр и может быть выражен различными способами. Существует много гендерных идентичностей, в том числе женская, мужская, гендерквир, трансгендерная, гендерфлюидная и небинарная, среди прочих. Каждая гендерная идентичность имеет уникальный набор характеристик, и люди могут идентифицировать себя с одной или несколькими из этих гендерных идентичностей.\n"
     ]
    }
   ],
   "source": [
    "tokens = encode(item)\n",
    "tokens = decode(tokens)\n",
    "print(tokens)"
   ]
  },
  {
   "cell_type": "code",
   "execution_count": 21,
   "metadata": {},
   "outputs": [],
   "source": [
    "def add_special_tokens(string):\n",
    "    string = string.replace(\"\\n\", \"<new_line_token>\")\n",
    "    string = string.replace(\"\\t\", \"<tab_token>\")\n",
    "    string = string.replace(\"  \", \"<space_token><space_token>\")\n",
    "    return string\n",
    "\n",
    "def remove_special_tokens(string):\n",
    "    string = string.replace(\"<new_line_token>\", \"\\n\")\n",
    "    string = string.replace(\"<tab_token>\", \"\\t\")\n",
    "    string = string.replace(\"<space_token><space_token>\", \"  \")\n",
    "    return string\n",
    "\n",
    "def encode(text: str, tokenizer, special_tokens=True, ):\n",
    "    text = add_special_tokens(text)\n",
    "    text = tokenizer.encode(text, add_special_tokens=special_tokens)\n",
    "    return text\n",
    "\n",
    "def decode(tokens: list[int], tokenizer):\n",
    "    tokens = tokenizer.decode(tokens)\n",
    "    tokens = remove_special_tokens(tokens)\n",
    "    return tokens\n",
    "\n",
    "def mask_human_prompt(input_text, tokenizer, mask_index=-100):\n",
    "    # print(input_text)\n",
    "\n",
    "\n",
    "    groups = []\n",
    "    human_regex = re.finditer(r\"\\nHuman:\", input_text)\n",
    "    assistant_regex = re.finditer(r\"Assistant:\\n\", input_text)\n",
    "    for human_label, assistant_label in zip(human_regex, assistant_regex):\n",
    "        span_start = human_label.span()\n",
    "        span_end = assistant_label.span()\n",
    "        group = input_text[span_start[0] : span_end[1]]\n",
    "        groups.append(group)\n",
    "\n",
    "    new_text = input_text\n",
    "    special_token = \"<my_special_replace_token>\"\n",
    "    for span in groups:\n",
    "        new_text = new_text.replace(span, special_token)\n",
    "\n",
    "    new_text = new_text.split(special_token)\n",
    "    new_text.pop(0)\n",
    "\n",
    "    original_text = []\n",
    "    group_index = 0\n",
    "    splitted_index = 0\n",
    "    use_special_tokens = True\n",
    "    total_texts = len(new_text) + len(groups)\n",
    "\n",
    "    for i in range(total_texts):\n",
    "        if i % 2 == 0:\n",
    "            tokens = groups[group_index]\n",
    "            # tokens = encode_decode(tokens, special_tokens=use_special_tokens)\n",
    "            tokens = encode(tokens, tokenizer=tokenizer, special_tokens=use_special_tokens)\n",
    "            tokens = [mask_index for _ in range(len(tokens))]\n",
    "            original_text.extend(tokens)\n",
    "            group_index += 1\n",
    "        else:\n",
    "            tokens = new_text[splitted_index]\n",
    "            tokens = encode(tokens, tokenizer=tokenizer, special_tokens=use_special_tokens)\n",
    "            original_text.extend(tokens)\n",
    "            splitted_index += 1\n",
    "\n",
    "        if use_special_tokens:\n",
    "            use_special_tokens = False\n",
    "\n",
    "    return original_text\n",
    "\n",
    "\n",
    "# print(decode(mask_human_prompt(item, tokenizer, mask_index=1)))\n",
    "# mask_human_prompt(item, tokenizer, mask_index=1)"
   ]
  },
  {
   "cell_type": "code",
   "execution_count": 22,
   "metadata": {},
   "outputs": [
    {
     "name": "stdout",
     "output_type": "stream",
     "text": [
      "\n",
      "Human:\n",
      "Improve the English of my following messages. Include explanations for all the changes you made and how they improve the text.\n",
      "Assistant:\n",
      "Understood. I will correct the English in the messages that you provide. Please wrap the messages that you want me to correct with <STARTand <STOPtokens. \n",
      "\n",
      "For example:\n",
      " ```User: Please fix this sentencce. <STARTshe is teh gooder runner at her school <STOP>```\n",
      "  ```Assistant: She is the best runner at her school.```\n",
      "Human:\n",
      "please fix this for me. <start>Helo im larning teh langvage english<endAssistant:\n",
      "Hello, I'm learning the language English.\n",
      "\n",
      "- Corrected the spelling of \"Helo\" to \"Hello\".\n",
      "- Changed \"im\" to \"I'm\" to use the proper contraction for \"I am\".\n",
      "- Changed \"larning\" to \"learning\" for correct spelling.\n",
      "- Corrected the spelling of \"teh\" to \"the\".\n",
      "- Capitalized \"English\" to show that it is a proper noun.\n",
      "- Added comma after \"Hello\" and a period at the end.\n",
      "torch.Size([1, 283]) torch.Size([283])\n"
     ]
    }
   ],
   "source": [
    "import torch\n",
    "\n",
    "dataset = load_from_disk(\n",
    "    \"/home/kosenko/deepspeed/DeepSpeedExamples/applications/DeepSpeed-Chat/training/step1_supervised_finetuning/datasets/prompt_datasets/openass_prompt_dataset_en_v2_clean_v1\"\n",
    ")\n",
    "item = dataset[\"prompt\"][13563]\n",
    "print(item)\n",
    "masked_tokens = mask_human_prompt(item, tokenizer, mask_index=1)\n",
    "masked_tokens = torch.tensor(masked_tokens)\n",
    "tokenizer_text = add_special_tokens(item)\n",
    "input_ids = tokenizer(tokenizer_text, return_tensors=\"pt\").input_ids\n",
    "print(input_ids.shape, masked_tokens.shape)"
   ]
  },
  {
   "cell_type": "code",
   "execution_count": 15,
   "metadata": {},
   "outputs": [
    {
     "name": "stderr",
     "output_type": "stream",
     "text": [
      "100%|██████████| 10774/10774 [00:25<00:00, 428.55it/s]\n",
      "100%|██████████| 20976/20976 [01:04<00:00, 324.18it/s]\n",
      "100%|██████████| 15950/15950 [00:28<00:00, 551.72it/s]\n",
      "100%|██████████| 162087/162087 [02:46<00:00, 970.79it/s] \n",
      "100%|██████████| 210289/210289 [03:20<00:00, 1049.06it/s]\n"
     ]
    }
   ],
   "source": [
    "from tqdm import tqdm\n",
    "\n",
    "dataset_names = [\n",
    "    \"/home/kosenko/deepspeed/DeepSpeedExamples/applications/DeepSpeed-Chat/training/step1_supervised_finetuning/datasets/prompt_datasets/openass_prompt_dataset_ru_v2_clean_v1\",\n",
    "    \"/home/kosenko/deepspeed/DeepSpeedExamples/applications/DeepSpeed-Chat/training/step1_supervised_finetuning/datasets/prompt_datasets/openass_prompt_dataset_en_v2_clean_v1\",\n",
    "    \"/home/kosenko/deepspeed/DeepSpeedExamples/applications/DeepSpeed-Chat/training/step1_supervised_finetuning/datasets/prompt_datasets/dolly_translated_prompt_v2_clean_v1\",\n",
    "    \"/home/kosenko/deepspeed/DeepSpeedExamples/applications/DeepSpeed-Chat/training/step1_supervised_finetuning/datasets/prompt_datasets/chip2_instruct_alpha_prompt_ru_v2_clean_v1\",\n",
    "    \"/home/kosenko/deepspeed/DeepSpeedExamples/applications/DeepSpeed-Chat/training/step1_supervised_finetuning/datasets/prompt_datasets/chip2_instruct_alpha_prompt_en_v2_clean_v1\",\n",
    "]\n",
    "for name in dataset_names:\n",
    "    dataset = load_from_disk(name)\n",
    "\n",
    "    for item in tqdm(dataset[\"prompt\"]):\n",
    "        # try:\n",
    "        masked_tokens = mask_human_prompt(item, tokenizer, mask_index=1)\n",
    "        masked_tokens = torch.tensor(masked_tokens)\n",
    "        tokenizer_text = add_special_tokens(item)\n",
    "        input_ids = tokenizer(tokenizer_text, return_tensors=\"pt\").input_ids\n",
    "\n",
    "        not_equal = not (\n",
    "            (input_ids[0] == masked_tokens).sum() == input_ids.shape[1]\n",
    "        ).item()\n",
    "        if not_equal:\n",
    "            print(\"NOT EQUALLLLLL\")\n",
    "            print(item)\n",
    "        # except e:\n",
    "        #     print(\"ERRRROROROROROOR\")\n",
    "        #     print(item)\n",
    "        #     break"
   ]
  },
  {
   "cell_type": "code",
   "execution_count": 51,
   "metadata": {},
   "outputs": [
    {
     "data": {
      "text/plain": [
       "True"
      ]
     },
     "execution_count": 51,
     "metadata": {},
     "output_type": "execute_result"
    }
   ],
   "source": [
    "((input_ids[0] == masked_tokens).sum() == input_ids.shape[1]).item()"
   ]
  },
  {
   "cell_type": "code",
   "execution_count": 45,
   "metadata": {},
   "outputs": [
    {
     "data": {
      "text/plain": [
       "tensor([     2, 256008,  16263,     13, 256008,   2480,   1193,   1506,  27269,\n",
       "           155,     32,   3038,     67,   8579,    495,   7828,     28, 256008,\n",
       "        112546,     13, 256008,   3573,     67,   1305,  27269,     33,  49349,\n",
       "           155, 181193,    256, 104122,      5,    268,   7564, 227889,  77370,\n",
       "         61098,     74, 159596,   1356,      6,    120,   8597,  12844,     16,\n",
       "           791,   5628,    155,   7397,  31932,   2391,  38325,  71951,    235,\n",
       "           769,      6,    801,      5,    691,    478,   1696,    351,      6,\n",
       "           120,    285,      5,    478,   1696,    611,     16,    501,      6,\n",
       "           285,    691,    691,    801,     33,      6,    243,    801,    285,\n",
       "           243,      4,     53,     32,  23717,     48, 162686,    597,     32,\n",
       "          2695,  46323,     67,     60,   5284, 175925,     72,     22,     94,\n",
       "          8714,     32,   2695,      6,    285,      4,    801,    801,    801,\n",
       "          2432,      5])"
      ]
     },
     "execution_count": 45,
     "metadata": {},
     "output_type": "execute_result"
    }
   ],
   "source": [
    "masked_tokens"
   ]
  },
  {
   "cell_type": "code",
   "execution_count": 39,
   "metadata": {},
   "outputs": [
    {
     "name": "stdout",
     "output_type": "stream",
     "text": [
      "\n",
      "Human:\n",
      "Is there any evidence that the world is getting hotter?\n",
      "Assistant:\n",
      "There is some evidence to suggest that temperatures are increasing. The Intergovernmental Panel on Climate Change (IPCC) has found that global surface air temperature increased by about 0.85°C (1.5°F) from 1880 to 2012, and the rate of warming over the last century is unprecedented in at least the last 1,000 years.\n"
     ]
    }
   ],
   "source": [
    "print(item)"
   ]
  },
  {
   "cell_type": "code",
   "execution_count": 55,
   "metadata": {},
   "outputs": [
    {
     "name": "stderr",
     "output_type": "stream",
     "text": [
      "  0%|          | 4/10774 [00:00<00:26, 404.18it/s]\n"
     ]
    }
   ],
   "source": [
    "from tqdm import tqdm\n",
    "\n",
    "dataset_names = [\n",
    "    \"/home/kosenko/deepspeed/DeepSpeedExamples/applications/DeepSpeed-Chat/training/step1_supervised_finetuning/datasets/prompt_datasets/openass_prompt_dataset_ru_v2_clean_v1\",\n",
    "    # \"/home/kosenko/deepspeed/DeepSpeedExamples/applications/DeepSpeed-Chat/training/step1_supervised_finetuning/datasets/prompt_datasets/openass_prompt_dataset_en_v2_clean_v1\",\n",
    "    # \"/home/kosenko/deepspeed/DeepSpeedExamples/applications/DeepSpeed-Chat/training/step1_supervised_finetuning/datasets/prompt_datasets/dolly_translated_prompt_v2_clean_v1\",\n",
    "    # \"/home/kosenko/deepspeed/DeepSpeedExamples/applications/DeepSpeed-Chat/training/step1_supervised_finetuning/datasets/prompt_datasets/chip2_instruct_alpha_prompt_ru_v2_clean_v1\",\n",
    "    # \"/home/kosenko/deepspeed/DeepSpeedExamples/applications/DeepSpeed-Chat/training/step1_supervised_finetuning/datasets/prompt_datasets/chip2_instruct_alpha_prompt_en_v2_clean_v1\",\n",
    "]\n",
    "for name in dataset_names:\n",
    "    dataset = load_from_disk(name)\n",
    "    for item in tqdm(dataset[\"prompt\"]):\n",
    "        # print(item)\n",
    "        result = mask_human_prompt(item, tokenizer, mask_index=1)\n",
    "        result = decode(result)\n",
    "        if \"Human:\" in result or \"Assistant:\" in result:\n",
    "            break"
   ]
  },
  {
   "cell_type": "code",
   "execution_count": 58,
   "metadata": {},
   "outputs": [
    {
     "name": "stdout",
     "output_type": "stream",
     "text": [
      "<pad><pad><pad><pad><pad><pad><pad><pad><pad><pad><pad><pad><pad><pad><pad><pad><pad><pad><pad><pad><pad><pad><pad><pad><pad><pad><pad><pad><pad><pad><pad><pad><pad><pad><pad><pad><pad><pad><pad><pad><pad><pad><pad><pad><pad><pad><pad><pad><pad><pad><pad><pad><pad><pad><pad><pad><pad><pad>\n",
      " Монопсония относится к рыночной структуре, где есть только один покупатель товара или услуги. В контексте рынков труда монопсония возникает, когда есть только один работодатель в определенной географической области или отрасли, что дает им значительную власть устанавливать заработную плату и условия труда. Исследования показали, что существование монополий может привести к снижению заработной платы и сокращению возможностей трудоустройства для работников. Например, исследование Национального бюро экономических исследований показало, что в отраслях с высоким уровнем концентрации работники получают более низкую заработную плату и с меньшей вероятностью получают льготы, такие как медицинское страхование.\n",
      " Human:\n",
      " Я бы предположил, что это похоже или даже то же самое, что \"монополия\", но я не уверен.\n",
      "\n",
      " Предполагая, что это своего рода \"конечное состояние\" конкретной отрасли или даже всей экономики, дайте мне несколько более крупных исторических примеров такого рода структуры, консолидирующейся с течением времени, и опишите, какие обстоятельства являются общими предпосылками.\n",
      " Assistant:\n",
      " Бугро умер в 1905 году, поэтому маловероятно, что кто-либо из его прямых потомков еще жив. Тем не менее, его работы по-прежнему популярны и продаются на аукционах и через арт-дилеров. Возможно, что некоторые косвенные потомки могут извлечь выгоду из продажи его работ.\n"
     ]
    }
   ],
   "source": [
    "print(result)"
   ]
  },
  {
   "cell_type": "code",
   "execution_count": 56,
   "metadata": {},
   "outputs": [
    {
     "name": "stdout",
     "output_type": "stream",
     "text": [
      "\n",
      "Human:\n",
      "Можете ли вы написать краткое введение о значении термина \"монопсония\" в экономике? Пожалуйста, используйте примеры, связанные с потенциальными монопсониями на рынке труда, и приведите соответствующие исследования.\n",
      "Assistant:\n",
      "Монопсония относится к рыночной структуре, где есть только один покупатель товара или услуги. В контексте рынков труда монопсония возникает, когда есть только один работодатель в определенной географической области или отрасли, что дает им значительную власть устанавливать заработную плату и условия труда. Исследования показали, что существование монополий может привести к снижению заработной платы и сокращению возможностей трудоустройства для работников. Например, исследование Национального бюро экономических исследований показало, что в отраслях с высоким уровнем концентрации работники получают более низкую заработную плату и с меньшей вероятностью получают льготы, такие как медицинское страхование.\n",
      "Human:\n",
      "Я бы предположил, что это похоже или даже то же самое, что \"монополия\", но я не уверен.\n",
      "\n",
      "Предполагая, что это своего рода \"конечное состояние\" конкретной отрасли или даже всей экономики, дайте мне несколько более крупных исторических примеров такого рода структуры, консолидирующейся с течением времени, и опишите, какие обстоятельства являются общими предпосылками.\n",
      "Assistant:\n",
      "Бугро умер в 1905 году, поэтому маловероятно, что кто-либо из его прямых потомков еще жив. Тем не менее, его работы по-прежнему популярны и продаются на аукционах и через арт-дилеров. Возможно, что некоторые косвенные потомки могут извлечь выгоду из продажи его работ.\n"
     ]
    }
   ],
   "source": [
    "print(item)"
   ]
  },
  {
   "cell_type": "code",
   "execution_count": 90,
   "metadata": {},
   "outputs": [
    {
     "data": {
      "text/plain": [
       "'<pad>'"
      ]
     },
     "execution_count": 90,
     "metadata": {},
     "output_type": "execute_result"
    }
   ],
   "source": [
    "decode([1])"
   ]
  }
 ],
 "metadata": {
  "kernelspec": {
   "display_name": "base",
   "language": "python",
   "name": "python3"
  },
  "language_info": {
   "codemirror_mode": {
    "name": "ipython",
    "version": 3
   },
   "file_extension": ".py",
   "mimetype": "text/x-python",
   "name": "python",
   "nbconvert_exporter": "python",
   "pygments_lexer": "ipython3",
   "version": "3.10.9"
  },
  "orig_nbformat": 4
 },
 "nbformat": 4,
 "nbformat_minor": 2
}
