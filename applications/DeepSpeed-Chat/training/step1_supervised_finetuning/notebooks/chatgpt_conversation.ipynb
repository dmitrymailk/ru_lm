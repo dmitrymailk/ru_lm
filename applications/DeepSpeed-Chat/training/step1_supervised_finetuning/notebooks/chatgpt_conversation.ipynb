{
 "cells": [
  {
   "cell_type": "code",
   "execution_count": 3,
   "metadata": {},
   "outputs": [
    {
     "name": "stdout",
     "output_type": "stream",
     "text": [
      "{\n",
      "  \"content\": \"Hello! How may I assist you today?\",\n",
      "  \"role\": \"assistant\"\n",
      "}\n"
     ]
    }
   ],
   "source": [
    "import os\n",
    "import openai\n",
    "\n",
    "openai.api_key = open(\"./chat_gpt_token\").read()\n",
    "\n",
    "completion = openai.ChatCompletion.create(\n",
    "    model=\"gpt-3.5-turbo\",\n",
    "    messages=[\n",
    "        {\"role\": \"system\", \"content\": \"You are a helpful assistant.\"},\n",
    "        {\"role\": \"user\", \"content\": \"Hello!\"},\n",
    "    ],\n",
    ")\n",
    "\n",
    "print(completion.choices[0].message)"
   ]
  },
  {
   "cell_type": "code",
   "execution_count": 1,
   "metadata": {},
   "outputs": [],
   "source": [
    "import os\n",
    "import openai\n",
    "\n",
    "\n",
    "class ChatGPTConversationAPI:\n",
    "    def __init__(\n",
    "        self,\n",
    "        api_key_path=\"./chat_gpt_token\",\n",
    "    ):\n",
    "        self.api_key = open(api_key_path).read()\n",
    "        openai.api_key = self.api_key\n",
    "        self.chat_history = []\n",
    "\n",
    "    def send_message(self, message):\n",
    "        self.chat_history.append({\"role\": \"user\", \"content\": message})\n",
    "        response = openai.ChatCompletion.create(\n",
    "            model=\"gpt-3.5-turbo\", messages=self.chat_history\n",
    "        )\n",
    "        self.chat_history.append(\n",
    "            {\"role\": \"assistant\", \"content\": response.choices[0].message.content}\n",
    "        )\n",
    "        return response.choices[0].message.content\n",
    "\n",
    "    def clear_chat_history(self):\n",
    "        self.chat_history = []"
   ]
  },
  {
   "cell_type": "code",
   "execution_count": 2,
   "metadata": {},
   "outputs": [
    {
     "name": "stdout",
     "output_type": "stream",
     "text": [
      "Hello! How can I assist you today?\n"
     ]
    }
   ],
   "source": [
    "api = ChatGPTConversationAPI(api_key_path=\"chat_gpt_token\")\n",
    "\n",
    "response = api.send_message(\"Hello!\")\n",
    "print(response)"
   ]
  },
  {
   "cell_type": "code",
   "execution_count": 3,
   "metadata": {},
   "outputs": [
    {
     "data": {
      "text/plain": [
       "'Hello! How can I help you today?'"
      ]
     },
     "execution_count": 3,
     "metadata": {},
     "output_type": "execute_result"
    }
   ],
   "source": [
    "api.send_message('replace in you previous answer \"assist\" on help')"
   ]
  },
  {
   "cell_type": "code",
   "execution_count": 4,
   "metadata": {},
   "outputs": [
    {
     "data": {
      "text/plain": [
       "[{'role': 'user', 'content': 'Hello!'},\n",
       " {'role': 'assistant', 'content': 'Hello! How can I assist you today?'},\n",
       " {'role': 'user',\n",
       "  'content': 'replace in you previous answer \"assist\" on help'},\n",
       " {'role': 'assistant', 'content': 'Hello! How can I help you today?'}]"
      ]
     },
     "execution_count": 4,
     "metadata": {},
     "output_type": "execute_result"
    }
   ],
   "source": [
    "api.chat_history"
   ]
  }
 ],
 "metadata": {
  "kernelspec": {
   "display_name": "base",
   "language": "python",
   "name": "python3"
  },
  "language_info": {
   "codemirror_mode": {
    "name": "ipython",
    "version": 3
   },
   "file_extension": ".py",
   "mimetype": "text/x-python",
   "name": "python",
   "nbconvert_exporter": "python",
   "pygments_lexer": "ipython3",
   "version": "3.10.9"
  },
  "orig_nbformat": 4
 },
 "nbformat": 4,
 "nbformat_minor": 2
}
