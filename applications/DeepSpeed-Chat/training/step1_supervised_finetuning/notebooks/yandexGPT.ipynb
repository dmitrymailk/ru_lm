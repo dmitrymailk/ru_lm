{
 "cells": [
  {
   "cell_type": "code",
   "execution_count": 1,
   "metadata": {},
   "outputs": [
    {
     "name": "stdout",
     "output_type": "stream",
     "text": [
      "/bin/bash: yc: command not found\n"
     ]
    }
   ],
   "source": [
    "!yc iam create-token"
   ]
  },
  {
   "cell_type": "code",
   "execution_count": null,
   "metadata": {},
   "outputs": [],
   "source": [
    "# https://console.cloud.yandex.ru/folders/<идентификатор_каталога>\n",
    "# https://console.cloud.yandex.ru/cloud/b1g3tb9i9jho3cgthhfj\n",
    "# https://console.cloud.yandex.ru/folders/b1g9cq6o9a8v973fhg46"
   ]
  },
  {
   "cell_type": "code",
   "execution_count": 4,
   "metadata": {},
   "outputs": [
    {
     "data": {
      "text/plain": [
       "'Привет, друзья! Недавно я побывал на Гавайях и хочу поделиться с вами своими впечатлениями о путешествии.\\n\\nГавайи - это настоящий рай на земле, где можно насладиться потрясающими природными пейзажами, прекрасными пляжами и удивительными культурными событиями. Я посетил несколько основных достопримечательностей, которые обязательно стоит посетить, и нашел множество интересных культурных мероприятий, которые стоит попробовать.\\n\\nПервым делом я посетил знаменитую вулканическую гору Мауна-Кеа, которая является самой высокой точкой на Гавайских островах. С вершины горы открывается потрясающий вид на океан и окружающие острова. Также я посетил национальный парк Вайкики, где можно увидеть множество видов птиц и животных, а также насладиться красивыми пляжами.\\n\\nОдним из самых интересных культурных событий, которое я посетил, был'"
      ]
     },
     "execution_count": 4,
     "metadata": {},
     "output_type": "execute_result"
    }
   ],
   "source": [
    "import requests\n",
    "import pprint\n",
    "import json\n",
    "\n",
    "token = open(\"./yandex_gpt_token\").read().strip()\n",
    "headers = {\n",
    "    \"Authorization\": f\"Bearer {token}\",\n",
    "    \"x-folder-id\": \"b1g9cq6o9a8v973fhg46\",\n",
    "}\n",
    "\n",
    "instruction_1 = \"Напишите интересный пост в блоге о путешествиях о недавней поездке на Гавайи, рассказав о культурных событиях и достопримечательностях, которые обязательно нужно посетить.\"\n",
    "instruction_2 = (\n",
    "    \"Перепишите свой предыдущий ответ. Начните каждое предложение с буквы А.\"\n",
    ")\n",
    "\n",
    "data = {\n",
    "    \"model\": \"general\",\n",
    "    \"generationOptions\": {\n",
    "        \"partialResults\": False,\n",
    "        \"temperature\": 0.6,\n",
    "        \"maxTokens\": 2000,\n",
    "    },\n",
    "    \"instructionText\": instruction_1,\n",
    "}\n",
    "\n",
    "result = requests.post(\n",
    "    \"https://llm.api.cloud.yandex.net/llm/v1alpha/instruct\",\n",
    "    headers=headers,\n",
    "    data=json.dumps(data),\n",
    ")\n",
    "# \"requestText\": \"string\",\n",
    "\n",
    "# pprint.pprint(result.content)\n",
    "text = result.json()\n",
    "text = text[\"result\"][\"alternatives\"][0][\"text\"]\n",
    "text"
   ]
  },
  {
   "cell_type": "code",
   "execution_count": 23,
   "metadata": {},
   "outputs": [
    {
     "name": "stdout",
     "output_type": "stream",
     "text": [
      "Путешествие на Гавайские острова - это настоящее приключение, которое оставит незабываемые впечатления на всю жизнь. Здесь можно насладиться красотой природы, попробовать местную кухню и познакомиться с культурой острова.\n",
      "\n",
      "Одной из главных достопримечательностей Гавайев является гора Мауна-Кеа. Это самая высокая гора на планете, которая возвышается на 4205 метров над уровнем моря. На вершине горы находится кратер, который был образован в результате извержения вулкана. С вершины открывается потрясающий вид на океан и остров Оаху.\n",
      "\n",
      "Еще одной интересной достопримечательностью является национальный парк Халеакала. Это вулкан, который до сих пор извергается и считается одним из самых активных вулканов в мире. На территории парка можно увидеть множество гейзеров и горячих источников, которые привлекают туристов со всего мира.\n",
      "\n",
      "На острове Оаху можно посетить музей искусств Гавайев, который является одним из крупнейших музеев в стране. В музее представлены работы местных художников, а также произведения искусства со всего мира. Кроме того, на острове есть множество пляжей, где можно отдохнуть и насладиться красотой океана.\n",
      "\n",
      "Но самое главное, что нужно сделать во время поездки на Гавайи - это попробовать местную кухню. Здесь можно попробовать множество блюд из рыбы, морепродуктов и фруктов. Особенно стоит попробовать блюда из авокадо, ананаса и папайи.\n"
     ]
    }
   ],
   "source": [
    "print(text)"
   ]
  },
  {
   "cell_type": "code",
   "execution_count": 2,
   "metadata": {},
   "outputs": [],
   "source": [
    "class YandexGPTAPI:\n",
    "    def __init__(\n",
    "        self,\n",
    "        creds_path=\"./yandexGPT.json\",\n",
    "        generation_config_path=\"./yandexGPT_generation_params.json\",\n",
    "    ) -> None:\n",
    "        self.creds_path = creds_path\n",
    "        self.generation_config_path = generation_config_path\n",
    "\n",
    "        self.headers = json.loads(open(self.creds_path).read())\n",
    "        self.generation_config = json.loads(open(self.generation_config_path).read())\n",
    "\n",
    "        self.chat_history = []\n",
    "\n",
    "    def send_instruct(\n",
    "        self,\n",
    "        message: str,\n",
    "    ):\n",
    "        data = {\n",
    "            \"model\": \"general\",\n",
    "            \"generationOptions\": self.generation_config,\n",
    "            \"instructionText\": message,\n",
    "        }\n",
    "\n",
    "        result = requests.post(\n",
    "            \"https://llm.api.cloud.yandex.net/llm/v1alpha/instruct\",\n",
    "            headers=self.headers,\n",
    "            data=json.dumps(data),\n",
    "        )\n",
    "        text = result.json()\n",
    "        text = text[\"result\"][\"alternatives\"][0][\"text\"]\n",
    "        return text\n",
    "\n",
    "    def send_chat(self, message: str):\n",
    "        new_message = {\n",
    "            \"role\": \"user\",\n",
    "            \"text\": message,\n",
    "        }\n",
    "        self.chat_history.append(new_message)\n",
    "\n",
    "        data = {\n",
    "            \"model\": \"general\",\n",
    "            \"generationOptions\": self.generation_config,\n",
    "            \"messages\": self.chat_history,\n",
    "        }\n",
    "\n",
    "        result = requests.post(\n",
    "            \"https://llm.api.cloud.yandex.net/llm/v1alpha/chat\",\n",
    "            headers=self.headers,\n",
    "            data=json.dumps(data),\n",
    "        )\n",
    "        text = result.json()\n",
    "        new_message = text[\"result\"][\"message\"]\n",
    "        text = text[\"result\"][\"message\"][\"text\"]\n",
    "        self.chat_history.append(new_message)\n",
    "        return text\n",
    "\n",
    "    def clear_chat(self):\n",
    "        self.chat_history = []"
   ]
  },
  {
   "cell_type": "code",
   "execution_count": null,
   "metadata": {},
   "outputs": [],
   "source": [
    "instruct_model = YandexGPTAPI()\n",
    "text = instruct_model.send_instruct(message=instruction_1)\n",
    "\n",
    "print(text)"
   ]
  },
  {
   "cell_type": "markdown",
   "metadata": {},
   "source": [
    "### chat\n"
   ]
  },
  {
   "cell_type": "code",
   "execution_count": 5,
   "metadata": {},
   "outputs": [
    {
     "name": "stdout",
     "output_type": "stream",
     "text": [
      "Конечно, вот пять отмеченных наград документальных фильмов, которые могут быть полезны начинающим кинематографистам:\n",
      "\n",
      "1. \"Жизнь в розовом цвете\" (2007) - документальный фильм о жизни и карьере певицы Эдит Пиаф. В нем рассказывается о ее детстве, юности, карьере и личной жизни. Фильм получил множество наград, включая \"Оскар\" за лучший документальный фильм.\n",
      "\n",
      "2. \"Секс, ложь и видео\" (2011) - документальный фильм об истории и эволюции порнографии. Он рассказывает о том, как порнография стала популярной в США и как она изменила общество. Фильм получил награду \"Эмми\" за лучшую документальную программу.\n",
      "\n",
      "3. \"Пешком по Луне\" (\n",
      "---\n"
     ]
    }
   ],
   "source": [
    "instruct_model = YandexGPTAPI()\n",
    "instructions = [\n",
    "    # \"Напишите настойчивое электронное письмо, чтобы убедить вашего друга интроверта, который не любит публичные выступления, добровольно выступить в качестве приглашенного докладчика на местном мероприятии. Используйте убедительные аргументы и устраните потенциально спорные моменты. Пожалуйста, будьте кратки.\",\n",
    "    # \"Можете ли вы перефразировать свой предыдущий ответ и включить метафору или сравнение в каждое предложение?\"\n",
    "    # \"Напишите абзац с описанием шумного рынка, включающий детали, такие как запахи, звуки и визуальные элементы, чтобы создать захватывающий опыт для читателя.\",\n",
    "    # \"Переработайте свой предыдущий ответ. Начните каждое предложение с последующей буквы алфавита, начиная с B.\",\n",
    "    \"Предложите пять отмеченных наградами документальных фильмов с краткими справочными описаниями для начинающих кинематографистов для изучения.\"\n",
    "]\n",
    "\n",
    "for item in instructions:\n",
    "    text = instruct_model.send_chat(message=item)\n",
    "    # print(instruct_model.chat_history)\n",
    "    print(text)\n",
    "    print(\"---\")"
   ]
  }
 ],
 "metadata": {
  "kernelspec": {
   "display_name": "base",
   "language": "python",
   "name": "python3"
  },
  "language_info": {
   "codemirror_mode": {
    "name": "ipython",
    "version": 3
   },
   "file_extension": ".py",
   "mimetype": "text/x-python",
   "name": "python",
   "nbconvert_exporter": "python",
   "pygments_lexer": "ipython3",
   "version": "3.10.9"
  },
  "orig_nbformat": 4
 },
 "nbformat": 4,
 "nbformat_minor": 2
}
